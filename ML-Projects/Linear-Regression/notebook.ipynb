{
 "cells": [
  {
   "cell_type": "markdown",
   "id": "4da7d895",
   "metadata": {},
   "source": [
    "# Linear Regression on a Dataset"
   ]
  },
  {
   "cell_type": "code",
   "execution_count": 4,
   "id": "d108d121",
   "metadata": {},
   "outputs": [
    {
     "name": "stdout",
     "output_type": "stream",
     "text": [
      "Predictions:  [39285.71428571]\n",
      "MSE:  18367346.938775484\n"
     ]
    }
   ],
   "source": [
    "from sklearn.linear_model import LinearRegression\n",
    "from sklearn.model_selection import train_test_split\n",
    "from sklearn.metrics import mean_squared_error\n",
    "import pandas as pd\n",
    "\n",
    "# sample data\n",
    "data = {\n",
    "    \"Experience\" : [1, 2, 3, 4,5],\n",
    "    \"Salary\" : [30000, 35000, 50000, 55000, 60000]\n",
    "}\n",
    "df = pd.DataFrame(data)\n",
    "\n",
    "x = df[['Experience']]\n",
    "y = df['Salary']\n",
    "\n",
    "x_train, x_test, y_train, y_test = train_test_split(x, y, test_size=0.2)\n",
    "\n",
    "model = LinearRegression()\n",
    "model.fit(x_train, y_train)\n",
    "predictions = model.predict(x_test)\n",
    "\n",
    "print(\"Predictions: \", predictions)\n",
    "print(\"MSE: \", mean_squared_error(y_test, predictions))"
   ]
  },
  {
   "cell_type": "code",
   "execution_count": null,
   "id": "91f07f7e",
   "metadata": {},
   "outputs": [],
   "source": []
  }
 ],
 "metadata": {
  "kernelspec": {
   "display_name": "base",
   "language": "python",
   "name": "python3"
  },
  "language_info": {
   "codemirror_mode": {
    "name": "ipython",
    "version": 3
   },
   "file_extension": ".py",
   "mimetype": "text/x-python",
   "name": "python",
   "nbconvert_exporter": "python",
   "pygments_lexer": "ipython3",
   "version": "3.12.3"
  }
 },
 "nbformat": 4,
 "nbformat_minor": 5
}
