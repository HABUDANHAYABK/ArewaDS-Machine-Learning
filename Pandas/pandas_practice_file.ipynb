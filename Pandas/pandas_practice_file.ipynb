{
 "cells": [
  {
   "cell_type": "markdown",
   "id": "4604b05f",
   "metadata": {},
   "source": [
    "# PANDAS PRACTICE FILE"
   ]
  }
 ],
 "metadata": {
  "language_info": {
   "name": "python"
  }
 },
 "nbformat": 4,
 "nbformat_minor": 5
}
