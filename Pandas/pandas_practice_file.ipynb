{
 "cells": [
  {
   "cell_type": "markdown",
   "id": "4604b05f",
   "metadata": {},
   "source": [
    "# PANDAS \n",
    "\n",
    "### Getting Started with pandas\n",
    "\n",
    "Pandas will be a major tool of interest, it contains data structures and data manipulation tools designed to make data cleaning and analysis fast and convenient in python.\n",
    "\n",
    "### Series\n",
    "\n",
    "A Series is a one-dimensional array-like object containing a sequence of values (of similar types to Numpytypes) of the same type and an associated array of data labels, called its **_index_.**"
   ]
  },
  {
   "cell_type": "code",
   "execution_count": 2,
   "id": "479f0168",
   "metadata": {},
   "outputs": [
    {
     "name": "stdout",
     "output_type": "stream",
     "text": [
      "0    4\n",
      "1    5\n",
      "2    6\n",
      "3    7\n",
      "dtype: int64\n"
     ]
    }
   ],
   "source": [
    "import numpy as np\n",
    "import pandas as pd\n",
    "\n",
    "obj = pd.Series([4, 5, 6, 7,])\n",
    "print(obj)"
   ]
  },
  {
   "cell_type": "markdown",
   "id": "a1a98944",
   "metadata": {},
   "source": [
    "you'll want to create a series with an index identifying each data point with a label."
   ]
  },
  {
   "cell_type": "code",
   "execution_count": 4,
   "id": "96759254",
   "metadata": {},
   "outputs": [
    {
     "name": "stdout",
     "output_type": "stream",
     "text": [
      "a    2\n",
      "b    3\n",
      "c    4\n",
      "d    5\n",
      "e    6\n",
      "dtype: int64\n"
     ]
    }
   ],
   "source": [
    "obj2 = pd.Series([2, 3, 4, 5, 6,], index=['a', 'b', 'c', 'd', 'e'])\n",
    "print(obj2)"
   ]
  },
  {
   "cell_type": "code",
   "execution_count": 5,
   "id": "e315548a",
   "metadata": {},
   "outputs": [
    {
     "data": {
      "application/vnd.microsoft.datawrangler.viewer.v0+json": {
       "columns": [
        {
         "name": "index",
         "rawType": "object",
         "type": "string"
        },
        {
         "name": "0",
         "rawType": "float64",
         "type": "float"
        }
       ],
       "ref": "94a9b00c-9c8b-4351-8e4f-b913c0afa7fb",
       "rows": [
        [
         "a",
         "7.38905609893065"
        ],
        [
         "b",
         "20.085536923187668"
        ],
        [
         "c",
         "54.598150033144236"
        ],
        [
         "d",
         "148.4131591025766"
        ],
        [
         "e",
         "403.4287934927351"
        ]
       ],
       "shape": {
        "columns": 1,
        "rows": 5
       }
      },
      "text/plain": [
       "a      7.389056\n",
       "b     20.085537\n",
       "c     54.598150\n",
       "d    148.413159\n",
       "e    403.428793\n",
       "dtype: float64"
      ]
     },
     "execution_count": 5,
     "metadata": {},
     "output_type": "execute_result"
    }
   ],
   "source": [
    "np.exp(obj2)"
   ]
  },
  {
   "cell_type": "code",
   "execution_count": 6,
   "id": "793e414f",
   "metadata": {},
   "outputs": [
    {
     "data": {
      "text/plain": [
       "True"
      ]
     },
     "execution_count": 6,
     "metadata": {},
     "output_type": "execute_result"
    }
   ],
   "source": [
    "\"e\" in obj2"
   ]
  },
  {
   "cell_type": "markdown",
   "id": "7bf51321",
   "metadata": {},
   "source": [
    "A Series can be converted back to a dictionary with  its to_dict method:"
   ]
  },
  {
   "cell_type": "code",
   "execution_count": 7,
   "id": "0913d3fa",
   "metadata": {},
   "outputs": [
    {
     "name": "stdout",
     "output_type": "stream",
     "text": [
      "Ohia       3500\n",
      "Texas     71000\n",
      "oregon    16000\n",
      "utah       5000\n",
      "dtype: int64\n"
     ]
    }
   ],
   "source": [
    "sdata = {'Ohia': 3500, 'Texas': 71000, 'oregon': 16000, 'utah': 5000}\n",
    "obj3 = pd.Series(sdata)\n",
    "print(obj3)"
   ]
  },
  {
   "cell_type": "code",
   "execution_count": 9,
   "id": "e9933002",
   "metadata": {},
   "outputs": [
    {
     "data": {
      "text/plain": [
       "{'Ohia': 3500, 'Texas': 71000, 'oregon': 16000, 'utah': 5000}"
      ]
     },
     "execution_count": 9,
     "metadata": {},
     "output_type": "execute_result"
    }
   ],
   "source": [
    "obj3.to_dict()"
   ]
  },
  {
   "cell_type": "markdown",
   "id": "f17ec15a",
   "metadata": {},
   "source": [
    "### DataFrame\n",
    "\n",
    "A DataFrame represents a rectangle table of data and contains an ordered, named, collection of columns, each of which can be a different value type (numeric, string, boolean, etc). The DataFrame has both a row and column index; it can be thought of as a dictionary of Series all sharing the same index. "
   ]
  },
  {
   "cell_type": "code",
   "execution_count": 10,
   "id": "2dee7893",
   "metadata": {},
   "outputs": [
    {
     "name": "stdout",
     "output_type": "stream",
     "text": [
      "    state  year  pop\n",
      "0    Ohia  2000  1.5\n",
      "1    Ohia  2001  1.7\n",
      "2    Ohia  2002  3.6\n",
      "3  Nevada  2003  2.4\n",
      "4  Nevada  2004  2.9\n",
      "5  Nevada  2005  3.2\n"
     ]
    }
   ],
   "source": [
    "data = {\n",
    "    'state': ['Ohia', 'Ohia', 'Ohia', 'Nevada', 'Nevada', 'Nevada'],\n",
    "    'year': [2000, 2001, 2002, 2003, 2004, 2005],\n",
    "    'pop': [1.5, 1.7, 3.6, 2.4, 2.9, 3.2]\n",
    "}\n",
    "frame = pd.DataFrame(data)\n",
    "print(frame)"
   ]
  },
  {
   "cell_type": "code",
   "execution_count": 11,
   "id": "dc0f73c5",
   "metadata": {},
   "outputs": [
    {
     "data": {
      "application/vnd.microsoft.datawrangler.viewer.v0+json": {
       "columns": [
        {
         "name": "index",
         "rawType": "int64",
         "type": "integer"
        },
        {
         "name": "year",
         "rawType": "int64",
         "type": "integer"
        },
        {
         "name": "state",
         "rawType": "object",
         "type": "string"
        },
        {
         "name": "pop",
         "rawType": "float64",
         "type": "float"
        }
       ],
       "ref": "91a283a5-c879-4d16-a3d4-e0d54e5d13bc",
       "rows": [
        [
         "0",
         "2000",
         "Ohia",
         "1.5"
        ],
        [
         "1",
         "2001",
         "Ohia",
         "1.7"
        ],
        [
         "2",
         "2002",
         "Ohia",
         "3.6"
        ],
        [
         "3",
         "2003",
         "Nevada",
         "2.4"
        ],
        [
         "4",
         "2004",
         "Nevada",
         "2.9"
        ],
        [
         "5",
         "2005",
         "Nevada",
         "3.2"
        ]
       ],
       "shape": {
        "columns": 3,
        "rows": 6
       }
      },
      "text/html": [
       "<div>\n",
       "<style scoped>\n",
       "    .dataframe tbody tr th:only-of-type {\n",
       "        vertical-align: middle;\n",
       "    }\n",
       "\n",
       "    .dataframe tbody tr th {\n",
       "        vertical-align: top;\n",
       "    }\n",
       "\n",
       "    .dataframe thead th {\n",
       "        text-align: right;\n",
       "    }\n",
       "</style>\n",
       "<table border=\"1\" class=\"dataframe\">\n",
       "  <thead>\n",
       "    <tr style=\"text-align: right;\">\n",
       "      <th></th>\n",
       "      <th>year</th>\n",
       "      <th>state</th>\n",
       "      <th>pop</th>\n",
       "    </tr>\n",
       "  </thead>\n",
       "  <tbody>\n",
       "    <tr>\n",
       "      <th>0</th>\n",
       "      <td>2000</td>\n",
       "      <td>Ohia</td>\n",
       "      <td>1.5</td>\n",
       "    </tr>\n",
       "    <tr>\n",
       "      <th>1</th>\n",
       "      <td>2001</td>\n",
       "      <td>Ohia</td>\n",
       "      <td>1.7</td>\n",
       "    </tr>\n",
       "    <tr>\n",
       "      <th>2</th>\n",
       "      <td>2002</td>\n",
       "      <td>Ohia</td>\n",
       "      <td>3.6</td>\n",
       "    </tr>\n",
       "    <tr>\n",
       "      <th>3</th>\n",
       "      <td>2003</td>\n",
       "      <td>Nevada</td>\n",
       "      <td>2.4</td>\n",
       "    </tr>\n",
       "    <tr>\n",
       "      <th>4</th>\n",
       "      <td>2004</td>\n",
       "      <td>Nevada</td>\n",
       "      <td>2.9</td>\n",
       "    </tr>\n",
       "    <tr>\n",
       "      <th>5</th>\n",
       "      <td>2005</td>\n",
       "      <td>Nevada</td>\n",
       "      <td>3.2</td>\n",
       "    </tr>\n",
       "  </tbody>\n",
       "</table>\n",
       "</div>"
      ],
      "text/plain": [
       "   year   state  pop\n",
       "0  2000    Ohia  1.5\n",
       "1  2001    Ohia  1.7\n",
       "2  2002    Ohia  3.6\n",
       "3  2003  Nevada  2.4\n",
       "4  2004  Nevada  2.9\n",
       "5  2005  Nevada  3.2"
      ]
     },
     "execution_count": 11,
     "metadata": {},
     "output_type": "execute_result"
    }
   ],
   "source": [
    "pd.DataFrame(data, columns=['year', 'state', 'pop'])"
   ]
  },
  {
   "cell_type": "code",
   "execution_count": 12,
   "id": "a2a968e7",
   "metadata": {},
   "outputs": [
    {
     "data": {
      "application/vnd.microsoft.datawrangler.viewer.v0+json": {
       "columns": [
        {
         "name": "index",
         "rawType": "object",
         "type": "string"
        },
        {
         "name": "1",
         "rawType": "object",
         "type": "unknown"
        }
       ],
       "ref": "c92dbde0-25c8-48b2-b1e2-e4eba6d07576",
       "rows": [
        [
         "state",
         "Ohia"
        ],
        [
         "year",
         "2001"
        ],
        [
         "pop",
         "1.7"
        ]
       ],
       "shape": {
        "columns": 1,
        "rows": 3
       }
      },
      "text/plain": [
       "state    Ohia\n",
       "year     2001\n",
       "pop       1.7\n",
       "Name: 1, dtype: object"
      ]
     },
     "execution_count": 12,
     "metadata": {},
     "output_type": "execute_result"
    }
   ],
   "source": [
    "frame.loc[1]"
   ]
  },
  {
   "cell_type": "code",
   "execution_count": 13,
   "id": "be8c2fd8",
   "metadata": {},
   "outputs": [
    {
     "data": {
      "application/vnd.microsoft.datawrangler.viewer.v0+json": {
       "columns": [
        {
         "name": "index",
         "rawType": "object",
         "type": "string"
        },
        {
         "name": "2",
         "rawType": "object",
         "type": "unknown"
        }
       ],
       "ref": "064564d7-4f2c-42a3-9aa4-7a6e575e7dd2",
       "rows": [
        [
         "state",
         "Ohia"
        ],
        [
         "year",
         "2002"
        ],
        [
         "pop",
         "3.6"
        ]
       ],
       "shape": {
        "columns": 1,
        "rows": 3
       }
      },
      "text/plain": [
       "state    Ohia\n",
       "year     2002\n",
       "pop       3.6\n",
       "Name: 2, dtype: object"
      ]
     },
     "execution_count": 13,
     "metadata": {},
     "output_type": "execute_result"
    }
   ],
   "source": [
    "frame.iloc[2]"
   ]
  },
  {
   "cell_type": "code",
   "execution_count": null,
   "id": "16a0383a",
   "metadata": {},
   "outputs": [],
   "source": []
  }
 ],
 "metadata": {
  "kernelspec": {
   "display_name": "base",
   "language": "python",
   "name": "python3"
  },
  "language_info": {
   "codemirror_mode": {
    "name": "ipython",
    "version": 3
   },
   "file_extension": ".py",
   "mimetype": "text/x-python",
   "name": "python",
   "nbconvert_exporter": "python",
   "pygments_lexer": "ipython3",
   "version": "3.12.3"
  }
 },
 "nbformat": 4,
 "nbformat_minor": 5
}
