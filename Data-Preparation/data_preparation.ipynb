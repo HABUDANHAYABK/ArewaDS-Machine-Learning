{
 "cells": [
  {
   "cell_type": "markdown",
   "id": "a2c3ad4e",
   "metadata": {},
   "source": [
    "# DATA PREPARATION\n",
    "\n",
    "## Exploring `DataFrame` informations\n",
    "\n",
    "> **Learning goals:** By the end of this subsections, you'll be comfortable for finding general information in a `DataFrame`.\n",
    "\n",
    "We will import the Python scikit-learn library and use an iconic dataset that every data scientist has seen hundreds of times: British biologist Ronald Fisher's *Iris* data set used in his 1936 paper \"The use of multiple measurements in taxonomic problems\":"
   ]
  },
  {
   "cell_type": "code",
   "execution_count": 5,
   "id": "316ca789",
   "metadata": {},
   "outputs": [
    {
     "name": "stderr",
     "output_type": "stream",
     "text": [
      "ERROR: unknown command \"scikit-learn\"\n",
      "\n"
     ]
    }
   ],
   "source": [
    "import sys\n",
    "!{sys.executable} -m pip scikit-learn"
   ]
  },
  {
   "cell_type": "code",
   "execution_count": 9,
   "id": "77a51d8b",
   "metadata": {},
   "outputs": [],
   "source": [
    "import pandas as pd\n",
    "from sklearn.datasets import load_iris\n",
    "\n",
    "iris = load_iris()\n",
    "iris_df = pd.DataFrame(data=iris['data'], columns=iris['feature_names'])\n",
    "\n",
    "\n"
   ]
  },
  {
   "cell_type": "markdown",
   "id": "d1847891",
   "metadata": {},
   "source": [
    "### `DataFrame.shape`\n",
    "\n",
    "Knowing the shape of the `DataFrame` is super-important because it revealed the volume of the dataset you are working with. To explore the shape of a `DataFrame` you can use `DataFrame.shape` method\n",
    "\n",
    "```python\n",
    "df.shape\n",
    "```"
   ]
  },
  {
   "cell_type": "code",
   "execution_count": 10,
   "id": "807ee0c8",
   "metadata": {},
   "outputs": [
    {
     "data": {
      "text/plain": [
       "(150, 4)"
      ]
     },
     "execution_count": 10,
     "metadata": {},
     "output_type": "execute_result"
    }
   ],
   "source": [
    "iris_df.shape"
   ]
  },
  {
   "cell_type": "markdown",
   "id": "5a9c4e96",
   "metadata": {},
   "source": [
    "Iris dataset has 150 rows and 4 columns"
   ]
  },
  {
   "cell_type": "markdown",
   "id": "e87f868d",
   "metadata": {},
   "source": [
    "### `DataFrame.columns`\n",
    "\n",
    "Since the Iris dataset has 4 columns, we can dive to know the title of the columns using `DataFrame.columns`.\n",
    "```python\n",
    "df.columns\n",
    "```"
   ]
  },
  {
   "cell_type": "code",
   "execution_count": 12,
   "id": "4d5340b2",
   "metadata": {},
   "outputs": [
    {
     "data": {
      "text/plain": [
       "Index(['sepal length (cm)', 'sepal width (cm)', 'petal length (cm)',\n",
       "       'petal width (cm)'],\n",
       "      dtype='object')"
      ]
     },
     "execution_count": 12,
     "metadata": {},
     "output_type": "execute_result"
    }
   ],
   "source": [
    "iris_df.columns"
   ]
  },
  {
   "cell_type": "markdown",
   "id": "dcef5498",
   "metadata": {},
   "source": [
    "### `DataFrame.info`\n",
    "\n",
    "`DataFrame.info()` gives more features than the combine of the above methods. It gives details of the dataset including: \n",
    "columns name, missing data, data type and memory usage\n"
   ]
  },
  {
   "cell_type": "code",
   "execution_count": 13,
   "id": "37a4ac8e",
   "metadata": {},
   "outputs": [
    {
     "name": "stdout",
     "output_type": "stream",
     "text": [
      "<class 'pandas.core.frame.DataFrame'>\n",
      "RangeIndex: 150 entries, 0 to 149\n",
      "Data columns (total 4 columns):\n",
      " #   Column             Non-Null Count  Dtype  \n",
      "---  ------             --------------  -----  \n",
      " 0   sepal length (cm)  150 non-null    float64\n",
      " 1   sepal width (cm)   150 non-null    float64\n",
      " 2   petal length (cm)  150 non-null    float64\n",
      " 3   petal width (cm)   150 non-null    float64\n",
      "dtypes: float64(4)\n",
      "memory usage: 4.8 KB\n"
     ]
    }
   ],
   "source": [
    "iris_df.info()"
   ]
  },
  {
   "cell_type": "code",
   "execution_count": null,
   "id": "dcc3c9fc",
   "metadata": {},
   "outputs": [],
   "source": []
  }
 ],
 "metadata": {
  "kernelspec": {
   "display_name": "base",
   "language": "python",
   "name": "python3"
  },
  "language_info": {
   "codemirror_mode": {
    "name": "ipython",
    "version": 3
   },
   "file_extension": ".py",
   "mimetype": "text/x-python",
   "name": "python",
   "nbconvert_exporter": "python",
   "pygments_lexer": "ipython3",
   "version": "3.12.3"
  }
 },
 "nbformat": 4,
 "nbformat_minor": 5
}
