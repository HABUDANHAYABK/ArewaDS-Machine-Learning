{
 "cells": [
  {
   "cell_type": "markdown",
   "id": "d9f68b0c",
   "metadata": {},
   "source": [
    "# World Population Dataset\n",
    "\n",
    "_This dataset was downloaded in [Kaggle](https://kaggle.com/dataset)_.\n",
    "\n",
    "## `Dataset`\n",
    "The world population dataset has the following labels\n",
    "* _Rank, CCA3,  Country/Territory, Capital, Continent, 2022 Population, 2020 Population, 2015 Population, 2010 Population, 2000 Population, 1990 Population, 1980 Population, 1970 Population, Area (km²), Density (per km²), Growth Rate and World Population Percentage._"
   ]
  },
  {
   "cell_type": "code",
   "execution_count": 3,
   "id": "337e42f1",
   "metadata": {},
   "outputs": [
    {
     "data": {
      "application/vnd.microsoft.datawrangler.viewer.v0+json": {
       "columns": [
        {
         "name": "index",
         "rawType": "int64",
         "type": "integer"
        },
        {
         "name": "Rank",
         "rawType": "int64",
         "type": "integer"
        },
        {
         "name": "CCA3",
         "rawType": "object",
         "type": "string"
        },
        {
         "name": "Country/Territory",
         "rawType": "object",
         "type": "string"
        },
        {
         "name": "Capital",
         "rawType": "object",
         "type": "string"
        },
        {
         "name": "Continent",
         "rawType": "object",
         "type": "string"
        },
        {
         "name": "2022 Population",
         "rawType": "int64",
         "type": "integer"
        },
        {
         "name": "2020 Population",
         "rawType": "int64",
         "type": "integer"
        },
        {
         "name": "2015 Population",
         "rawType": "int64",
         "type": "integer"
        },
        {
         "name": "2010 Population",
         "rawType": "int64",
         "type": "integer"
        },
        {
         "name": "2000 Population",
         "rawType": "int64",
         "type": "integer"
        },
        {
         "name": "1990 Population",
         "rawType": "int64",
         "type": "integer"
        },
        {
         "name": "1980 Population",
         "rawType": "int64",
         "type": "integer"
        },
        {
         "name": "1970 Population",
         "rawType": "int64",
         "type": "integer"
        },
        {
         "name": "Area (km²)",
         "rawType": "int64",
         "type": "integer"
        },
        {
         "name": "Density (per km²)",
         "rawType": "float64",
         "type": "float"
        },
        {
         "name": "Growth Rate",
         "rawType": "float64",
         "type": "float"
        },
        {
         "name": "World Population Percentage",
         "rawType": "float64",
         "type": "float"
        }
       ],
       "ref": "2210da23-8ae6-472f-894e-b3dcfdd906d1",
       "rows": [
        [
         "0",
         "36",
         "AFG",
         "Afghanistan",
         "Kabul",
         "Asia",
         "41128771",
         "38972230",
         "33753499",
         "28189672",
         "19542982",
         "10694796",
         "12486631",
         "10752971",
         "652230",
         "63.0587",
         "1.0257",
         "0.52"
        ],
        [
         "1",
         "138",
         "ALB",
         "Albania",
         "Tirana",
         "Europe",
         "2842321",
         "2866849",
         "2882481",
         "2913399",
         "3182021",
         "3295066",
         "2941651",
         "2324731",
         "28748",
         "98.8702",
         "0.9957",
         "0.04"
        ],
        [
         "2",
         "34",
         "DZA",
         "Algeria",
         "Algiers",
         "Africa",
         "44903225",
         "43451666",
         "39543154",
         "35856344",
         "30774621",
         "25518074",
         "18739378",
         "13795915",
         "2381741",
         "18.8531",
         "1.0164",
         "0.56"
        ],
        [
         "3",
         "213",
         "ASM",
         "American Samoa",
         "Pago Pago",
         "Oceania",
         "44273",
         "46189",
         "51368",
         "54849",
         "58230",
         "47818",
         "32886",
         "27075",
         "199",
         "222.4774",
         "0.9831",
         "0.0"
        ],
        [
         "4",
         "203",
         "AND",
         "Andorra",
         "Andorra la Vella",
         "Europe",
         "79824",
         "77700",
         "71746",
         "71519",
         "66097",
         "53569",
         "35611",
         "19860",
         "468",
         "170.5641",
         "1.01",
         "0.0"
        ]
       ],
       "shape": {
        "columns": 17,
        "rows": 5
       }
      },
      "text/html": [
       "<div>\n",
       "<style scoped>\n",
       "    .dataframe tbody tr th:only-of-type {\n",
       "        vertical-align: middle;\n",
       "    }\n",
       "\n",
       "    .dataframe tbody tr th {\n",
       "        vertical-align: top;\n",
       "    }\n",
       "\n",
       "    .dataframe thead th {\n",
       "        text-align: right;\n",
       "    }\n",
       "</style>\n",
       "<table border=\"1\" class=\"dataframe\">\n",
       "  <thead>\n",
       "    <tr style=\"text-align: right;\">\n",
       "      <th></th>\n",
       "      <th>Rank</th>\n",
       "      <th>CCA3</th>\n",
       "      <th>Country/Territory</th>\n",
       "      <th>Capital</th>\n",
       "      <th>Continent</th>\n",
       "      <th>2022 Population</th>\n",
       "      <th>2020 Population</th>\n",
       "      <th>2015 Population</th>\n",
       "      <th>2010 Population</th>\n",
       "      <th>2000 Population</th>\n",
       "      <th>1990 Population</th>\n",
       "      <th>1980 Population</th>\n",
       "      <th>1970 Population</th>\n",
       "      <th>Area (km²)</th>\n",
       "      <th>Density (per km²)</th>\n",
       "      <th>Growth Rate</th>\n",
       "      <th>World Population Percentage</th>\n",
       "    </tr>\n",
       "  </thead>\n",
       "  <tbody>\n",
       "    <tr>\n",
       "      <th>0</th>\n",
       "      <td>36</td>\n",
       "      <td>AFG</td>\n",
       "      <td>Afghanistan</td>\n",
       "      <td>Kabul</td>\n",
       "      <td>Asia</td>\n",
       "      <td>41128771</td>\n",
       "      <td>38972230</td>\n",
       "      <td>33753499</td>\n",
       "      <td>28189672</td>\n",
       "      <td>19542982</td>\n",
       "      <td>10694796</td>\n",
       "      <td>12486631</td>\n",
       "      <td>10752971</td>\n",
       "      <td>652230</td>\n",
       "      <td>63.0587</td>\n",
       "      <td>1.0257</td>\n",
       "      <td>0.52</td>\n",
       "    </tr>\n",
       "    <tr>\n",
       "      <th>1</th>\n",
       "      <td>138</td>\n",
       "      <td>ALB</td>\n",
       "      <td>Albania</td>\n",
       "      <td>Tirana</td>\n",
       "      <td>Europe</td>\n",
       "      <td>2842321</td>\n",
       "      <td>2866849</td>\n",
       "      <td>2882481</td>\n",
       "      <td>2913399</td>\n",
       "      <td>3182021</td>\n",
       "      <td>3295066</td>\n",
       "      <td>2941651</td>\n",
       "      <td>2324731</td>\n",
       "      <td>28748</td>\n",
       "      <td>98.8702</td>\n",
       "      <td>0.9957</td>\n",
       "      <td>0.04</td>\n",
       "    </tr>\n",
       "    <tr>\n",
       "      <th>2</th>\n",
       "      <td>34</td>\n",
       "      <td>DZA</td>\n",
       "      <td>Algeria</td>\n",
       "      <td>Algiers</td>\n",
       "      <td>Africa</td>\n",
       "      <td>44903225</td>\n",
       "      <td>43451666</td>\n",
       "      <td>39543154</td>\n",
       "      <td>35856344</td>\n",
       "      <td>30774621</td>\n",
       "      <td>25518074</td>\n",
       "      <td>18739378</td>\n",
       "      <td>13795915</td>\n",
       "      <td>2381741</td>\n",
       "      <td>18.8531</td>\n",
       "      <td>1.0164</td>\n",
       "      <td>0.56</td>\n",
       "    </tr>\n",
       "    <tr>\n",
       "      <th>3</th>\n",
       "      <td>213</td>\n",
       "      <td>ASM</td>\n",
       "      <td>American Samoa</td>\n",
       "      <td>Pago Pago</td>\n",
       "      <td>Oceania</td>\n",
       "      <td>44273</td>\n",
       "      <td>46189</td>\n",
       "      <td>51368</td>\n",
       "      <td>54849</td>\n",
       "      <td>58230</td>\n",
       "      <td>47818</td>\n",
       "      <td>32886</td>\n",
       "      <td>27075</td>\n",
       "      <td>199</td>\n",
       "      <td>222.4774</td>\n",
       "      <td>0.9831</td>\n",
       "      <td>0.00</td>\n",
       "    </tr>\n",
       "    <tr>\n",
       "      <th>4</th>\n",
       "      <td>203</td>\n",
       "      <td>AND</td>\n",
       "      <td>Andorra</td>\n",
       "      <td>Andorra la Vella</td>\n",
       "      <td>Europe</td>\n",
       "      <td>79824</td>\n",
       "      <td>77700</td>\n",
       "      <td>71746</td>\n",
       "      <td>71519</td>\n",
       "      <td>66097</td>\n",
       "      <td>53569</td>\n",
       "      <td>35611</td>\n",
       "      <td>19860</td>\n",
       "      <td>468</td>\n",
       "      <td>170.5641</td>\n",
       "      <td>1.0100</td>\n",
       "      <td>0.00</td>\n",
       "    </tr>\n",
       "  </tbody>\n",
       "</table>\n",
       "</div>"
      ],
      "text/plain": [
       "   Rank CCA3 Country/Territory           Capital Continent  2022 Population  \\\n",
       "0    36  AFG       Afghanistan             Kabul      Asia         41128771   \n",
       "1   138  ALB           Albania            Tirana    Europe          2842321   \n",
       "2    34  DZA           Algeria           Algiers    Africa         44903225   \n",
       "3   213  ASM    American Samoa         Pago Pago   Oceania            44273   \n",
       "4   203  AND           Andorra  Andorra la Vella    Europe            79824   \n",
       "\n",
       "   2020 Population  2015 Population  2010 Population  2000 Population  \\\n",
       "0         38972230         33753499         28189672         19542982   \n",
       "1          2866849          2882481          2913399          3182021   \n",
       "2         43451666         39543154         35856344         30774621   \n",
       "3            46189            51368            54849            58230   \n",
       "4            77700            71746            71519            66097   \n",
       "\n",
       "   1990 Population  1980 Population  1970 Population  Area (km²)  \\\n",
       "0         10694796         12486631         10752971      652230   \n",
       "1          3295066          2941651          2324731       28748   \n",
       "2         25518074         18739378         13795915     2381741   \n",
       "3            47818            32886            27075         199   \n",
       "4            53569            35611            19860         468   \n",
       "\n",
       "   Density (per km²)  Growth Rate  World Population Percentage  \n",
       "0            63.0587       1.0257                         0.52  \n",
       "1            98.8702       0.9957                         0.04  \n",
       "2            18.8531       1.0164                         0.56  \n",
       "3           222.4774       0.9831                         0.00  \n",
       "4           170.5641       1.0100                         0.00  "
      ]
     },
     "execution_count": 3,
     "metadata": {},
     "output_type": "execute_result"
    }
   ],
   "source": [
    "import pandas as pd\n",
    "import matplotlib.pyplot as plt\n",
    "\n",
    "# Load dataset\n",
    "world_pop = pd.read_csv(r\"c:/users/danhaya/arewads/world-population-dynamics/data/raw_data/world_population.csv\")\n",
    "world_pop.head()"
   ]
  },
  {
   "cell_type": "markdown",
   "id": "79f4127f",
   "metadata": {},
   "source": [
    "### `Data preparation`\n",
    "For the purpose of this assignment in intended to remove all the missing values, duplicates and outliers. as the effective methods for data preparation for machine leaning. because machine learning models work best with `Data` that is uniformally distributed."
   ]
  },
  {
   "cell_type": "code",
   "execution_count": 6,
   "id": "51879d89",
   "metadata": {},
   "outputs": [
    {
     "data": {
      "application/vnd.microsoft.datawrangler.viewer.v0+json": {
       "columns": [
        {
         "name": "index",
         "rawType": "object",
         "type": "string"
        },
        {
         "name": "0",
         "rawType": "int64",
         "type": "integer"
        }
       ],
       "ref": "012744d1-ee22-4803-a591-f3f663b04dec",
       "rows": [
        [
         "Rank",
         "0"
        ],
        [
         "CCA3",
         "0"
        ],
        [
         "Country/Territory",
         "0"
        ],
        [
         "Capital",
         "0"
        ],
        [
         "Continent",
         "0"
        ],
        [
         "2022 Population",
         "0"
        ],
        [
         "2020 Population",
         "0"
        ],
        [
         "2015 Population",
         "0"
        ],
        [
         "2010 Population",
         "0"
        ],
        [
         "2000 Population",
         "0"
        ],
        [
         "1990 Population",
         "0"
        ],
        [
         "1980 Population",
         "0"
        ],
        [
         "1970 Population",
         "0"
        ],
        [
         "Area (km²)",
         "0"
        ],
        [
         "Density (per km²)",
         "0"
        ],
        [
         "Growth Rate",
         "0"
        ],
        [
         "World Population Percentage",
         "0"
        ]
       ],
       "shape": {
        "columns": 1,
        "rows": 17
       }
      },
      "text/plain": [
       "Rank                           0\n",
       "CCA3                           0\n",
       "Country/Territory              0\n",
       "Capital                        0\n",
       "Continent                      0\n",
       "2022 Population                0\n",
       "2020 Population                0\n",
       "2015 Population                0\n",
       "2010 Population                0\n",
       "2000 Population                0\n",
       "1990 Population                0\n",
       "1980 Population                0\n",
       "1970 Population                0\n",
       "Area (km²)                     0\n",
       "Density (per km²)              0\n",
       "Growth Rate                    0\n",
       "World Population Percentage    0\n",
       "dtype: int64"
      ]
     },
     "execution_count": 6,
     "metadata": {},
     "output_type": "execute_result"
    }
   ],
   "source": [
    "world_pop.isna().sum()"
   ]
  },
  {
   "cell_type": "markdown",
   "id": "0ff158b4",
   "metadata": {},
   "source": [
    "That's good, there is no missing values for this `Dataset`. let's check duplicates"
   ]
  },
  {
   "cell_type": "code",
   "execution_count": 8,
   "id": "444b9a4f",
   "metadata": {},
   "outputs": [
    {
     "data": {
      "text/plain": [
       "np.int64(0)"
      ]
     },
     "execution_count": 8,
     "metadata": {},
     "output_type": "execute_result"
    }
   ],
   "source": [
    "world_pop.duplicated().sum()"
   ]
  },
  {
   "cell_type": "markdown",
   "id": "ea754374",
   "metadata": {},
   "source": [
    "There's no duplicate values as well. the data is clean and tidy."
   ]
  },
  {
   "cell_type": "markdown",
   "id": "dc797732",
   "metadata": {},
   "source": [
    "### `Histogram NO 1`:\n",
    "Let's explore the distributions of world population in 2020 and drive insight from it. "
   ]
  },
  {
   "cell_type": "code",
   "execution_count": 16,
   "id": "6b9dffcb",
   "metadata": {},
   "outputs": [
    {
     "data": {
      "image/png": "[encoded data removed]",
      "text/plain": [
       "<Figure size 700x600 with 1 Axes>"
      ]
     },
     "metadata": {},
     "output_type": "display_data"
    }
   ],
   "source": [
    "import matplotlib.pyplot as plt\n",
    "\n",
    "col_of_interest = '2020 Population'\n",
    "\n",
    "fig, ax = plt.subplots(figsize=(7,6))\n",
    "ax.hist(world_pop[col_of_interest], bins = 50, edgecolor = 'black', color='blue')\n",
    "ax.set_title(\"World Population Distributions\")\n",
    "ax.set_xlabel(\"Populations in Millions\")\n",
    "ax.set_ylabel(\"Frequency\")\n",
    "\n",
    "plt.show()\n"
   ]
  },
  {
   "cell_type": "markdown",
   "id": "2576ba1f",
   "metadata": {},
   "source": [
    "### `Insight Drive from the chart`\n",
    "_From this chart we can conclude that 200 countries has the populations around 10 Millions people. I noticed few countries has a remarkable populations of around 1.4 Billions._\n",
    "\n",
    "### `Histogram 2`:\n",
    "_let's visualize the population concentrations and drive insight from the distributions_. \n"
   ]
  },
  {
   "cell_type": "code",
   "execution_count": 15,
   "id": "a2753c80",
   "metadata": {},
   "outputs": [
    {
     "data": {
      "image/png": "[encoded data removed]",
      "text/plain": [
       "<Figure size 500x500 with 1 Axes>"
      ]
     },
     "metadata": {},
     "output_type": "display_data"
    }
   ],
   "source": [
    "concentrations = world_pop['Density (per km²)']\n",
    "\n",
    "fig, ax = plt.subplots(figsize=(5, 5))\n",
    "ax.hist(concentrations, bins = 50, edgecolor='black', color='blue')\n",
    "ax.set_title(\"Distributions of Populations Density\")\n",
    "ax.set_xlabel(\"Population Density\")\n",
    "ax.set_ylabel(\"Frequency\")\n",
    "\n",
    "plt.show()"
   ]
  },
  {
   "cell_type": "code",
   "execution_count": 14,
   "id": "f3ead666",
   "metadata": {},
   "outputs": [
    {
     "data": {
      "text/plain": [
       "78"
      ]
     },
     "execution_count": 14,
     "metadata": {},
     "output_type": "execute_result"
    }
   ],
   "source": [
    "concentrations.idxmin()"
   ]
  },
  {
   "cell_type": "markdown",
   "id": "98acf92b",
   "metadata": {},
   "source": [
    "More than 95% of the world population density has a value lies between 78/km2 to 5000/km2\n",
    "\n",
    "### `Histogram 3`: \n",
    "let's explore the distributions of Area "
   ]
  },
  {
   "cell_type": "code",
   "execution_count": 17,
   "id": "1379243d",
   "metadata": {},
   "outputs": [
    {
     "data": {
      "image/png": "[encoded data removed]",
      "text/plain": [
       "<Figure size 500x500 with 1 Axes>"
      ]
     },
     "metadata": {},
     "output_type": "display_data"
    }
   ],
   "source": [
    "Fig, ax = plt.subplots(figsize=(5,5))\n",
    "ax.hist(world_pop['Area (km²)'], bins=20, edgecolor='black', color='red')\n",
    "ax.set_xlabel(\"Area (Km2)\")\n",
    "ax.set_ylabel(\"Frequency\")\n",
    "ax.set_title(\"Distribution of Area\")\n",
    "\n",
    "plt.show()"
   ]
  },
  {
   "cell_type": "markdown",
   "id": "4199bf9a",
   "metadata": {},
   "source": [
    "### `Insight`\n",
    "From this chart we can see that most countries have area that lies in first five bins, that is to say maximum of 2.5 Million kilometers.\n",
    "\n",
    "### ` Histogram NO 4`:\n",
    "Let's explore the population growth distributions. "
   ]
  },
  {
   "cell_type": "code",
   "execution_count": 21,
   "id": "09f6ad26",
   "metadata": {},
   "outputs": [
    {
     "data": {
      "image/png": "[encoded data removed]",
      "text/plain": [
       "<Figure size 500x500 with 1 Axes>"
      ]
     },
     "metadata": {},
     "output_type": "display_data"
    }
   ],
   "source": [
    "fig, ax = plt.subplots(figsize=(5,5))\n",
    "ax.hist(world_pop['Growth Rate'], bins = 50, edgecolor='black', color='blue')\n",
    "ax.set_title(\"Distributions of Growth Rate\")\n",
    "ax.set_xlabel(\"Growth Rate\")\n",
    "ax.set_ylabel(\"Frequency\")\n",
    "\n",
    "plt.show()"
   ]
  },
  {
   "cell_type": "markdown",
   "id": "c2c701a7",
   "metadata": {},
   "source": [
    "We can deduced that growth rate is normally distributed and most countries has a growthrate between 0.98 to 1.04.\n",
    "\n",
    "### `Histogram No 5`:\n",
    "lets explore world population percentage."
   ]
  },
  {
   "cell_type": "code",
   "execution_count": 22,
   "id": "a50eb4c5",
   "metadata": {},
   "outputs": [
    {
     "data": {
      "image/png": "[encoded data removed]",
      "text/plain": [
       "<Figure size 500x500 with 1 Axes>"
      ]
     },
     "metadata": {},
     "output_type": "display_data"
    }
   ],
   "source": [
    "fig, ax = plt.subplots(figsize=(5, 5))\n",
    "ax.hist(world_pop['World Population Percentage'], bins=50, edgecolor='black', color='blue')\n",
    "ax.set_xlabel(\"World Population Percentage\")\n",
    "ax.set_ylabel(\"Frequency\")\n",
    "ax.set_title(\"World Population Percent\")\n",
    "\n",
    "plt.show()"
   ]
  },
  {
   "cell_type": "markdown",
   "id": "cb1f05f6",
   "metadata": {},
   "source": [
    "from this chart we can see that most countries has a world population percent between 0 to 5.0 %. And I noticed that there's few countries with 17.5%."
   ]
  },
  {
   "cell_type": "markdown",
   "id": "3546370a",
   "metadata": {},
   "source": [
    "# THANK YOU"
   ]
  }
 ],
 "metadata": {
  "kernelspec": {
   "display_name": "base",
   "language": "python",
   "name": "python3"
  },
  "language_info": {
   "codemirror_mode": {
    "name": "ipython",
    "version": 3
   },
   "file_extension": ".py",
   "mimetype": "text/x-python",
   "name": "python",
   "nbconvert_exporter": "python",
   "pygments_lexer": "ipython3",
   "version": "3.12.3"
  }
 },
 "nbformat": 4,
 "nbformat_minor": 5
}
