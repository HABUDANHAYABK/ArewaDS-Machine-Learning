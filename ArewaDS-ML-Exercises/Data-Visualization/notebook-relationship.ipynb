{
 "cells": [
  {
   "cell_type": "markdown",
   "id": "e7d4682d",
   "metadata": {},
   "source": [
    "# Assignment: Visualizing Relationships\n",
    "\n",
    "### `Dataset`\n",
    "This dataset was downloaded from kaggle and it has details information about US Stock markets on daily basis.\n",
    "it consists of the following labels: \n",
    "* Date \n",
    "* Natural Gas Price and Natural Gas Vol. \n",
    "* Crude oil Price and Crude oil Vol. \n",
    "* Copper Price and Copper Vol. \n",
    "* Bitcoin Price and Bitcoin Vol.\n",
    "* Platinum Price and Platinum Vol. \n",
    "* Ethereum Price and Ethereum Vol. \n",
    "* S&P 500 Price\n",
    "* Nasdaq 100 Price and Nasdaq 100 Vol.\n",
    "* Apple_Price and Apple_Vol \n",
    "* Tesla_Price and Tesla_Vol.\n",
    "* Microsoft Price and Microsoft Vol.\n",
    "* Silver_Price and Silver_Vol.\n",
    "* Google_Price and Google_Vol.\n",
    "* Nvidia_Price and Nvidia_Vol.\n",
    "* Berkshire_Price and Berkshire_Vol.\n",
    "* Netflix_Price and Netflix_Vol.\n",
    "* Amazon_Price and Amazon_Vol.\n",
    "* Meta_Price and Meta_Vol.\n",
    "* Gold_Price and Gold_Vol.\n",
    "\n",
    "\n",
    "## `AIM AND OBJECTIVES`\n",
    "### `Aim`\n",
    "_**The aim of this minor project is to visualize the relationship price and volume of stocks in US Stock markets**_.\n",
    "### `Objectives`\n",
    "1. To determine the relationship between volume and price in cryptocurrency stocks.\n",
    "2. To visualize the trend of digital stocks and their influence in US economy.\n",
    "3. To compare the value of digit and nondigital stocks."
   ]
  },
  {
   "cell_type": "code",
   "execution_count": 1,
   "id": "215f0a29",
   "metadata": {},
   "outputs": [
    {
     "data": {
      "application/vnd.microsoft.datawrangler.viewer.v0+json": {
       "columns": [
        {
         "name": "index",
         "rawType": "int64",
         "type": "integer"
        },
        {
         "name": "Unnamed: 0",
         "rawType": "int64",
         "type": "integer"
        },
        {
         "name": "Date",
         "rawType": "object",
         "type": "string"
        },
        {
         "name": "Natural_Gas_Price",
         "rawType": "float64",
         "type": "float"
        },
        {
         "name": "Natural_Gas_Vol.",
         "rawType": "float64",
         "type": "float"
        },
        {
         "name": "Crude_oil_Price",
         "rawType": "float64",
         "type": "float"
        },
        {
         "name": "Crude_oil_Vol.",
         "rawType": "float64",
         "type": "float"
        },
        {
         "name": "Copper_Price",
         "rawType": "float64",
         "type": "float"
        },
        {
         "name": "Copper_Vol.",
         "rawType": "float64",
         "type": "float"
        },
        {
         "name": "Bitcoin_Price",
         "rawType": "object",
         "type": "string"
        },
        {
         "name": "Bitcoin_Vol.",
         "rawType": "float64",
         "type": "float"
        },
        {
         "name": "Platinum_Price",
         "rawType": "object",
         "type": "string"
        },
        {
         "name": "Platinum_Vol.",
         "rawType": "float64",
         "type": "float"
        },
        {
         "name": "Ethereum_Price",
         "rawType": "object",
         "type": "string"
        },
        {
         "name": "Ethereum_Vol.",
         "rawType": "float64",
         "type": "float"
        },
        {
         "name": "S&P_500_Price",
         "rawType": "object",
         "type": "string"
        },
        {
         "name": "Nasdaq_100_Price",
         "rawType": "object",
         "type": "string"
        },
        {
         "name": "Nasdaq_100_Vol.",
         "rawType": "float64",
         "type": "float"
        },
        {
         "name": "Apple_Price",
         "rawType": "float64",
         "type": "float"
        },
        {
         "name": "Apple_Vol.",
         "rawType": "float64",
         "type": "float"
        },
        {
         "name": "Tesla_Price",
         "rawType": "float64",
         "type": "float"
        },
        {
         "name": "Tesla_Vol.",
         "rawType": "float64",
         "type": "float"
        },
        {
         "name": "Microsoft_Price",
         "rawType": "float64",
         "type": "float"
        },
        {
         "name": "Microsoft_Vol.",
         "rawType": "float64",
         "type": "float"
        },
        {
         "name": "Silver_Price",
         "rawType": "float64",
         "type": "float"
        },
        {
         "name": "Silver_Vol.",
         "rawType": "float64",
         "type": "float"
        },
        {
         "name": "Google_Price",
         "rawType": "float64",
         "type": "float"
        },
        {
         "name": "Google_Vol.",
         "rawType": "float64",
         "type": "float"
        },
        {
         "name": "Nvidia_Price",
         "rawType": "float64",
         "type": "float"
        },
        {
         "name": "Nvidia_Vol.",
         "rawType": "float64",
         "type": "float"
        },
        {
         "name": "Berkshire_Price",
         "rawType": "object",
         "type": "string"
        },
        {
         "name": "Berkshire_Vol.",
         "rawType": "float64",
         "type": "float"
        },
        {
         "name": "Netflix_Price",
         "rawType": "float64",
         "type": "float"
        },
        {
         "name": "Netflix_Vol.",
         "rawType": "float64",
         "type": "float"
        },
        {
         "name": "Amazon_Price",
         "rawType": "float64",
         "type": "float"
        },
        {
         "name": "Amazon_Vol.",
         "rawType": "float64",
         "type": "float"
        },
        {
         "name": "Meta_Price",
         "rawType": "float64",
         "type": "float"
        },
        {
         "name": "Meta_Vol.",
         "rawType": "float64",
         "type": "float"
        },
        {
         "name": "Gold_Price",
         "rawType": "object",
         "type": "string"
        },
        {
         "name": "Gold_Vol.",
         "rawType": "float64",
         "type": "float"
        }
       ],
       "ref": "3e1db704-e928-498f-9d3a-c4b305e9e4fe",
       "rows": [
        [
         "0",
         "0",
         "02-02-2024",
         "2.079",
         null,
         "72.28",
         null,
         "3.8215",
         null,
         "43,194.70",
         "42650.0",
         "901.6",
         null,
         "2,309.28",
         "246890.0",
         "4,958.61",
         "17,642.73",
         "315620000.0",
         "185.85",
         "102550000.0",
         "187.91",
         "110610000.0",
         "411.22",
         "28260000.0",
         "22.796",
         null,
         "142.38",
         "62500000.0",
         "661.6",
         "47660000.0",
         "5,89,498",
         "10580.0",
         "564.64",
         "4030000.000000001",
         "171.81",
         "117220000.0",
         "474.99",
         "84710000.0",
         "2,053.70",
         null
        ],
        [
         "1",
         "1",
         "01-02-2024",
         "2.05",
         "161340.0",
         "73.82",
         "577940.0",
         "3.8535",
         null,
         "43,081.40",
         "47690.0",
         "922.3",
         null,
         "2,304.28",
         "323610.0",
         "4,906.19",
         "17,344.71",
         "240640000.0",
         "186.86",
         "53490000.0",
         "188.86",
         "90680000.0",
         "403.78",
         "29230000.0",
         "23.236",
         "85160.0",
         "141.16",
         "37120000.0",
         "630.27",
         "36020000.0",
         "5,81,600",
         "9780.0",
         "567.51",
         "3150000.0",
         "159.28",
         "66360000.0",
         "394.78",
         "25140000.0",
         "2,071.10",
         "260920.00000000003"
        ],
        [
         "2",
         "2",
         "31-01-2024",
         "2.1",
         "142860.0",
         "75.85",
         "344490.0",
         "3.906",
         null,
         "42,580.50",
         "56480.0",
         "932.6",
         null,
         "2,283.14",
         "408790.0",
         "4,848.87",
         "17,137.24",
         "366450000.0",
         "184.4",
         "54830000.0",
         "187.29",
         "102270000.0",
         "397.58",
         "46780000.0",
         "23.169",
         "66910.0",
         "140.1",
         "71370000.0",
         "615.27",
         "45070000.0",
         "5,78,020",
         "9720.0",
         "564.11",
         "4830000.0",
         "155.2",
         "49690000.0",
         "390.14",
         "20010000.0",
         "2,067.40",
         "238370.0"
        ],
        [
         "3",
         "3",
         "30-01-2024",
         "2.077",
         "139750.0",
         "77.82",
         "347240.0",
         "3.911",
         null,
         "42,946.20",
         "55130.0",
         "931.7",
         null,
         "2,343.11",
         "387120.0",
         "4,924.97",
         "17,476.71",
         "236210000.0",
         "188.04",
         "55270000.0",
         "191.59",
         "105540000.0",
         "408.59",
         "29340000.0",
         "23.225",
         "53370.0",
         "151.46",
         "33060000.000000004",
         "627.74",
         "39600000.0",
         "5,84,680",
         "9750.0",
         "562.85",
         "6120000.0",
         "159.0",
         "42290000.0",
         "400.06",
         "18610000.0",
         "2,050.90",
         "214590.0"
        ],
        [
         "4",
         "4",
         "29-01-2024",
         "2.49",
         "3590.0",
         "76.78",
         "331930.0",
         "3.879",
         null,
         "43,299.80",
         "45230.0",
         "938.3",
         null,
         "2,317.79",
         "318840.0",
         "4,927.93",
         "17,596.27",
         "238750000.0",
         "191.73",
         "46890000.0",
         "190.93",
         "123600000.0",
         "409.72",
         "23290000.0",
         "23.134",
         "330.0",
         "153.51",
         "27590000.0",
         "624.65",
         "33900000.0",
         "5,78,800",
         "13850.0",
         "575.79",
         "6880000.0",
         "161.26",
         "42840000.0",
         "401.02",
         "17790000.0",
         "2,034.90",
         "1780.0"
        ]
       ],
       "shape": {
        "columns": 39,
        "rows": 5
       }
      },
      "text/html": [
       "<div>\n",
       "<style scoped>\n",
       "    .dataframe tbody tr th:only-of-type {\n",
       "        vertical-align: middle;\n",
       "    }\n",
       "\n",
       "    .dataframe tbody tr th {\n",
       "        vertical-align: top;\n",
       "    }\n",
       "\n",
       "    .dataframe thead th {\n",
       "        text-align: right;\n",
       "    }\n",
       "</style>\n",
       "<table border=\"1\" class=\"dataframe\">\n",
       "  <thead>\n",
       "    <tr style=\"text-align: right;\">\n",
       "      <th></th>\n",
       "      <th>Unnamed: 0</th>\n",
       "      <th>Date</th>\n",
       "      <th>Natural_Gas_Price</th>\n",
       "      <th>Natural_Gas_Vol.</th>\n",
       "      <th>Crude_oil_Price</th>\n",
       "      <th>Crude_oil_Vol.</th>\n",
       "      <th>Copper_Price</th>\n",
       "      <th>Copper_Vol.</th>\n",
       "      <th>Bitcoin_Price</th>\n",
       "      <th>Bitcoin_Vol.</th>\n",
       "      <th>...</th>\n",
       "      <th>Berkshire_Price</th>\n",
       "      <th>Berkshire_Vol.</th>\n",
       "      <th>Netflix_Price</th>\n",
       "      <th>Netflix_Vol.</th>\n",
       "      <th>Amazon_Price</th>\n",
       "      <th>Amazon_Vol.</th>\n",
       "      <th>Meta_Price</th>\n",
       "      <th>Meta_Vol.</th>\n",
       "      <th>Gold_Price</th>\n",
       "      <th>Gold_Vol.</th>\n",
       "    </tr>\n",
       "  </thead>\n",
       "  <tbody>\n",
       "    <tr>\n",
       "      <th>0</th>\n",
       "      <td>0</td>\n",
       "      <td>02-02-2024</td>\n",
       "      <td>2.079</td>\n",
       "      <td>NaN</td>\n",
       "      <td>72.28</td>\n",
       "      <td>NaN</td>\n",
       "      <td>3.8215</td>\n",
       "      <td>NaN</td>\n",
       "      <td>43,194.70</td>\n",
       "      <td>42650.0</td>\n",
       "      <td>...</td>\n",
       "      <td>5,89,498</td>\n",
       "      <td>10580.0</td>\n",
       "      <td>564.64</td>\n",
       "      <td>4030000.0</td>\n",
       "      <td>171.81</td>\n",
       "      <td>117220000.0</td>\n",
       "      <td>474.99</td>\n",
       "      <td>84710000.0</td>\n",
       "      <td>2,053.70</td>\n",
       "      <td>NaN</td>\n",
       "    </tr>\n",
       "    <tr>\n",
       "      <th>1</th>\n",
       "      <td>1</td>\n",
       "      <td>01-02-2024</td>\n",
       "      <td>2.050</td>\n",
       "      <td>161340.0</td>\n",
       "      <td>73.82</td>\n",
       "      <td>577940.0</td>\n",
       "      <td>3.8535</td>\n",
       "      <td>NaN</td>\n",
       "      <td>43,081.40</td>\n",
       "      <td>47690.0</td>\n",
       "      <td>...</td>\n",
       "      <td>5,81,600</td>\n",
       "      <td>9780.0</td>\n",
       "      <td>567.51</td>\n",
       "      <td>3150000.0</td>\n",
       "      <td>159.28</td>\n",
       "      <td>66360000.0</td>\n",
       "      <td>394.78</td>\n",
       "      <td>25140000.0</td>\n",
       "      <td>2,071.10</td>\n",
       "      <td>260920.0</td>\n",
       "    </tr>\n",
       "    <tr>\n",
       "      <th>2</th>\n",
       "      <td>2</td>\n",
       "      <td>31-01-2024</td>\n",
       "      <td>2.100</td>\n",
       "      <td>142860.0</td>\n",
       "      <td>75.85</td>\n",
       "      <td>344490.0</td>\n",
       "      <td>3.9060</td>\n",
       "      <td>NaN</td>\n",
       "      <td>42,580.50</td>\n",
       "      <td>56480.0</td>\n",
       "      <td>...</td>\n",
       "      <td>5,78,020</td>\n",
       "      <td>9720.0</td>\n",
       "      <td>564.11</td>\n",
       "      <td>4830000.0</td>\n",
       "      <td>155.20</td>\n",
       "      <td>49690000.0</td>\n",
       "      <td>390.14</td>\n",
       "      <td>20010000.0</td>\n",
       "      <td>2,067.40</td>\n",
       "      <td>238370.0</td>\n",
       "    </tr>\n",
       "    <tr>\n",
       "      <th>3</th>\n",
       "      <td>3</td>\n",
       "      <td>30-01-2024</td>\n",
       "      <td>2.077</td>\n",
       "      <td>139750.0</td>\n",
       "      <td>77.82</td>\n",
       "      <td>347240.0</td>\n",
       "      <td>3.9110</td>\n",
       "      <td>NaN</td>\n",
       "      <td>42,946.20</td>\n",
       "      <td>55130.0</td>\n",
       "      <td>...</td>\n",
       "      <td>5,84,680</td>\n",
       "      <td>9750.0</td>\n",
       "      <td>562.85</td>\n",
       "      <td>6120000.0</td>\n",
       "      <td>159.00</td>\n",
       "      <td>42290000.0</td>\n",
       "      <td>400.06</td>\n",
       "      <td>18610000.0</td>\n",
       "      <td>2,050.90</td>\n",
       "      <td>214590.0</td>\n",
       "    </tr>\n",
       "    <tr>\n",
       "      <th>4</th>\n",
       "      <td>4</td>\n",
       "      <td>29-01-2024</td>\n",
       "      <td>2.490</td>\n",
       "      <td>3590.0</td>\n",
       "      <td>76.78</td>\n",
       "      <td>331930.0</td>\n",
       "      <td>3.8790</td>\n",
       "      <td>NaN</td>\n",
       "      <td>43,299.80</td>\n",
       "      <td>45230.0</td>\n",
       "      <td>...</td>\n",
       "      <td>5,78,800</td>\n",
       "      <td>13850.0</td>\n",
       "      <td>575.79</td>\n",
       "      <td>6880000.0</td>\n",
       "      <td>161.26</td>\n",
       "      <td>42840000.0</td>\n",
       "      <td>401.02</td>\n",
       "      <td>17790000.0</td>\n",
       "      <td>2,034.90</td>\n",
       "      <td>1780.0</td>\n",
       "    </tr>\n",
       "  </tbody>\n",
       "</table>\n",
       "<p>5 rows × 39 columns</p>\n",
       "</div>"
      ],
      "text/plain": [
       "   Unnamed: 0        Date  Natural_Gas_Price  Natural_Gas_Vol.  \\\n",
       "0           0  02-02-2024              2.079               NaN   \n",
       "1           1  01-02-2024              2.050          161340.0   \n",
       "2           2  31-01-2024              2.100          142860.0   \n",
       "3           3  30-01-2024              2.077          139750.0   \n",
       "4           4  29-01-2024              2.490            3590.0   \n",
       "\n",
       "   Crude_oil_Price  Crude_oil_Vol.  Copper_Price  Copper_Vol. Bitcoin_Price  \\\n",
       "0            72.28             NaN        3.8215          NaN     43,194.70   \n",
       "1            73.82        577940.0        3.8535          NaN     43,081.40   \n",
       "2            75.85        344490.0        3.9060          NaN     42,580.50   \n",
       "3            77.82        347240.0        3.9110          NaN     42,946.20   \n",
       "4            76.78        331930.0        3.8790          NaN     43,299.80   \n",
       "\n",
       "   Bitcoin_Vol.  ... Berkshire_Price  Berkshire_Vol. Netflix_Price  \\\n",
       "0       42650.0  ...        5,89,498         10580.0        564.64   \n",
       "1       47690.0  ...        5,81,600          9780.0        567.51   \n",
       "2       56480.0  ...        5,78,020          9720.0        564.11   \n",
       "3       55130.0  ...        5,84,680          9750.0        562.85   \n",
       "4       45230.0  ...        5,78,800         13850.0        575.79   \n",
       "\n",
       "   Netflix_Vol. Amazon_Price  Amazon_Vol.  Meta_Price   Meta_Vol.  Gold_Price  \\\n",
       "0     4030000.0       171.81  117220000.0      474.99  84710000.0    2,053.70   \n",
       "1     3150000.0       159.28   66360000.0      394.78  25140000.0    2,071.10   \n",
       "2     4830000.0       155.20   49690000.0      390.14  20010000.0    2,067.40   \n",
       "3     6120000.0       159.00   42290000.0      400.06  18610000.0    2,050.90   \n",
       "4     6880000.0       161.26   42840000.0      401.02  17790000.0    2,034.90   \n",
       "\n",
       "   Gold_Vol.  \n",
       "0        NaN  \n",
       "1   260920.0  \n",
       "2   238370.0  \n",
       "3   214590.0  \n",
       "4     1780.0  \n",
       "\n",
       "[5 rows x 39 columns]"
      ]
     },
     "execution_count": 1,
     "metadata": {},
     "output_type": "execute_result"
    }
   ],
   "source": [
    "import pandas as pd\n",
    "import matplotlib.pyplot as plt\n",
    "import numpy as np\n",
    "\n",
    "stocks = pd.read_csv(r\"c:/users/danhaya/arewads/arewads-fellowship/Stock_market.csv\")\n",
    "stocks.head()"
   ]
  },
  {
   "cell_type": "code",
   "execution_count": 11,
   "id": "5f5044e3",
   "metadata": {},
   "outputs": [
    {
     "data": {
      "application/vnd.microsoft.datawrangler.viewer.v0+json": {
       "columns": [
        {
         "name": "index",
         "rawType": "int64",
         "type": "integer"
        },
        {
         "name": "Date",
         "rawType": "object",
         "type": "string"
        },
        {
         "name": "Bitcoin_Price",
         "rawType": "object",
         "type": "string"
        },
        {
         "name": "Bitcoin_Vol.",
         "rawType": "float64",
         "type": "float"
        },
        {
         "name": "Ethereum_Price",
         "rawType": "object",
         "type": "string"
        },
        {
         "name": "Ethereum_Vol.",
         "rawType": "float64",
         "type": "float"
        }
       ],
       "ref": "4b68a1ee-94ce-42ea-b5b1-ac3e7dd1a625",
       "rows": [
        [
         "0",
         "02-02-2024",
         "43,194.70",
         "42650.0",
         "2,309.28",
         "246890.0"
        ],
        [
         "1",
         "01-02-2024",
         "43,081.40",
         "47690.0",
         "2,304.28",
         "323610.0"
        ],
        [
         "2",
         "31-01-2024",
         "42,580.50",
         "56480.0",
         "2,283.14",
         "408790.0"
        ],
        [
         "3",
         "30-01-2024",
         "42,946.20",
         "55130.0",
         "2,343.11",
         "387120.0"
        ],
        [
         "4",
         "29-01-2024",
         "43,299.80",
         "45230.0",
         "2,317.79",
         "318840.0"
        ]
       ],
       "shape": {
        "columns": 5,
        "rows": 5
       }
      },
      "text/html": [
       "<div>\n",
       "<style scoped>\n",
       "    .dataframe tbody tr th:only-of-type {\n",
       "        vertical-align: middle;\n",
       "    }\n",
       "\n",
       "    .dataframe tbody tr th {\n",
       "        vertical-align: top;\n",
       "    }\n",
       "\n",
       "    .dataframe thead th {\n",
       "        text-align: right;\n",
       "    }\n",
       "</style>\n",
       "<table border=\"1\" class=\"dataframe\">\n",
       "  <thead>\n",
       "    <tr style=\"text-align: right;\">\n",
       "      <th></th>\n",
       "      <th>Date</th>\n",
       "      <th>Bitcoin_Price</th>\n",
       "      <th>Bitcoin_Vol.</th>\n",
       "      <th>Ethereum_Price</th>\n",
       "      <th>Ethereum_Vol.</th>\n",
       "    </tr>\n",
       "  </thead>\n",
       "  <tbody>\n",
       "    <tr>\n",
       "      <th>0</th>\n",
       "      <td>02-02-2024</td>\n",
       "      <td>43,194.70</td>\n",
       "      <td>42650.0</td>\n",
       "      <td>2,309.28</td>\n",
       "      <td>246890.0</td>\n",
       "    </tr>\n",
       "    <tr>\n",
       "      <th>1</th>\n",
       "      <td>01-02-2024</td>\n",
       "      <td>43,081.40</td>\n",
       "      <td>47690.0</td>\n",
       "      <td>2,304.28</td>\n",
       "      <td>323610.0</td>\n",
       "    </tr>\n",
       "    <tr>\n",
       "      <th>2</th>\n",
       "      <td>31-01-2024</td>\n",
       "      <td>42,580.50</td>\n",
       "      <td>56480.0</td>\n",
       "      <td>2,283.14</td>\n",
       "      <td>408790.0</td>\n",
       "    </tr>\n",
       "    <tr>\n",
       "      <th>3</th>\n",
       "      <td>30-01-2024</td>\n",
       "      <td>42,946.20</td>\n",
       "      <td>55130.0</td>\n",
       "      <td>2,343.11</td>\n",
       "      <td>387120.0</td>\n",
       "    </tr>\n",
       "    <tr>\n",
       "      <th>4</th>\n",
       "      <td>29-01-2024</td>\n",
       "      <td>43,299.80</td>\n",
       "      <td>45230.0</td>\n",
       "      <td>2,317.79</td>\n",
       "      <td>318840.0</td>\n",
       "    </tr>\n",
       "  </tbody>\n",
       "</table>\n",
       "</div>"
      ],
      "text/plain": [
       "         Date Bitcoin_Price  Bitcoin_Vol. Ethereum_Price  Ethereum_Vol.\n",
       "0  02-02-2024     43,194.70       42650.0       2,309.28       246890.0\n",
       "1  01-02-2024     43,081.40       47690.0       2,304.28       323610.0\n",
       "2  31-01-2024     42,580.50       56480.0       2,283.14       408790.0\n",
       "3  30-01-2024     42,946.20       55130.0       2,343.11       387120.0\n",
       "4  29-01-2024     43,299.80       45230.0       2,317.79       318840.0"
      ]
     },
     "execution_count": 11,
     "metadata": {},
     "output_type": "execute_result"
    }
   ],
   "source": [
    "crypto_cols =['Date', 'Bitcoin_Price', 'Bitcoin_Vol.', 'Ethereum_Price', 'Ethereum_Vol.']\n",
    "crypto_stocks = stocks[crypto_cols]\n",
    "crypto_stocks.head()"
   ]
  },
  {
   "cell_type": "markdown",
   "id": "685f75ff",
   "metadata": {},
   "source": [
    " **check for missing values and duplicates**"
   ]
  },
  {
   "cell_type": "code",
   "execution_count": 5,
   "id": "c4d06ca1",
   "metadata": {},
   "outputs": [
    {
     "data": {
      "application/vnd.microsoft.datawrangler.viewer.v0+json": {
       "columns": [
        {
         "name": "index",
         "rawType": "object",
         "type": "string"
        },
        {
         "name": "0",
         "rawType": "bool",
         "type": "boolean"
        }
       ],
       "ref": "45955895-ff00-4ea0-a480-f35c00b6ae8a",
       "rows": [
        [
         "Date",
         "False"
        ],
        [
         "Bitcoin_Price",
         "False"
        ],
        [
         "Bitcoin_Vol.",
         "False"
        ],
        [
         "Ethereum_Price",
         "False"
        ],
        [
         "Ethereum_Vol.",
         "False"
        ]
       ],
       "shape": {
        "columns": 1,
        "rows": 5
       }
      },
      "text/plain": [
       "Date              False\n",
       "Bitcoin_Price     False\n",
       "Bitcoin_Vol.      False\n",
       "Ethereum_Price    False\n",
       "Ethereum_Vol.     False\n",
       "dtype: bool"
      ]
     },
     "execution_count": 5,
     "metadata": {},
     "output_type": "execute_result"
    }
   ],
   "source": [
    "crypto_stocks.isna().any()"
   ]
  },
  {
   "cell_type": "code",
   "execution_count": 7,
   "id": "506313af",
   "metadata": {},
   "outputs": [
    {
     "data": {
      "text/plain": [
       "np.int64(0)"
      ]
     },
     "execution_count": 7,
     "metadata": {},
     "output_type": "execute_result"
    }
   ],
   "source": [
    "crypto_stocks.duplicated().sum()"
   ]
  },
  {
   "cell_type": "code",
   "execution_count": 12,
   "id": "318ff6cf",
   "metadata": {},
   "outputs": [
    {
     "data": {
      "application/vnd.microsoft.datawrangler.viewer.v0+json": {
       "columns": [
        {
         "name": "index",
         "rawType": "int64",
         "type": "integer"
        },
        {
         "name": "Date",
         "rawType": "object",
         "type": "string"
        },
        {
         "name": "Bitcoin_Price",
         "rawType": "object",
         "type": "string"
        },
        {
         "name": "Bitcoin_Vol.",
         "rawType": "float64",
         "type": "float"
        },
        {
         "name": "Ethereum_Price",
         "rawType": "object",
         "type": "string"
        },
        {
         "name": "Ethereum_Vol.",
         "rawType": "float64",
         "type": "float"
        }
       ],
       "ref": "52e7c8f1-9d0f-430c-8cc1-2202196d8c77",
       "rows": [
        [
         "0",
         "02-02-2024",
         "43,194.70",
         "42650.0",
         "2,309.28",
         "246890.0"
        ],
        [
         "1",
         "01-02-2024",
         "43,081.40",
         "47690.0",
         "2,304.28",
         "323610.0"
        ],
        [
         "2",
         "31-01-2024",
         "42,580.50",
         "56480.0",
         "2,283.14",
         "408790.0"
        ],
        [
         "3",
         "30-01-2024",
         "42,946.20",
         "55130.0",
         "2,343.11",
         "387120.0"
        ],
        [
         "4",
         "29-01-2024",
         "43,299.80",
         "45230.0",
         "2,317.79",
         "318840.0"
        ]
       ],
       "shape": {
        "columns": 5,
        "rows": 5
       }
      },
      "text/html": [
       "<div>\n",
       "<style scoped>\n",
       "    .dataframe tbody tr th:only-of-type {\n",
       "        vertical-align: middle;\n",
       "    }\n",
       "\n",
       "    .dataframe tbody tr th {\n",
       "        vertical-align: top;\n",
       "    }\n",
       "\n",
       "    .dataframe thead th {\n",
       "        text-align: right;\n",
       "    }\n",
       "</style>\n",
       "<table border=\"1\" class=\"dataframe\">\n",
       "  <thead>\n",
       "    <tr style=\"text-align: right;\">\n",
       "      <th></th>\n",
       "      <th>Date</th>\n",
       "      <th>Bitcoin_Price</th>\n",
       "      <th>Bitcoin_Vol.</th>\n",
       "      <th>Ethereum_Price</th>\n",
       "      <th>Ethereum_Vol.</th>\n",
       "    </tr>\n",
       "  </thead>\n",
       "  <tbody>\n",
       "    <tr>\n",
       "      <th>0</th>\n",
       "      <td>02-02-2024</td>\n",
       "      <td>43,194.70</td>\n",
       "      <td>42650.0</td>\n",
       "      <td>2,309.28</td>\n",
       "      <td>246890.0</td>\n",
       "    </tr>\n",
       "    <tr>\n",
       "      <th>1</th>\n",
       "      <td>01-02-2024</td>\n",
       "      <td>43,081.40</td>\n",
       "      <td>47690.0</td>\n",
       "      <td>2,304.28</td>\n",
       "      <td>323610.0</td>\n",
       "    </tr>\n",
       "    <tr>\n",
       "      <th>2</th>\n",
       "      <td>31-01-2024</td>\n",
       "      <td>42,580.50</td>\n",
       "      <td>56480.0</td>\n",
       "      <td>2,283.14</td>\n",
       "      <td>408790.0</td>\n",
       "    </tr>\n",
       "    <tr>\n",
       "      <th>3</th>\n",
       "      <td>30-01-2024</td>\n",
       "      <td>42,946.20</td>\n",
       "      <td>55130.0</td>\n",
       "      <td>2,343.11</td>\n",
       "      <td>387120.0</td>\n",
       "    </tr>\n",
       "    <tr>\n",
       "      <th>4</th>\n",
       "      <td>29-01-2024</td>\n",
       "      <td>43,299.80</td>\n",
       "      <td>45230.0</td>\n",
       "      <td>2,317.79</td>\n",
       "      <td>318840.0</td>\n",
       "    </tr>\n",
       "  </tbody>\n",
       "</table>\n",
       "</div>"
      ],
      "text/plain": [
       "         Date Bitcoin_Price  Bitcoin_Vol. Ethereum_Price  Ethereum_Vol.\n",
       "0  02-02-2024     43,194.70       42650.0       2,309.28       246890.0\n",
       "1  01-02-2024     43,081.40       47690.0       2,304.28       323610.0\n",
       "2  31-01-2024     42,580.50       56480.0       2,283.14       408790.0\n",
       "3  30-01-2024     42,946.20       55130.0       2,343.11       387120.0\n",
       "4  29-01-2024     43,299.80       45230.0       2,317.79       318840.0"
      ]
     },
     "execution_count": 12,
     "metadata": {},
     "output_type": "execute_result"
    }
   ],
   "source": [
    "#crypto_stocks['Bitcoin_Price'] = pd.to_numeric(crypto_stocks[\"Bitcoin_Price\"].str.replace('\"', '').str.replace(\"'\", ''), errors='coerce')\n",
    "crypto_stocks.head()"
   ]
  },
  {
   "cell_type": "markdown",
   "id": "e066b141",
   "metadata": {},
   "source": [
    "_Therefore, the `dataset` is clean with no missing values and duplicates._"
   ]
  },
  {
   "cell_type": "markdown",
   "id": "7a5a1106",
   "metadata": {},
   "source": [
    "### `CRYPTO MARKETS`\n",
    "Let us visualize the relationship between price and volume of cryptocurrencies; Bitcoin and Ethereum"
   ]
  },
  {
   "cell_type": "code",
   "execution_count": 9,
   "id": "10fbbad9",
   "metadata": {},
   "outputs": [
    {
     "data": {
      "image/png": "[encoded data removed]",
      "text/plain": [
       "<Figure size 640x480 with 2 Axes>"
      ]
     },
     "metadata": {},
     "output_type": "display_data"
    }
   ],
   "source": [
    "import matplotlib.pyplot as plt\n",
    "\n",
    "fig, ax = plt.subplots(2,1)\n",
    "ax[0].scatter(crypto_stocks['Bitcoin_Vol.'], crypto_stocks['Bitcoin_Price'], color='red')\n",
    "ax[1].scatter(crypto_stocks['Ethereum_Vol.'], crypto_stocks['Ethereum_Price'], color = 'blue')\n",
    "ax[0].set_ylabel(\"Bitcoin Price in USD\")\n",
    "ax[0].set_xlabel(\"Bitcoin Volume\")\n",
    "ax[1].set_ylabel(\"Ethereum Price in USD\")\n",
    "ax[1].set_xlabel('Ethereum Volume')\n",
    "\n",
    "plt.show()"
   ]
  },
  {
   "cell_type": "code",
   "execution_count": 14,
   "id": "627142fd",
   "metadata": {},
   "outputs": [
    {
     "name": "stdout",
     "output_type": "stream",
     "text": [
      "           Bitcoin_Price  Bitcoin_Vol. Ethereum_Price  Ethereum_Vol.\n",
      "Date                                                                \n",
      "02-02-2024     43,194.70       42650.0       2,309.28       246890.0\n",
      "01-02-2024     43,081.40       47690.0       2,304.28       323610.0\n",
      "31-01-2024     42,580.50       56480.0       2,283.14       408790.0\n",
      "30-01-2024     42,946.20       55130.0       2,343.11       387120.0\n",
      "29-01-2024     43,299.80       45230.0       2,317.79       318840.0\n"
     ]
    }
   ],
   "source": [
    "crypto_stocks_ind = crypto_stocks.set_index('Date')\n",
    "print(crypto_stocks_ind.head())"
   ]
  },
  {
   "cell_type": "code",
   "execution_count": 15,
   "id": "6f3289ee",
   "metadata": {},
   "outputs": [
    {
     "data": {
      "image/png": "[encoded data removed]",
      "text/plain": [
       "<Figure size 800x600 with 1 Axes>"
      ]
     },
     "metadata": {},
     "output_type": "display_data"
    }
   ],
   "source": [
    "fig, ax = plt.subplots(figsize=(8, 6))\n",
    "ax.plot(crypto_stocks_ind.index, crypto_stocks_ind['Bitcoin_Price'], color = 'blue', linestyle='--')\n",
    "ax.plot(crypto_stocks_ind.index, crypto_stocks_ind['Ethereum_Price'], color='red')\n",
    "\n",
    "plt.show()"
   ]
  },
  {
   "cell_type": "markdown",
   "id": "d1ad91e1",
   "metadata": {},
   "source": []
  }
 ],
 "metadata": {
  "kernelspec": {
   "display_name": "base",
   "language": "python",
   "name": "python3"
  },
  "language_info": {
   "codemirror_mode": {
    "name": "ipython",
    "version": 3
   },
   "file_extension": ".py",
   "mimetype": "text/x-python",
   "name": "python",
   "nbconvert_exporter": "python",
   "pygments_lexer": "ipython3",
   "version": "3.12.3"
  }
 },
 "nbformat": 4,
 "nbformat_minor": 5
}
