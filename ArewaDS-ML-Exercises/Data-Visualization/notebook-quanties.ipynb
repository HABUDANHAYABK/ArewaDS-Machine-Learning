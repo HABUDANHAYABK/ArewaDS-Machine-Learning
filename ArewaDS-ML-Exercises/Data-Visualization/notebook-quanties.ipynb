{
 "cells": [
  {
   "cell_type": "markdown",
   "id": "a45c2cac",
   "metadata": {},
   "source": [
    "# ASSIGNMENT: VISUALIZATIONS OF QUANTITIES\n",
    "\n",
    "### `Instructions`\n",
    "_In this lesson, you worked with line charts, scatterplots, and bar charts to show interesting facts about this dataset. In this assignment, dig deeper into the dataset to discover a fact about a given type of bird. Create a notebook visualizing all the interesting data you can uncover about Snow Geese. Use the three plots mentioned above to tell a story in your notebook._\n",
    "\n"
   ]
  },
  {
   "cell_type": "markdown",
   "id": "3195aed6",
   "metadata": {},
   "source": [
    "Let me import pandas, matplotlib and seaborn and then load and filter the `Dataset`"
   ]
  },
  {
   "cell_type": "code",
   "execution_count": 2,
   "id": "14ec2630",
   "metadata": {},
   "outputs": [
    {
     "data": {
      "application/vnd.microsoft.datawrangler.viewer.v0+json": {
       "columns": [
        {
         "name": "index",
         "rawType": "int64",
         "type": "integer"
        },
        {
         "name": "Name",
         "rawType": "object",
         "type": "string"
        },
        {
         "name": "ScientificName",
         "rawType": "object",
         "type": "string"
        },
        {
         "name": "Category",
         "rawType": "object",
         "type": "string"
        },
        {
         "name": "Order",
         "rawType": "object",
         "type": "string"
        },
        {
         "name": "Family",
         "rawType": "object",
         "type": "string"
        },
        {
         "name": "Genus",
         "rawType": "object",
         "type": "string"
        },
        {
         "name": "ConservationStatus",
         "rawType": "object",
         "type": "string"
        },
        {
         "name": "MinLength",
         "rawType": "float64",
         "type": "float"
        },
        {
         "name": "MaxLength",
         "rawType": "float64",
         "type": "float"
        },
        {
         "name": "MinBodyMass",
         "rawType": "float64",
         "type": "float"
        },
        {
         "name": "MaxBodyMass",
         "rawType": "float64",
         "type": "float"
        },
        {
         "name": "MinWingspan",
         "rawType": "float64",
         "type": "float"
        },
        {
         "name": "MaxWingspan",
         "rawType": "float64",
         "type": "float"
        }
       ],
       "ref": "bd2190b8-f200-4fcf-a2a0-34a3d68eb63b",
       "rows": [
        [
         "0",
         "Black-bellied whistling-duck",
         "Dendrocygna autumnalis",
         "Ducks/Geese/Waterfowl",
         "Anseriformes",
         "Anatidae",
         "Dendrocygna",
         "LC",
         "47.0",
         "56.0",
         "652.0",
         "1020.0",
         "76.0",
         "94.0"
        ],
        [
         "1",
         "Fulvous whistling-duck",
         "Dendrocygna bicolor",
         "Ducks/Geese/Waterfowl",
         "Anseriformes",
         "Anatidae",
         "Dendrocygna",
         "LC",
         "45.0",
         "53.0",
         "712.0",
         "1050.0",
         "85.0",
         "93.0"
        ],
        [
         "2",
         "Snow goose",
         "Anser caerulescens",
         "Ducks/Geese/Waterfowl",
         "Anseriformes",
         "Anatidae",
         "Anser",
         "LC",
         "64.0",
         "79.0",
         "2050.0",
         "4050.0",
         "135.0",
         "165.0"
        ],
        [
         "3",
         "Ross's goose",
         "Anser rossii",
         "Ducks/Geese/Waterfowl",
         "Anseriformes",
         "Anatidae",
         "Anser",
         "LC",
         "57.3",
         "64.0",
         "1066.0",
         "1567.0",
         "113.0",
         "116.0"
        ],
        [
         "4",
         "Greater white-fronted goose",
         "Anser albifrons",
         "Ducks/Geese/Waterfowl",
         "Anseriformes",
         "Anatidae",
         "Anser",
         "LC",
         "64.0",
         "81.0",
         "1930.0",
         "3310.0",
         "130.0",
         "165.0"
        ]
       ],
       "shape": {
        "columns": 13,
        "rows": 5
       }
      },
      "text/html": [
       "<div>\n",
       "<style scoped>\n",
       "    .dataframe tbody tr th:only-of-type {\n",
       "        vertical-align: middle;\n",
       "    }\n",
       "\n",
       "    .dataframe tbody tr th {\n",
       "        vertical-align: top;\n",
       "    }\n",
       "\n",
       "    .dataframe thead th {\n",
       "        text-align: right;\n",
       "    }\n",
       "</style>\n",
       "<table border=\"1\" class=\"dataframe\">\n",
       "  <thead>\n",
       "    <tr style=\"text-align: right;\">\n",
       "      <th></th>\n",
       "      <th>Name</th>\n",
       "      <th>ScientificName</th>\n",
       "      <th>Category</th>\n",
       "      <th>Order</th>\n",
       "      <th>Family</th>\n",
       "      <th>Genus</th>\n",
       "      <th>ConservationStatus</th>\n",
       "      <th>MinLength</th>\n",
       "      <th>MaxLength</th>\n",
       "      <th>MinBodyMass</th>\n",
       "      <th>MaxBodyMass</th>\n",
       "      <th>MinWingspan</th>\n",
       "      <th>MaxWingspan</th>\n",
       "    </tr>\n",
       "  </thead>\n",
       "  <tbody>\n",
       "    <tr>\n",
       "      <th>0</th>\n",
       "      <td>Black-bellied whistling-duck</td>\n",
       "      <td>Dendrocygna autumnalis</td>\n",
       "      <td>Ducks/Geese/Waterfowl</td>\n",
       "      <td>Anseriformes</td>\n",
       "      <td>Anatidae</td>\n",
       "      <td>Dendrocygna</td>\n",
       "      <td>LC</td>\n",
       "      <td>47.0</td>\n",
       "      <td>56.0</td>\n",
       "      <td>652.0</td>\n",
       "      <td>1020.0</td>\n",
       "      <td>76.0</td>\n",
       "      <td>94.0</td>\n",
       "    </tr>\n",
       "    <tr>\n",
       "      <th>1</th>\n",
       "      <td>Fulvous whistling-duck</td>\n",
       "      <td>Dendrocygna bicolor</td>\n",
       "      <td>Ducks/Geese/Waterfowl</td>\n",
       "      <td>Anseriformes</td>\n",
       "      <td>Anatidae</td>\n",
       "      <td>Dendrocygna</td>\n",
       "      <td>LC</td>\n",
       "      <td>45.0</td>\n",
       "      <td>53.0</td>\n",
       "      <td>712.0</td>\n",
       "      <td>1050.0</td>\n",
       "      <td>85.0</td>\n",
       "      <td>93.0</td>\n",
       "    </tr>\n",
       "    <tr>\n",
       "      <th>2</th>\n",
       "      <td>Snow goose</td>\n",
       "      <td>Anser caerulescens</td>\n",
       "      <td>Ducks/Geese/Waterfowl</td>\n",
       "      <td>Anseriformes</td>\n",
       "      <td>Anatidae</td>\n",
       "      <td>Anser</td>\n",
       "      <td>LC</td>\n",
       "      <td>64.0</td>\n",
       "      <td>79.0</td>\n",
       "      <td>2050.0</td>\n",
       "      <td>4050.0</td>\n",
       "      <td>135.0</td>\n",
       "      <td>165.0</td>\n",
       "    </tr>\n",
       "    <tr>\n",
       "      <th>3</th>\n",
       "      <td>Ross's goose</td>\n",
       "      <td>Anser rossii</td>\n",
       "      <td>Ducks/Geese/Waterfowl</td>\n",
       "      <td>Anseriformes</td>\n",
       "      <td>Anatidae</td>\n",
       "      <td>Anser</td>\n",
       "      <td>LC</td>\n",
       "      <td>57.3</td>\n",
       "      <td>64.0</td>\n",
       "      <td>1066.0</td>\n",
       "      <td>1567.0</td>\n",
       "      <td>113.0</td>\n",
       "      <td>116.0</td>\n",
       "    </tr>\n",
       "    <tr>\n",
       "      <th>4</th>\n",
       "      <td>Greater white-fronted goose</td>\n",
       "      <td>Anser albifrons</td>\n",
       "      <td>Ducks/Geese/Waterfowl</td>\n",
       "      <td>Anseriformes</td>\n",
       "      <td>Anatidae</td>\n",
       "      <td>Anser</td>\n",
       "      <td>LC</td>\n",
       "      <td>64.0</td>\n",
       "      <td>81.0</td>\n",
       "      <td>1930.0</td>\n",
       "      <td>3310.0</td>\n",
       "      <td>130.0</td>\n",
       "      <td>165.0</td>\n",
       "    </tr>\n",
       "  </tbody>\n",
       "</table>\n",
       "</div>"
      ],
      "text/plain": [
       "                           Name          ScientificName  \\\n",
       "0  Black-bellied whistling-duck  Dendrocygna autumnalis   \n",
       "1        Fulvous whistling-duck     Dendrocygna bicolor   \n",
       "2                    Snow goose      Anser caerulescens   \n",
       "3                  Ross's goose            Anser rossii   \n",
       "4   Greater white-fronted goose         Anser albifrons   \n",
       "\n",
       "                Category         Order    Family        Genus  \\\n",
       "0  Ducks/Geese/Waterfowl  Anseriformes  Anatidae  Dendrocygna   \n",
       "1  Ducks/Geese/Waterfowl  Anseriformes  Anatidae  Dendrocygna   \n",
       "2  Ducks/Geese/Waterfowl  Anseriformes  Anatidae        Anser   \n",
       "3  Ducks/Geese/Waterfowl  Anseriformes  Anatidae        Anser   \n",
       "4  Ducks/Geese/Waterfowl  Anseriformes  Anatidae        Anser   \n",
       "\n",
       "  ConservationStatus  MinLength  MaxLength  MinBodyMass  MaxBodyMass  \\\n",
       "0                 LC       47.0       56.0        652.0       1020.0   \n",
       "1                 LC       45.0       53.0        712.0       1050.0   \n",
       "2                 LC       64.0       79.0       2050.0       4050.0   \n",
       "3                 LC       57.3       64.0       1066.0       1567.0   \n",
       "4                 LC       64.0       81.0       1930.0       3310.0   \n",
       "\n",
       "   MinWingspan  MaxWingspan  \n",
       "0         76.0         94.0  \n",
       "1         85.0         93.0  \n",
       "2        135.0        165.0  \n",
       "3        113.0        116.0  \n",
       "4        130.0        165.0  "
      ]
     },
     "execution_count": 2,
     "metadata": {},
     "output_type": "execute_result"
    }
   ],
   "source": [
    "import pandas as pd\n",
    "import matplotlib.pyplot as plt\n",
    "import seaborn as sns\n",
    "\n",
    "birds = pd.read_csv(r\"c:/users/danhaya/arewads/arewads-fellowship/arewads-machine-learning/data/birds.csv\")\n",
    "birds.head()\n"
   ]
  },
  {
   "cell_type": "markdown",
   "id": "0e74dd2c",
   "metadata": {},
   "source": [
    "filter the DataFrame to snoow goose only"
   ]
  },
  {
   "cell_type": "code",
   "execution_count": 4,
   "id": "5d894bd9",
   "metadata": {},
   "outputs": [
    {
     "data": {
      "application/vnd.microsoft.datawrangler.viewer.v0+json": {
       "columns": [
        {
         "name": "index",
         "rawType": "int64",
         "type": "integer"
        },
        {
         "name": "Name",
         "rawType": "object",
         "type": "string"
        },
        {
         "name": "ScientificName",
         "rawType": "object",
         "type": "string"
        },
        {
         "name": "Category",
         "rawType": "object",
         "type": "string"
        },
        {
         "name": "Order",
         "rawType": "object",
         "type": "string"
        },
        {
         "name": "Family",
         "rawType": "object",
         "type": "string"
        },
        {
         "name": "Genus",
         "rawType": "object",
         "type": "string"
        },
        {
         "name": "ConservationStatus",
         "rawType": "object",
         "type": "string"
        },
        {
         "name": "MinLength",
         "rawType": "float64",
         "type": "float"
        },
        {
         "name": "MaxLength",
         "rawType": "float64",
         "type": "float"
        },
        {
         "name": "MinBodyMass",
         "rawType": "float64",
         "type": "float"
        },
        {
         "name": "MaxBodyMass",
         "rawType": "float64",
         "type": "float"
        },
        {
         "name": "MinWingspan",
         "rawType": "float64",
         "type": "float"
        },
        {
         "name": "MaxWingspan",
         "rawType": "float64",
         "type": "float"
        }
       ],
       "ref": "cd0cae5e-a56f-4b0f-9a14-1c871f3b6067",
       "rows": [
        [
         "2",
         "Snow goose",
         "Anser caerulescens",
         "Ducks/Geese/Waterfowl",
         "Anseriformes",
         "Anatidae",
         "Anser",
         "LC",
         "64.0",
         "79.0",
         "2050.0",
         "4050.0",
         "135.0",
         "165.0"
        ]
       ],
       "shape": {
        "columns": 13,
        "rows": 1
       }
      },
      "text/html": [
       "<div>\n",
       "<style scoped>\n",
       "    .dataframe tbody tr th:only-of-type {\n",
       "        vertical-align: middle;\n",
       "    }\n",
       "\n",
       "    .dataframe tbody tr th {\n",
       "        vertical-align: top;\n",
       "    }\n",
       "\n",
       "    .dataframe thead th {\n",
       "        text-align: right;\n",
       "    }\n",
       "</style>\n",
       "<table border=\"1\" class=\"dataframe\">\n",
       "  <thead>\n",
       "    <tr style=\"text-align: right;\">\n",
       "      <th></th>\n",
       "      <th>Name</th>\n",
       "      <th>ScientificName</th>\n",
       "      <th>Category</th>\n",
       "      <th>Order</th>\n",
       "      <th>Family</th>\n",
       "      <th>Genus</th>\n",
       "      <th>ConservationStatus</th>\n",
       "      <th>MinLength</th>\n",
       "      <th>MaxLength</th>\n",
       "      <th>MinBodyMass</th>\n",
       "      <th>MaxBodyMass</th>\n",
       "      <th>MinWingspan</th>\n",
       "      <th>MaxWingspan</th>\n",
       "    </tr>\n",
       "  </thead>\n",
       "  <tbody>\n",
       "    <tr>\n",
       "      <th>2</th>\n",
       "      <td>Snow goose</td>\n",
       "      <td>Anser caerulescens</td>\n",
       "      <td>Ducks/Geese/Waterfowl</td>\n",
       "      <td>Anseriformes</td>\n",
       "      <td>Anatidae</td>\n",
       "      <td>Anser</td>\n",
       "      <td>LC</td>\n",
       "      <td>64.0</td>\n",
       "      <td>79.0</td>\n",
       "      <td>2050.0</td>\n",
       "      <td>4050.0</td>\n",
       "      <td>135.0</td>\n",
       "      <td>165.0</td>\n",
       "    </tr>\n",
       "  </tbody>\n",
       "</table>\n",
       "</div>"
      ],
      "text/plain": [
       "         Name      ScientificName               Category         Order  \\\n",
       "2  Snow goose  Anser caerulescens  Ducks/Geese/Waterfowl  Anseriformes   \n",
       "\n",
       "     Family  Genus ConservationStatus  MinLength  MaxLength  MinBodyMass  \\\n",
       "2  Anatidae  Anser                 LC       64.0       79.0       2050.0   \n",
       "\n",
       "   MaxBodyMass  MinWingspan  MaxWingspan  \n",
       "2       4050.0        135.0        165.0  "
      ]
     },
     "execution_count": 4,
     "metadata": {},
     "output_type": "execute_result"
    }
   ],
   "source": [
    "snow_goose = birds[birds['Name'].str.lower().str.contains(\"snow goose\")]\n",
    "snow_goose"
   ]
  },
  {
   "cell_type": "markdown",
   "id": "f8e9ded6",
   "metadata": {},
   "source": [
    "let us visualize its body measurements using Lineplot"
   ]
  },
  {
   "cell_type": "code",
   "execution_count": 5,
   "id": "1e7551a6",
   "metadata": {},
   "outputs": [
    {
     "data": {
      "image/png": "[encoded data removed]",
      "text/plain": [
       "<Figure size 1000x600 with 1 Axes>"
      ]
     },
     "metadata": {},
     "output_type": "display_data"
    }
   ],
   "source": [
    "#Extract relevant features\n",
    "\n",
    "features = ['MinLength', 'MaxLength', 'MaxBodyMass', 'MinBodyMass', 'MinWingspan', 'MaxWingspan']\n",
    "values = snow_goose[features].values.flatten()\n",
    "\n",
    "# Simplify labels\n",
    "labels = ['Min Length', 'Max Length', 'Max Mass', 'Min Mass', 'Min Wingspan', 'Max Wingspan']\n",
    "\n",
    "plt. figure(figsize=(10, 6))\n",
    "plt.plot(labels, values, marker ='o', linestyle='-')\n",
    "plt.title('Snow Goose Physical Features')\n",
    "plt.ylabel('Measurements')\n",
    "plt.grid(True)\n",
    "\n",
    "plt.show()\n",
    "\n"
   ]
  },
  {
   "cell_type": "markdown",
   "id": "ec82fddb",
   "metadata": {},
   "source": [
    "From this plot, we can drive an insight that both min length and max length shared thesame value and also min wingspan and max wingspan share thesame value as well. "
   ]
  },
  {
   "cell_type": "markdown",
   "id": "91b5950a",
   "metadata": {},
   "source": [
    "`Comparison`: let's compare the wingspan to bosy mass"
   ]
  },
  {
   "cell_type": "code",
   "execution_count": 11,
   "id": "f03d9d9a",
   "metadata": {},
   "outputs": [
    {
     "data": {
      "image/png": "[encoded data removed]",
      "text/plain": [
       "<Figure size 640x480 with 1 Axes>"
      ]
     },
     "metadata": {},
     "output_type": "display_data"
    }
   ],
   "source": [
    "plot_data = pd.DataFrame({\n",
    "    \"Body Mass (g)\" : [snow_goose['MinBodyMass'].values[0], snow_goose['MaxBodyMass'].values[0]],\n",
    "    \"Wingspan (cm)\" : [snow_goose['MinWingspan'].values[0], snow_goose['MaxWingspan'].values[0]]\n",
    "})\n",
    "\n",
    "plt.Figure(figsize=((6,6)))\n",
    "sns.scatterplot(data = plot_data, x= 'Body Mass (g)', y= 'Wingspan (cm)')\n",
    "plt.title(\"Snow Goose: Body Mass vs Wingspan\")\n",
    "plt.grid(True)\n",
    "\n",
    "plt.show()"
   ]
  },
  {
   "cell_type": "markdown",
   "id": "595682fb",
   "metadata": {},
   "source": [
    "we can't drive meaningful insight from this plot of the little amount of points we have. "
   ]
  },
  {
   "cell_type": "code",
   "execution_count": null,
   "id": "07e4d57c",
   "metadata": {},
   "outputs": [
    {
     "name": "stdout",
     "output_type": "stream",
     "text": [
      "    Features     Min     Max\n",
      "0     Length    64.0    79.0\n",
      "1  Body Mass  2050.0  4050.0\n",
      "2   Wingspan   135.0   165.0\n"
     ]
    }
   ],
   "source": [
    "# Convert the snow goose row into a long-form DataFrame\n",
    "\n",
    "long_data = pd.DataFrame({\n",
    "    \"Features\": ['Length', 'Body Mass', 'Wingspan'],\n",
    "    \"Min\": [snow_goose['MinLength'].values[0], snow_goose['MinBodyMass'].values[0], snow_goose['MinWingspan'].values[0]],\n",
    "    \"Max\": [snow_goose['MaxLength'].values[0], snow_goose['MaxBodyMass'].values[0], snow_goose['MaxWingspan'].values[0]]\n",
    "})\n",
    "print(long_data)"
   ]
  },
  {
   "cell_type": "code",
   "execution_count": 16,
   "id": "07b63c65",
   "metadata": {},
   "outputs": [
    {
     "name": "stdout",
     "output_type": "stream",
     "text": [
      "    Features Type   Value\n",
      "0     Length  Min    64.0\n",
      "1  Body Mass  Min  2050.0\n",
      "2   Wingspan  Min   135.0\n",
      "3     Length  Max    79.0\n",
      "4  Body Mass  Max  4050.0\n",
      "5   Wingspan  Max   165.0\n"
     ]
    }
   ],
   "source": [
    "# melt for seaborn\n",
    "long_melted = pd.melt(long_data, id_vars='Features', value_vars=['Min', 'Max'], var_name = 'Type', value_name='Value')\n",
    "print(long_melted)"
   ]
  },
  {
   "cell_type": "code",
   "execution_count": 18,
   "id": "bfe09f2b",
   "metadata": {},
   "outputs": [
    {
     "data": {
      "image/png": "[encoded data removed]",
      "text/plain": [
       "<Figure size 800x600 with 1 Axes>"
      ]
     },
     "metadata": {},
     "output_type": "display_data"
    }
   ],
   "source": [
    "plt.figure(figsize=((8, 6)))\n",
    "sns.barplot(\n",
    "    data = long_melted,\n",
    "    x = 'Features',\n",
    "    y = 'Value',\n",
    "    hue = 'Type',\n",
    "    palette = 'Set2'\n",
    ")\n",
    "plt.title(\"Min vs Max Measurements of Snow Goose\")\n",
    "plt.tight_layout()\n",
    "\n",
    "plt.show()"
   ]
  },
  {
   "cell_type": "markdown",
   "id": "a2706478",
   "metadata": {},
   "source": [
    "### `Conclusion`\n",
    "The analysis of the snow goose's physical features using bar chart highlights important differences in scale among its body measurements. we cannot drive meaningful insight fro this graph alone because of difference in unit measurement.\n"
   ]
  }
 ],
 "metadata": {
  "kernelspec": {
   "display_name": "base",
   "language": "python",
   "name": "python3"
  },
  "language_info": {
   "codemirror_mode": {
    "name": "ipython",
    "version": 3
   },
   "file_extension": ".py",
   "mimetype": "text/x-python",
   "name": "python",
   "nbconvert_exporter": "python",
   "pygments_lexer": "ipython3",
   "version": "3.12.3"
  }
 },
 "nbformat": 4,
 "nbformat_minor": 5
}
