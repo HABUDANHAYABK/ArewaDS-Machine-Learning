{
 "cells": [
  {
   "cell_type": "markdown",
   "id": "23c719f2",
   "metadata": {},
   "source": [
    "# NUMPY 100 EXERCISES"
   ]
  },
  {
   "cell_type": "markdown",
   "id": "887cbb99",
   "metadata": {},
   "source": [
    "1.  Import the numpy package under the name np"
   ]
  },
  {
   "cell_type": "code",
   "execution_count": 1,
   "id": "23c282ce",
   "metadata": {},
   "outputs": [],
   "source": [
    "import numpy as np"
   ]
  },
  {
   "cell_type": "markdown",
   "id": "5965fc0e",
   "metadata": {},
   "source": [
    "2. Print numpy version and configuration"
   ]
  },
  {
   "cell_type": "code",
   "execution_count": 3,
   "id": "6bd4cc12",
   "metadata": {},
   "outputs": [
    {
     "name": "stdout",
     "output_type": "stream",
     "text": [
      "Numpy version: 2.1.3\n",
      "{\n",
      "  \"Compilers\": {\n",
      "    \"c\": {\n",
      "      \"name\": \"msvc\",\n",
      "      \"linker\": \"link\",\n",
      "      \"version\": \"19.29.30156\",\n",
      "      \"commands\": \"cl\"\n",
      "    },\n",
      "    \"cython\": {\n",
      "      \"name\": \"cython\",\n",
      "      \"linker\": \"cython\",\n",
      "      \"version\": \"3.0.11\",\n",
      "      \"commands\": \"cython\"\n",
      "    },\n",
      "    \"c++\": {\n",
      "      \"name\": \"msvc\",\n",
      "      \"linker\": \"link\",\n",
      "      \"version\": \"19.29.30156\",\n",
      "      \"commands\": \"cl\"\n",
      "    }\n",
      "  },\n",
      "  \"Machine Information\": {\n",
      "    \"host\": {\n",
      "      \"cpu\": \"x86_64\",\n",
      "      \"family\": \"x86_64\",\n",
      "      \"endian\": \"little\",\n",
      "      \"system\": \"windows\"\n",
      "    },\n",
      "    \"build\": {\n",
      "      \"cpu\": \"x86_64\",\n",
      "      \"family\": \"x86_64\",\n",
      "      \"endian\": \"little\",\n",
      "      \"system\": \"windows\"\n",
      "    }\n",
      "  },\n",
      "  \"Build Dependencies\": {\n",
      "    \"blas\": {\n",
      "      \"name\": \"scipy-openblas\",\n",
      "      \"found\": true,\n",
      "      \"version\": \"0.3.27\",\n",
      "      \"detection method\": \"pkgconfig\",\n",
      "      \"include directory\": \"C:/Users/runneradmin/AppData/Local/Temp/cibw-run-__cqtv8c/cp312-win_amd64/build/venv/Lib/site-packages/scipy_openblas64/include\",\n",
      "      \"lib directory\": \"C:/Users/runneradmin/AppData/Local/Temp/cibw-run-__cqtv8c/cp312-win_amd64/build/venv/Lib/site-packages/scipy_openblas64/lib\",\n",
      "      \"openblas configuration\": \"OpenBLAS 0.3.27  USE64BITINT DYNAMIC_ARCH NO_AFFINITY Haswell MAX_THREADS=24\",\n",
      "      \"pc file directory\": \"D:/a/numpy/numpy/.openblas\"\n",
      "    },\n",
      "    \"lapack\": {\n",
      "      \"name\": \"scipy-openblas\",\n",
      "      \"found\": true,\n",
      "      \"version\": \"0.3.27\",\n",
      "      \"detection method\": \"pkgconfig\",\n",
      "      \"include directory\": \"C:/Users/runneradmin/AppData/Local/Temp/cibw-run-__cqtv8c/cp312-win_amd64/build/venv/Lib/site-packages/scipy_openblas64/include\",\n",
      "      \"lib directory\": \"C:/Users/runneradmin/AppData/Local/Temp/cibw-run-__cqtv8c/cp312-win_amd64/build/venv/Lib/site-packages/scipy_openblas64/lib\",\n",
      "      \"openblas configuration\": \"OpenBLAS 0.3.27  USE64BITINT DYNAMIC_ARCH NO_AFFINITY Haswell MAX_THREADS=24\",\n",
      "      \"pc file directory\": \"D:/a/numpy/numpy/.openblas\"\n",
      "    }\n",
      "  },\n",
      "  \"Python Information\": {\n",
      "    \"path\": \"C:\\\\Users\\\\runneradmin\\\\AppData\\\\Local\\\\Temp\\\\build-env-3wj3z502\\\\Scripts\\\\python.exe\",\n",
      "    \"version\": \"3.12\"\n",
      "  },\n",
      "  \"SIMD Extensions\": {\n",
      "    \"baseline\": [\n",
      "      \"SSE\",\n",
      "      \"SSE2\",\n",
      "      \"SSE3\"\n",
      "    ],\n",
      "    \"found\": [\n",
      "      \"SSSE3\",\n",
      "      \"SSE41\",\n",
      "      \"POPCNT\",\n",
      "      \"SSE42\"\n",
      "    ],\n",
      "    \"not found\": [\n",
      "      \"AVX\",\n",
      "      \"F16C\",\n",
      "      \"FMA3\",\n",
      "      \"AVX2\",\n",
      "      \"AVX512F\",\n",
      "      \"AVX512CD\",\n",
      "      \"AVX512_SKX\",\n",
      "      \"AVX512_CLX\",\n",
      "      \"AVX512_CNL\",\n",
      "      \"AVX512_ICL\"\n",
      "    ]\n",
      "  }\n",
      "}\n",
      "Numpy Configuration: None\n"
     ]
    },
    {
     "name": "stderr",
     "output_type": "stream",
     "text": [
      "c:\\Users\\Danhaya\\miniconda3\\Lib\\site-packages\\numpy\\__config__.py:155: UserWarning: Install `pyyaml` for better output\n",
      "  warnings.warn(\"Install `pyyaml` for better output\", stacklevel=1)\n"
     ]
    }
   ],
   "source": [
    "print('Numpy version:', np.__version__)\n",
    "print('Numpy Configuration:', np.show_config())"
   ]
  },
  {
   "cell_type": "markdown",
   "id": "66c29357",
   "metadata": {},
   "source": [
    "3. create null vector of size 10"
   ]
  },
  {
   "cell_type": "code",
   "execution_count": 4,
   "id": "b910d1e4",
   "metadata": {},
   "outputs": [
    {
     "data": {
      "text/plain": [
       "array([0., 0., 0., 0., 0., 0., 0., 0., 0., 0.])"
      ]
     },
     "execution_count": 4,
     "metadata": {},
     "output_type": "execute_result"
    }
   ],
   "source": [
    "null_vector = np.zeros(10)\n",
    "null_vector"
   ]
  },
  {
   "cell_type": "markdown",
   "id": "cd81fdac",
   "metadata": {},
   "source": [
    "4. How to find memory size of any array"
   ]
  },
  {
   "cell_type": "code",
   "execution_count": 5,
   "id": "c9b9f2f0",
   "metadata": {},
   "outputs": [
    {
     "data": {
      "text/plain": [
       "80"
      ]
     },
     "execution_count": 5,
     "metadata": {},
     "output_type": "execute_result"
    }
   ],
   "source": [
    "null_vector.nbytes"
   ]
  },
  {
   "cell_type": "code",
   "execution_count": 6,
   "id": "3d9d26b1",
   "metadata": {},
   "outputs": [
    {
     "name": "stdout",
     "output_type": "stream",
     "text": [
      "Size of one element:  8\n",
      "Total elements:  10\n",
      "Total Memory:  80\n"
     ]
    }
   ],
   "source": [
    "print(\"Size of one element: \", null_vector.itemsize)\n",
    "print(\"Total elements: \", null_vector.size)\n",
    "print('Total Memory: ', null_vector.nbytes)"
   ]
  },
  {
   "cell_type": "markdown",
   "id": "3f622ca1",
   "metadata": {},
   "source": [
    "5. How to get documentation of the numpy add function from the command line?"
   ]
  },
  {
   "cell_type": "code",
   "execution_count": 8,
   "id": "099f721d",
   "metadata": {},
   "outputs": [
    {
     "name": "stdout",
     "output_type": "stream",
     "text": [
      "Help on ufunc:\n",
      "\n",
      "add = <ufunc 'add'>\n",
      "    add(x1, x2, /, out=None, *, where=True, casting='same_kind', order='K', dtype=None, subok=True[, signature])\n",
      "\n",
      "    Add arguments element-wise.\n",
      "\n",
      "    Parameters\n",
      "    ----------\n",
      "    x1, x2 : array_like\n",
      "        The arrays to be added.\n",
      "        If ``x1.shape != x2.shape``, they must be broadcastable to a common\n",
      "        shape (which becomes the shape of the output).\n",
      "    out : ndarray, None, or tuple of ndarray and None, optional\n",
      "        A location into which the result is stored. If provided, it must have\n",
      "        a shape that the inputs broadcast to. If not provided or None,\n",
      "        a freshly-allocated array is returned. A tuple (possible only as a\n",
      "        keyword argument) must have length equal to the number of outputs.\n",
      "    where : array_like, optional\n",
      "        This condition is broadcast over the input. At locations where the\n",
      "        condition is True, the `out` array will be set to the ufunc result.\n",
      "        Elsewhere, the `out` array will retain its original value.\n",
      "        Note that if an uninitialized `out` array is created via the default\n",
      "        ``out=None``, locations within it where the condition is False will\n",
      "        remain uninitialized.\n",
      "    **kwargs\n",
      "        For other keyword-only arguments, see the\n",
      "        :ref:`ufunc docs <ufuncs.kwargs>`.\n",
      "\n",
      "    Returns\n",
      "    -------\n",
      "    add : ndarray or scalar\n",
      "        The sum of `x1` and `x2`, element-wise.\n",
      "        This is a scalar if both `x1` and `x2` are scalars.\n",
      "\n",
      "    Notes\n",
      "    -----\n",
      "    Equivalent to `x1` + `x2` in terms of array broadcasting.\n",
      "\n",
      "    Examples\n",
      "    --------\n",
      "    >>> import numpy as np\n",
      "    >>> np.add(1.0, 4.0)\n",
      "    5.0\n",
      "    >>> x1 = np.arange(9.0).reshape((3, 3))\n",
      "    >>> x2 = np.arange(3.0)\n",
      "    >>> np.add(x1, x2)\n",
      "    array([[  0.,   2.,   4.],\n",
      "           [  3.,   5.,   7.],\n",
      "           [  6.,   8.,  10.]])\n",
      "\n",
      "    The ``+`` operator can be used as a shorthand for ``np.add`` on ndarrays.\n",
      "\n",
      "    >>> x1 = np.arange(9.0).reshape((3, 3))\n",
      "    >>> x2 = np.arange(3.0)\n",
      "    >>> x1 + x2\n",
      "    array([[ 0.,  2.,  4.],\n",
      "           [ 3.,  5.,  7.],\n",
      "           [ 6.,  8., 10.]])\n",
      "\n"
     ]
    }
   ],
   "source": [
    "help(np.add)"
   ]
  },
  {
   "cell_type": "markdown",
   "id": "2b280faf",
   "metadata": {},
   "source": [
    "6. create a null vector of size 10 but the fifth value which is 1 "
   ]
  },
  {
   "cell_type": "code",
   "execution_count": 11,
   "id": "d3baa973",
   "metadata": {},
   "outputs": [
    {
     "data": {
      "text/plain": [
       "array([0., 0., 0., 0., 1., 0., 0., 0., 0., 0.])"
      ]
     },
     "execution_count": 11,
     "metadata": {},
     "output_type": "execute_result"
    }
   ],
   "source": [
    "null_vector = np.zeros(10)\n",
    "null_vector[4] = 1\n",
    "null_vector"
   ]
  },
  {
   "cell_type": "markdown",
   "id": "82006d49",
   "metadata": {},
   "source": [
    "7. Create a vector with values ranging from 10 to 49"
   ]
  },
  {
   "cell_type": "code",
   "execution_count": 13,
   "id": "6b57225e",
   "metadata": {},
   "outputs": [
    {
     "data": {
      "text/plain": [
       "array([10, 11, 12, 13, 14, 15, 16, 17, 18, 19, 20, 21, 22, 23, 24, 25, 26,\n",
       "       27, 28, 29, 30, 31, 32, 33, 34, 35, 36, 37, 38, 39, 40, 41, 42, 43,\n",
       "       44, 45, 46, 47, 48, 49])"
      ]
     },
     "execution_count": 13,
     "metadata": {},
     "output_type": "execute_result"
    }
   ],
   "source": [
    "values = list(range(10, 50))\n",
    "vectors = np.array(values)\n",
    "vectors"
   ]
  },
  {
   "cell_type": "markdown",
   "id": "3277a8aa",
   "metadata": {},
   "source": [
    "8. Reverse the vector "
   ]
  },
  {
   "cell_type": "code",
   "execution_count": 15,
   "id": "fbd34df1",
   "metadata": {},
   "outputs": [
    {
     "data": {
      "text/plain": [
       "array([49, 48, 47, 46, 45, 44, 43, 42, 41, 40, 39, 38, 37, 36, 35, 34, 33,\n",
       "       32, 31, 30, 29, 28, 27, 26, 25, 24, 23, 22, 21, 20, 19, 18, 17, 16,\n",
       "       15, 14, 13, 12, 11, 10])"
      ]
     },
     "execution_count": 15,
     "metadata": {},
     "output_type": "execute_result"
    }
   ],
   "source": [
    "reversed_vector = vectors[::-1]\n",
    "reversed_vector"
   ]
  },
  {
   "cell_type": "markdown",
   "id": "0b8cecc2",
   "metadata": {},
   "source": [
    "9. create 3x3 matrix with values ranging from 0 to 8"
   ]
  },
  {
   "cell_type": "code",
   "execution_count": 16,
   "id": "ff354aac",
   "metadata": {},
   "outputs": [
    {
     "data": {
      "text/plain": [
       "array([[0, 1, 2],\n",
       "       [3, 4, 5],\n",
       "       [6, 7, 8]])"
      ]
     },
     "execution_count": 16,
     "metadata": {},
     "output_type": "execute_result"
    }
   ],
   "source": [
    "matrix = np.arange(9).reshape((3, 3))\n",
    "matrix"
   ]
  },
  {
   "cell_type": "markdown",
   "id": "2522d692",
   "metadata": {},
   "source": [
    "10. Find the indices of non-zero elements from [1, 2, 0, 0, 4, 0]"
   ]
  },
  {
   "cell_type": "code",
   "execution_count": 17,
   "id": "490949d3",
   "metadata": {},
   "outputs": [
    {
     "data": {
      "text/plain": [
       "(array([0, 1, 4]),)"
      ]
     },
     "execution_count": 17,
     "metadata": {},
     "output_type": "execute_result"
    }
   ],
   "source": [
    "arr = np.array([1, 2, 0, 0, 4, 0])\n",
    "non_zero_indices = np.nonzero(arr)\n",
    "non_zero_indices"
   ]
  },
  {
   "cell_type": "markdown",
   "id": "a6f47d15",
   "metadata": {},
   "source": [
    "11. Create a 3x3 identity matrix"
   ]
  },
  {
   "cell_type": "code",
   "execution_count": 2,
   "id": "360e95fd",
   "metadata": {},
   "outputs": [
    {
     "name": "stdout",
     "output_type": "stream",
     "text": [
      "[[1. 0. 0.]\n",
      " [0. 1. 0.]\n",
      " [0. 0. 1.]]\n"
     ]
    }
   ],
   "source": [
    "import numpy as np\n",
    "\n",
    "indentity_matrix = np.eye(3)\n",
    "print(indentity_matrix)"
   ]
  },
  {
   "cell_type": "markdown",
   "id": "3d8b296d",
   "metadata": {},
   "source": [
    "12. Create a 3x3x3 array with random values"
   ]
  },
  {
   "cell_type": "code",
   "execution_count": 6,
   "id": "61762b02",
   "metadata": {},
   "outputs": [
    {
     "data": {
      "text/plain": [
       "array([[[0.74163442, 0.1109483 , 0.94763692],\n",
       "        [0.46585186, 0.85431347, 0.48277474],\n",
       "        [0.16588875, 0.1775789 , 0.09320142]],\n",
       "\n",
       "       [[0.64736986, 0.89301261, 0.98884153],\n",
       "        [0.17404274, 0.77781026, 0.24493503],\n",
       "        [0.25377604, 0.37196628, 0.31082043]],\n",
       "\n",
       "       [[0.30602667, 0.09166278, 0.73755232],\n",
       "        [0.42228594, 0.12186832, 0.92529909],\n",
       "        [0.74308649, 0.25310259, 0.1131226 ]]])"
      ]
     },
     "execution_count": 6,
     "metadata": {},
     "output_type": "execute_result"
    }
   ],
   "source": [
    "arr = np.random.rand(3,3,3)\n",
    "arr"
   ]
  },
  {
   "cell_type": "markdown",
   "id": "cfcf95db",
   "metadata": {},
   "source": [
    "13. Create a 10x10 array with random values and find the minimum and maximum values"
   ]
  },
  {
   "cell_type": "code",
   "execution_count": 8,
   "id": "98b662b6",
   "metadata": {},
   "outputs": [
    {
     "data": {
      "text/plain": [
       "array([[ 0,  1,  2,  3,  4,  5,  6,  7,  8,  9],\n",
       "       [10, 11, 12, 13, 14, 15, 16, 17, 18, 19],\n",
       "       [20, 21, 22, 23, 24, 25, 26, 27, 28, 29],\n",
       "       [30, 31, 32, 33, 34, 35, 36, 37, 38, 39],\n",
       "       [40, 41, 42, 43, 44, 45, 46, 47, 48, 49],\n",
       "       [50, 51, 52, 53, 54, 55, 56, 57, 58, 59],\n",
       "       [60, 61, 62, 63, 64, 65, 66, 67, 68, 69],\n",
       "       [70, 71, 72, 73, 74, 75, 76, 77, 78, 79],\n",
       "       [80, 81, 82, 83, 84, 85, 86, 87, 88, 89],\n",
       "       [90, 91, 92, 93, 94, 95, 96, 97, 98, 99]])"
      ]
     },
     "execution_count": 8,
     "metadata": {},
     "output_type": "execute_result"
    }
   ],
   "source": [
    "arr = np.arange(100).reshape(10,10)\n",
    "arr"
   ]
  },
  {
   "cell_type": "code",
   "execution_count": null,
   "id": "04401dc9",
   "metadata": {},
   "outputs": [
    {
     "data": {
      "text/plain": [
       "array([[6.01870783e-01, 7.34365417e-01, 7.34981347e-01, 9.31027698e-02,\n",
       "        8.95781476e-01, 2.09214491e-01, 8.12166100e-01, 2.34186250e-01,\n",
       "        3.92361121e-01, 9.64085467e-01],\n",
       "       [4.39203612e-01, 2.39922851e-01, 4.70085593e-01, 8.94809703e-01,\n",
       "        4.84244275e-02, 5.53573091e-01, 6.69700058e-01, 3.41350911e-01,\n",
       "        4.45846154e-01, 2.86183884e-01],\n",
       "       [4.99634828e-01, 4.65312813e-01, 4.06691508e-01, 2.63910744e-01,\n",
       "        4.91852129e-01, 9.56905817e-01, 1.96595409e-01, 3.76671536e-01,\n",
       "        4.51707283e-04, 1.59212204e-02],\n",
       "       [5.76604075e-01, 7.45342361e-01, 9.76276676e-01, 6.36739166e-01,\n",
       "        6.93806490e-01, 8.61998561e-02, 3.44053220e-01, 3.04862490e-01,\n",
       "        6.06994108e-01, 4.54583204e-01],\n",
       "       [4.26966694e-01, 4.02424300e-01, 5.62790220e-01, 4.70056596e-01,\n",
       "        7.24679908e-01, 4.93156899e-01, 8.94201160e-01, 9.72093732e-01,\n",
       "        8.45410989e-02, 9.68122501e-01],\n",
       "       [4.87091486e-01, 1.59522998e-01, 4.45960929e-01, 6.89708744e-01,\n",
       "        2.49405721e-01, 1.29588349e-01, 5.43152727e-01, 1.63267987e-01,\n",
       "        7.35725110e-01, 6.19614898e-01],\n",
       "       [3.92903443e-01, 1.78991000e-02, 6.59825383e-01, 5.43035062e-02,\n",
       "        9.82385316e-01, 3.45820827e-01, 1.05774026e-01, 8.93583680e-01,\n",
       "        3.24237734e-01, 9.92397533e-01],\n",
       "       [7.80460745e-01, 6.23509664e-01, 4.05260287e-01, 6.28655790e-03,\n",
       "        1.63097139e-01, 3.08065923e-01, 2.90372059e-01, 1.77426064e-02,\n",
       "        4.14003326e-01, 7.37467207e-01],\n",
       "       [3.48350938e-02, 8.10730708e-01, 7.49602251e-01, 8.22563655e-01,\n",
       "        8.63630793e-02, 5.11468218e-01, 7.35236166e-01, 7.07524463e-01,\n",
       "        1.26365999e-01, 3.25521559e-01],\n",
       "       [7.04593480e-01, 6.39097593e-02, 6.17200173e-01, 2.84637800e-01,\n",
       "        3.00680745e-01, 1.18064586e-02, 3.01805093e-01, 9.39773888e-01,\n",
       "        2.95962269e-01, 5.74495064e-01]])"
      ]
     },
     "execution_count": 13,
     "metadata": {},
     "output_type": "execute_result"
    }
   ],
   "source": [
    "arr = np.random.rand(10, 10)\n",
    "arr\n",
    "\n",
    "\n"
   ]
  },
  {
   "cell_type": "code",
   "execution_count": 16,
   "id": "f56459a0",
   "metadata": {},
   "outputs": [
    {
     "name": "stdout",
     "output_type": "stream",
     "text": [
      "minimun val:  0.0004517072830716451\n",
      "maximun val:  0.9923975325353306\n"
     ]
    }
   ],
   "source": [
    "print(\"minimun val: \", arr.min())\n",
    "print(\"maximun val: \", arr.max())"
   ]
  },
  {
   "cell_type": "markdown",
   "id": "3122577f",
   "metadata": {},
   "source": [
    "14. Create a random vector of size 30 and find the mean value"
   ]
  },
  {
   "cell_type": "code",
   "execution_count": 17,
   "id": "b1b9280f",
   "metadata": {},
   "outputs": [
    {
     "name": "stdout",
     "output_type": "stream",
     "text": [
      "mean : 0.5570619306610542\n"
     ]
    }
   ],
   "source": [
    "arr = np.random.rand(30)\n",
    "print(\"mean :\", np.mean(arr))"
   ]
  },
  {
   "cell_type": "markdown",
   "id": "51d1a407",
   "metadata": {},
   "source": [
    "15. Create a 2d array with 1 on the border and 0 inside"
   ]
  },
  {
   "cell_type": "code",
   "execution_count": 18,
   "id": "71129c94",
   "metadata": {},
   "outputs": [
    {
     "data": {
      "text/plain": [
       "array([[1., 1., 1., 1., 1.],\n",
       "       [1., 0., 0., 0., 1.],\n",
       "       [1., 0., 0., 0., 1.],\n",
       "       [1., 0., 0., 0., 1.],\n",
       "       [1., 1., 1., 1., 1.]])"
      ]
     },
     "execution_count": 18,
     "metadata": {},
     "output_type": "execute_result"
    }
   ],
   "source": [
    "arr = np.ones((5,5))\n",
    "arr[1: -1, 1: -1] = 0\n",
    "arr"
   ]
  },
  {
   "cell_type": "markdown",
   "id": "86afb5de",
   "metadata": {},
   "source": [
    "16. How to add a border (filled with 0's) around an existing array?"
   ]
  },
  {
   "cell_type": "code",
   "execution_count": 19,
   "id": "21954b63",
   "metadata": {},
   "outputs": [
    {
     "data": {
      "text/plain": [
       "array([[0, 0, 0, 0, 0],\n",
       "       [0, 1, 2, 3, 0],\n",
       "       [0, 4, 5, 6, 0],\n",
       "       [0, 7, 8, 9, 0],\n",
       "       [0, 0, 0, 0, 0]])"
      ]
     },
     "execution_count": 19,
     "metadata": {},
     "output_type": "execute_result"
    }
   ],
   "source": [
    "arr = np.array([[1,2,3], [4,5,6], [7,8,9]])\n",
    "bordered_array = np.pad(arr,1, mode = 'constant')\n",
    "bordered_array"
   ]
  },
  {
   "cell_type": "markdown",
   "id": "90dd5047",
   "metadata": {},
   "source": [
    "17.  What is the result of the following expression?\n",
    "\n",
    "```python\n",
    "0 * np.nan\n",
    "np.nan == np.nan\n",
    "np.inf > np.nan\n",
    "np.nan - np.nan\n",
    "np.nan in set([np.nan])\n",
    "0.3 == 3 * 0.1 \n",
    "```"
   ]
  },
  {
   "cell_type": "markdown",
   "id": "263670af",
   "metadata": {},
   "source": [
    "18. Create a 5x5 matrix with values 1,2,3,4 just below the diagonal"
   ]
  },
  {
   "cell_type": "code",
   "execution_count": 22,
   "id": "ec77ae9d",
   "metadata": {},
   "outputs": [
    {
     "data": {
      "text/plain": [
       "array([[0, 0, 0, 0, 0],\n",
       "       [1, 0, 0, 0, 0],\n",
       "       [0, 2, 0, 0, 0],\n",
       "       [0, 0, 3, 0, 0],\n",
       "       [0, 0, 0, 4, 0]])"
      ]
     },
     "execution_count": 22,
     "metadata": {},
     "output_type": "execute_result"
    }
   ],
   "source": [
    "values = np.array([1, 2, 3, 4])\n",
    "matrix = np.zeros((5,5), dtype=int)\n",
    "\n",
    "np.fill_diagonal(matrix[1:], values)\n",
    "matrix"
   ]
  },
  {
   "cell_type": "markdown",
   "id": "3c40bf4a",
   "metadata": {},
   "source": [
    "19. Create a 8x8 matrix and fill it with a checkerboard pattern"
   ]
  },
  {
   "cell_type": "code",
   "execution_count": 23,
   "id": "c8dfe7fe",
   "metadata": {},
   "outputs": [
    {
     "data": {
      "text/plain": [
       "array([[0., 1., 0., 1., 0., 1., 0., 1.],\n",
       "       [1., 0., 1., 0., 1., 0., 1., 0.],\n",
       "       [0., 1., 0., 1., 0., 1., 0., 1.],\n",
       "       [1., 0., 1., 0., 1., 0., 1., 0.],\n",
       "       [0., 1., 0., 1., 0., 1., 0., 1.],\n",
       "       [1., 0., 1., 0., 1., 0., 1., 0.],\n",
       "       [0., 1., 0., 1., 0., 1., 0., 1.],\n",
       "       [1., 0., 1., 0., 1., 0., 1., 0.]])"
      ]
     },
     "execution_count": 23,
     "metadata": {},
     "output_type": "execute_result"
    }
   ],
   "source": [
    "checkboard = np.zeros((8,8))\n",
    "\n",
    "checkboard[1::2, ::2] = 1\n",
    "checkboard[::2, 1::2] = 1\n",
    "\n",
    "checkboard"
   ]
  },
  {
   "cell_type": "code",
   "execution_count": 24,
   "id": "35fa6c8a",
   "metadata": {},
   "outputs": [
    {
     "data": {
      "image/png": "[encoded data removed]",
      "text/plain": [
       "<Figure size 500x500 with 1 Axes>"
      ]
     },
     "metadata": {},
     "output_type": "display_data"
    }
   ],
   "source": [
    "import matplotlib.pyplot as plt\n",
    "\n",
    "plt.figure(figsize=(5,5))\n",
    "plt.imshow(checkboard, cmap='gray', interpolation='nearest')\n",
    "plt.title('8x8 Checkboard Pattern')\n",
    "plt.axis('off')\n",
    "plt.show()\n"
   ]
  },
  {
   "cell_type": "markdown",
   "id": "8f4bb198",
   "metadata": {},
   "source": [
    "20. Consider a (6,7,8) shape array, what is the index (x,y,z) of the 100th element?"
   ]
  },
  {
   "cell_type": "code",
   "execution_count": 25,
   "id": "e0ec84a4",
   "metadata": {},
   "outputs": [
    {
     "name": "stdout",
     "output_type": "stream",
     "text": [
      "(np.int64(1), np.int64(5), np.int64(3))\n"
     ]
    }
   ],
   "source": [
    "arr = np.empty((6,7,8))\n",
    "index = np.unravel_index(99, arr.shape)\n",
    "print(index)"
   ]
  },
  {
   "cell_type": "markdown",
   "id": "5ad1324a",
   "metadata": {},
   "source": [
    "21. Create a checkerboard 8x8 matrix using the tile function"
   ]
  },
  {
   "cell_type": "code",
   "execution_count": 1,
   "id": "9fbe2c4b",
   "metadata": {},
   "outputs": [
    {
     "name": "stdout",
     "output_type": "stream",
     "text": [
      "[[0 1 0 1 0 1 0 1]\n",
      " [1 0 1 0 1 0 1 0]\n",
      " [0 1 0 1 0 1 0 1]\n",
      " [1 0 1 0 1 0 1 0]\n",
      " [0 1 0 1 0 1 0 1]\n",
      " [1 0 1 0 1 0 1 0]\n",
      " [0 1 0 1 0 1 0 1]\n",
      " [1 0 1 0 1 0 1 0]]\n"
     ]
    }
   ],
   "source": [
    "import numpy as np\n",
    "\n",
    "pattern = np.array([[0,1], [1, 0]])\n",
    "checkboard = np.tile(pattern, (4, 4))\n",
    "print(checkboard)"
   ]
  },
  {
   "cell_type": "markdown",
   "id": "5fc317b6",
   "metadata": {},
   "source": [
    "22. Normalize a 5x5 random matrix"
   ]
  },
  {
   "cell_type": "code",
   "execution_count": 2,
   "id": "a4225dc8",
   "metadata": {},
   "outputs": [
    {
     "name": "stdout",
     "output_type": "stream",
     "text": [
      "Normalized Matrix:\n",
      " [[0.65641198 0.64900771 0.2784294  0.79001323 0.95082568]\n",
      " [0.99312197 0.00867688 0.8612815  0.49287803 0.01473899]\n",
      " [1.         0.09504383 0.62717814 0.98974869 0.        ]\n",
      " [0.98693033 0.8741716  0.97041865 0.10302869 0.03568987]\n",
      " [0.83752393 0.88392282 0.93000062 0.34301504 0.6185366 ]]\n"
     ]
    }
   ],
   "source": [
    "matrix = np.random.rand(5,5)\n",
    "normalized_matrix = (matrix - matrix.min()) / (matrix.max() - matrix.min())\n",
    "print(\"Normalized Matrix:\\n\", normalized_matrix)"
   ]
  },
  {
   "cell_type": "markdown",
   "id": "b7b40eb4",
   "metadata": {},
   "source": [
    "23. Create a custom dtype that describes a color as four unsigned bytes (RGBA)"
   ]
  },
  {
   "cell_type": "code",
   "execution_count": 3,
   "id": "ec7c6406",
   "metadata": {},
   "outputs": [
    {
     "name": "stdout",
     "output_type": "stream",
     "text": [
      "[(255,   0,   0, 255) (  0, 255,   0, 255) (  0,   0, 255, 255)\n",
      " (255, 255,   0, 188)]\n"
     ]
    }
   ],
   "source": [
    "rgba_dtype = np.dtype([('R', np.uint8), ('G', np.uint8), ('B', np.uint8), ('A', np.uint8)])\n",
    "colors = np.array([(255, 0, 0, 255), (0, 255, 0, 255), (0, 0, 255, 255), (255, 255, 0, 188)], dtype=rgba_dtype)\n",
    "print(colors)"
   ]
  },
  {
   "cell_type": "markdown",
   "id": "36abc47d",
   "metadata": {},
   "source": [
    "24. Multiply a 5x3 matrix by a 3x2 matrix (real matrix product)"
   ]
  },
  {
   "cell_type": "code",
   "execution_count": 5,
   "id": "9aad1a89",
   "metadata": {},
   "outputs": [
    {
     "name": "stdout",
     "output_type": "stream",
     "text": [
      "matrix A (5 X 3): \n",
      " [[0.96359419 0.22958211 0.23871568]\n",
      " [0.05121282 0.74204418 0.20567755]\n",
      " [0.55862494 0.32745145 0.75353848]\n",
      " [0.30047856 0.09875261 0.12526514]\n",
      " [0.57960275 0.53966058 0.7195248 ]]\n",
      "\n",
      "matrix B (3 X 2): \n",
      " [[0.50896467 0.42244635]\n",
      " [0.04401557 0.77647592]\n",
      " [0.09349126 0.95519415]]\n",
      "\n",
      "matrix C: \n",
      " [[0.52285842 0.81335165]\n",
      " [0.07795607 0.7942761 ]\n",
      " [0.36918259 1.21002278]\n",
      " [0.16899082 0.32326762]\n",
      " [0.38602007 1.35117039]]\n"
     ]
    }
   ],
   "source": [
    "A = np.random.rand(5,3)\n",
    "B = np.random.rand(3, 2)\n",
    "\n",
    "C = A @ B\n",
    "\n",
    "print(\"matrix A (5 X 3): \\n\", A)\n",
    "print(\"\\nmatrix B (3 X 2): \\n\", B)\n",
    "print(\"\\nmatrix C: \\n\", C)"
   ]
  },
  {
   "cell_type": "markdown",
   "id": "156502e0",
   "metadata": {},
   "source": [
    "25. Given a 1D array, negate all elements which are between 3 and 8, in place."
   ]
  },
  {
   "cell_type": "code",
   "execution_count": 6,
   "id": "077f33a3",
   "metadata": {},
   "outputs": [
    {
     "name": "stdout",
     "output_type": "stream",
     "text": [
      "forth element:  3\n",
      "\n",
      "Fifth element: 4\n",
      "\n",
      "Sixth element:  5\n",
      "\n",
      "Seventh element:  6\n"
     ]
    }
   ],
   "source": [
    "arr = np.arange(10)\n",
    "print(\"forth element: \", arr[3])\n",
    "print(\"\\nFifth element:\", arr[4])\n",
    "print(\"\\nSixth element: \", arr[5])\n",
    "print(\"\\nSeventh element: \", arr[6])"
   ]
  },
  {
   "cell_type": "markdown",
   "id": "2cb6ddf9",
   "metadata": {},
   "source": [
    "26. What is the output of the following script?"
   ]
  },
  {
   "cell_type": "code",
   "execution_count": 7,
   "id": "18dbbbd8",
   "metadata": {},
   "outputs": [
    {
     "name": "stdout",
     "output_type": "stream",
     "text": [
      "9\n",
      "9\n"
     ]
    }
   ],
   "source": [
    "print(sum(range(5),-1))\n",
    "print(sum(range(5),-1))"
   ]
  },
  {
   "cell_type": "markdown",
   "id": "2d26d12a",
   "metadata": {},
   "source": [
    "27. Consider an integer vector Z, which of these expressions are legal?\n",
    "    \n",
    "Z**Z\n",
    "2 << Z >> 2\n",
    "Z <- Z\n",
    "1j*Z\n",
    "Z/1/1\n",
    "Z<Z>Z"
   ]
  },
  {
   "cell_type": "markdown",
   "id": "e0ee04de",
   "metadata": {},
   "source": [
    "28. What are the result of the following expressions?\n",
    "\n",
    "```pythonn\n",
    "np.array(0) / np.array(0)\n",
    "np.array(0) // np.array(0)\n",
    "np.array([np.nan]).astype(int).astype(float)\n",
    "```"
   ]
  },
  {
   "cell_type": "code",
   "execution_count": 8,
   "id": "4472870c",
   "metadata": {},
   "outputs": [
    {
     "name": "stdout",
     "output_type": "stream",
     "text": [
      "nan\n",
      "0\n",
      "[-9.22337204e+18]\n"
     ]
    },
    {
     "name": "stderr",
     "output_type": "stream",
     "text": [
      "C:\\Users\\Danhaya\\AppData\\Local\\Temp\\ipykernel_11360\\3912170336.py:1: RuntimeWarning: invalid value encountered in divide\n",
      "  print(np.array(0) / np.array(0))\n",
      "C:\\Users\\Danhaya\\AppData\\Local\\Temp\\ipykernel_11360\\3912170336.py:2: RuntimeWarning: divide by zero encountered in floor_divide\n",
      "  print(np.array(0) // np.array(0))\n",
      "C:\\Users\\Danhaya\\AppData\\Local\\Temp\\ipykernel_11360\\3912170336.py:3: RuntimeWarning: invalid value encountered in cast\n",
      "  print(np.array([np.nan]).astype(int).astype(float))\n"
     ]
    }
   ],
   "source": [
    "print(np.array(0) / np.array(0))\n",
    "print(np.array(0) // np.array(0))\n",
    "print(np.array([np.nan]).astype(int).astype(float))"
   ]
  },
  {
   "cell_type": "markdown",
   "id": "2951314c",
   "metadata": {},
   "source": [
    "29. How to round away from zero a float array"
   ]
  },
  {
   "cell_type": "code",
   "execution_count": 9,
   "id": "a429d126",
   "metadata": {},
   "outputs": [
    {
     "name": "stdout",
     "output_type": "stream",
     "text": [
      "Original array:  [ 1.2 -1.2  2.5 -2.5  0. ]\n",
      "\n",
      "Rounded away from zero:  [ 2. -2.  3. -3.  0.]\n"
     ]
    }
   ],
   "source": [
    "arr = np.array([1.2, -1.2, 2.5, -2.5, 0.0])\n",
    "rounded = np.where(arr > 0, np.ceil(arr), np.floor(arr))\n",
    "\n",
    "print(\"Original array: \", arr)\n",
    "print(\"\\nRounded away from zero: \", rounded)"
   ]
  },
  {
   "cell_type": "markdown",
   "id": "1a0908c2",
   "metadata": {},
   "source": [
    "30.  How to find common values between two arrays"
   ]
  },
  {
   "cell_type": "code",
   "execution_count": 10,
   "id": "f6c54495",
   "metadata": {},
   "outputs": [
    {
     "name": "stdout",
     "output_type": "stream",
     "text": [
      "common values:  [4 5]\n"
     ]
    }
   ],
   "source": [
    "a = np.array([1, 2, 3, 4, 5])\n",
    "b = np.array([4, 5, 6, 7, 8])\n",
    "\n",
    "common = np.intersect1d(a, b)\n",
    "print(\"common values: \", common)"
   ]
  },
  {
   "cell_type": "code",
   "execution_count": null,
   "id": "c01a59e1",
   "metadata": {},
   "outputs": [],
   "source": []
  }
 ],
 "metadata": {
  "kernelspec": {
   "display_name": "base",
   "language": "python",
   "name": "python3"
  },
  "language_info": {
   "codemirror_mode": {
    "name": "ipython",
    "version": 3
   },
   "file_extension": ".py",
   "mimetype": "text/x-python",
   "name": "python",
   "nbconvert_exporter": "python",
   "pygments_lexer": "ipython3",
   "version": "3.12.3"
  }
 },
 "nbformat": 4,
 "nbformat_minor": 5
}
