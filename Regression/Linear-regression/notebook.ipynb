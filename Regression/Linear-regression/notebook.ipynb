{
 "cells": [
  {
   "cell_type": "markdown",
   "id": "ef0a59d8",
   "metadata": {},
   "source": [
    "# LINEAR REGRESSION"
   ]
  },
  {
   "cell_type": "code",
   "execution_count": 6,
   "id": "e43f7615",
   "metadata": {},
   "outputs": [],
   "source": [
    "import pandas as pd\n",
    "import matplotlib.pyplot as plt\n",
    "import numpy as np\n",
    "from datetime import datetime"
   ]
  },
  {
   "cell_type": "code",
   "execution_count": 18,
   "id": "de1de25e",
   "metadata": {},
   "outputs": [
    {
     "data": {
      "application/vnd.microsoft.datawrangler.viewer.v0+json": {
       "columns": [
        {
         "name": "index",
         "rawType": "int64",
         "type": "integer"
        },
        {
         "name": "month",
         "rawType": "int64",
         "type": "integer"
        },
        {
         "name": "package",
         "rawType": "object",
         "type": "string"
        },
        {
         "name": "low_price",
         "rawType": "float64",
         "type": "float"
        },
        {
         "name": "high_price",
         "rawType": "float64",
         "type": "float"
        },
        {
         "name": "price",
         "rawType": "float64",
         "type": "float"
        }
       ],
       "ref": "0603e99e-2577-4aa4-b88f-f916c14d3318",
       "rows": [
        [
         "0",
         "4",
         "24 inch bins",
         "270.0",
         "280.0",
         "275.0"
        ],
        [
         "1",
         "5",
         "24 inch bins",
         "270.0",
         "280.0",
         "275.0"
        ],
        [
         "2",
         "9",
         "24 inch bins",
         "160.0",
         "160.0",
         "160.0"
        ],
        [
         "3",
         "9",
         "24 inch bins",
         "160.0",
         "160.0",
         "160.0"
        ],
        [
         "4",
         "11",
         "24 inch bins",
         "90.0",
         "100.0",
         "95.0"
        ]
       ],
       "shape": {
        "columns": 5,
        "rows": 5
       }
      },
      "text/html": [
       "<div>\n",
       "<style scoped>\n",
       "    .dataframe tbody tr th:only-of-type {\n",
       "        vertical-align: middle;\n",
       "    }\n",
       "\n",
       "    .dataframe tbody tr th {\n",
       "        vertical-align: top;\n",
       "    }\n",
       "\n",
       "    .dataframe thead th {\n",
       "        text-align: right;\n",
       "    }\n",
       "</style>\n",
       "<table border=\"1\" class=\"dataframe\">\n",
       "  <thead>\n",
       "    <tr style=\"text-align: right;\">\n",
       "      <th></th>\n",
       "      <th>month</th>\n",
       "      <th>package</th>\n",
       "      <th>low_price</th>\n",
       "      <th>high_price</th>\n",
       "      <th>price</th>\n",
       "    </tr>\n",
       "  </thead>\n",
       "  <tbody>\n",
       "    <tr>\n",
       "      <th>0</th>\n",
       "      <td>4</td>\n",
       "      <td>24 inch bins</td>\n",
       "      <td>270.0</td>\n",
       "      <td>280.0</td>\n",
       "      <td>275.0</td>\n",
       "    </tr>\n",
       "    <tr>\n",
       "      <th>1</th>\n",
       "      <td>5</td>\n",
       "      <td>24 inch bins</td>\n",
       "      <td>270.0</td>\n",
       "      <td>280.0</td>\n",
       "      <td>275.0</td>\n",
       "    </tr>\n",
       "    <tr>\n",
       "      <th>2</th>\n",
       "      <td>9</td>\n",
       "      <td>24 inch bins</td>\n",
       "      <td>160.0</td>\n",
       "      <td>160.0</td>\n",
       "      <td>160.0</td>\n",
       "    </tr>\n",
       "    <tr>\n",
       "      <th>3</th>\n",
       "      <td>9</td>\n",
       "      <td>24 inch bins</td>\n",
       "      <td>160.0</td>\n",
       "      <td>160.0</td>\n",
       "      <td>160.0</td>\n",
       "    </tr>\n",
       "    <tr>\n",
       "      <th>4</th>\n",
       "      <td>11</td>\n",
       "      <td>24 inch bins</td>\n",
       "      <td>90.0</td>\n",
       "      <td>100.0</td>\n",
       "      <td>95.0</td>\n",
       "    </tr>\n",
       "  </tbody>\n",
       "</table>\n",
       "</div>"
      ],
      "text/plain": [
       "   month       package  low_price  high_price  price\n",
       "0      4  24 inch bins      270.0       280.0  275.0\n",
       "1      5  24 inch bins      270.0       280.0  275.0\n",
       "2      9  24 inch bins      160.0       160.0  160.0\n",
       "3      9  24 inch bins      160.0       160.0  160.0\n",
       "4     11  24 inch bins       90.0       100.0   95.0"
      ]
     },
     "execution_count": 18,
     "metadata": {},
     "output_type": "execute_result"
    }
   ],
   "source": [
    "#load the dataset\n",
    "\n",
    "pumpkins = pd.read_csv(\"../managing-data/cleaned_pumpkins.csv\")\n",
    "pumpkins.head()"
   ]
  },
  {
   "cell_type": "markdown",
   "id": "0e35f6b8",
   "metadata": {},
   "source": [
    " let's explore the correlations between month and price"
   ]
  },
  {
   "cell_type": "code",
   "execution_count": 4,
   "id": "de763379",
   "metadata": {},
   "outputs": [
    {
     "name": "stdout",
     "output_type": "stream",
     "text": [
      "The strength of the relationship between month and price is -13.81%\n"
     ]
    }
   ],
   "source": [
    "cor = pumpkins['month'].corr(pumpkins['price']) *100\n",
    "print(f\"The strength of the relationship between month and price is {cor:.2f}%\")"
   ]
  },
  {
   "cell_type": "markdown",
   "id": "0b62d8ad",
   "metadata": {},
   "source": [
    "The relationship is weak and negative with a magnitude of -0.1381 or -13.81%."
   ]
  },
  {
   "cell_type": "code",
   "execution_count": 19,
   "id": "069a7ebb",
   "metadata": {},
   "outputs": [
    {
     "data": {
      "application/vnd.microsoft.datawrangler.viewer.v0+json": {
       "columns": [
        {
         "name": "index",
         "rawType": "int64",
         "type": "integer"
        },
        {
         "name": "Unnamed: 0",
         "rawType": "int64",
         "type": "integer"
        },
        {
         "name": "package",
         "rawType": "object",
         "type": "string"
        },
        {
         "name": "variety",
         "rawType": "object",
         "type": "unknown"
        },
        {
         "name": "date",
         "rawType": "object",
         "type": "string"
        },
        {
         "name": "low_price",
         "rawType": "float64",
         "type": "float"
        },
        {
         "name": "high_price",
         "rawType": "float64",
         "type": "float"
        }
       ],
       "ref": "6af31239-4fc4-4d6b-9cb5-ba2ad346d5a8",
       "rows": [
        [
         "0",
         "0",
         "24 inch bins",
         null,
         "4/29/17",
         "270.0",
         "280.0"
        ],
        [
         "1",
         "1",
         "24 inch bins",
         null,
         "5/6/17",
         "270.0",
         "280.0"
        ],
        [
         "2",
         "2",
         "24 inch bins",
         "HOWDEN TYPE",
         "9/24/16",
         "160.0",
         "160.0"
        ],
        [
         "3",
         "3",
         "24 inch bins",
         "HOWDEN TYPE",
         "9/24/16",
         "160.0",
         "160.0"
        ],
        [
         "4",
         "4",
         "24 inch bins",
         "HOWDEN TYPE",
         "11/5/16",
         "90.0",
         "100.0"
        ]
       ],
       "shape": {
        "columns": 6,
        "rows": 5
       }
      },
      "text/html": [
       "<div>\n",
       "<style scoped>\n",
       "    .dataframe tbody tr th:only-of-type {\n",
       "        vertical-align: middle;\n",
       "    }\n",
       "\n",
       "    .dataframe tbody tr th {\n",
       "        vertical-align: top;\n",
       "    }\n",
       "\n",
       "    .dataframe thead th {\n",
       "        text-align: right;\n",
       "    }\n",
       "</style>\n",
       "<table border=\"1\" class=\"dataframe\">\n",
       "  <thead>\n",
       "    <tr style=\"text-align: right;\">\n",
       "      <th></th>\n",
       "      <th>Unnamed: 0</th>\n",
       "      <th>package</th>\n",
       "      <th>variety</th>\n",
       "      <th>date</th>\n",
       "      <th>low_price</th>\n",
       "      <th>high_price</th>\n",
       "    </tr>\n",
       "  </thead>\n",
       "  <tbody>\n",
       "    <tr>\n",
       "      <th>0</th>\n",
       "      <td>0</td>\n",
       "      <td>24 inch bins</td>\n",
       "      <td>NaN</td>\n",
       "      <td>4/29/17</td>\n",
       "      <td>270.0</td>\n",
       "      <td>280.0</td>\n",
       "    </tr>\n",
       "    <tr>\n",
       "      <th>1</th>\n",
       "      <td>1</td>\n",
       "      <td>24 inch bins</td>\n",
       "      <td>NaN</td>\n",
       "      <td>5/6/17</td>\n",
       "      <td>270.0</td>\n",
       "      <td>280.0</td>\n",
       "    </tr>\n",
       "    <tr>\n",
       "      <th>2</th>\n",
       "      <td>2</td>\n",
       "      <td>24 inch bins</td>\n",
       "      <td>HOWDEN TYPE</td>\n",
       "      <td>9/24/16</td>\n",
       "      <td>160.0</td>\n",
       "      <td>160.0</td>\n",
       "    </tr>\n",
       "    <tr>\n",
       "      <th>3</th>\n",
       "      <td>3</td>\n",
       "      <td>24 inch bins</td>\n",
       "      <td>HOWDEN TYPE</td>\n",
       "      <td>9/24/16</td>\n",
       "      <td>160.0</td>\n",
       "      <td>160.0</td>\n",
       "    </tr>\n",
       "    <tr>\n",
       "      <th>4</th>\n",
       "      <td>4</td>\n",
       "      <td>24 inch bins</td>\n",
       "      <td>HOWDEN TYPE</td>\n",
       "      <td>11/5/16</td>\n",
       "      <td>90.0</td>\n",
       "      <td>100.0</td>\n",
       "    </tr>\n",
       "  </tbody>\n",
       "</table>\n",
       "</div>"
      ],
      "text/plain": [
       "   Unnamed: 0       package      variety     date  low_price  high_price\n",
       "0           0  24 inch bins          NaN  4/29/17      270.0       280.0\n",
       "1           1  24 inch bins          NaN   5/6/17      270.0       280.0\n",
       "2           2  24 inch bins  HOWDEN TYPE  9/24/16      160.0       160.0\n",
       "3           3  24 inch bins  HOWDEN TYPE  9/24/16      160.0       160.0\n",
       "4           4  24 inch bins  HOWDEN TYPE  11/5/16       90.0       100.0"
      ]
     },
     "execution_count": 19,
     "metadata": {},
     "output_type": "execute_result"
    }
   ],
   "source": [
    "new_pumpkins = pd.read_csv(\"../managing-data/pumpkins.csv\")\n",
    "new_pumpkins.head()"
   ]
  },
  {
   "cell_type": "code",
   "execution_count": 23,
   "id": "9ef300e7",
   "metadata": {},
   "outputs": [
    {
     "data": {
      "application/vnd.microsoft.datawrangler.viewer.v0+json": {
       "columns": [
        {
         "name": "index",
         "rawType": "object",
         "type": "string"
        },
        {
         "name": "0",
         "rawType": "int64",
         "type": "integer"
        }
       ],
       "ref": "504774bd-caee-4b66-aad9-08c61421a757",
       "rows": [
        [
         "Unnamed: 0",
         "0"
        ],
        [
         "package",
         "0"
        ],
        [
         "variety",
         "5"
        ],
        [
         "date",
         "0"
        ],
        [
         "low_price",
         "0"
        ],
        [
         "high_price",
         "0"
        ]
       ],
       "shape": {
        "columns": 1,
        "rows": 6
       }
      },
      "text/plain": [
       "Unnamed: 0    0\n",
       "package       0\n",
       "variety       5\n",
       "date          0\n",
       "low_price     0\n",
       "high_price    0\n",
       "dtype: int64"
      ]
     },
     "execution_count": 23,
     "metadata": {},
     "output_type": "execute_result"
    }
   ],
   "source": [
    "new_pumpkins.isnull().sum()"
   ]
  },
  {
   "cell_type": "code",
   "execution_count": 22,
   "id": "20e87b28",
   "metadata": {},
   "outputs": [
    {
     "data": {
      "application/vnd.microsoft.datawrangler.viewer.v0+json": {
       "columns": [
        {
         "name": "index",
         "rawType": "int64",
         "type": "integer"
        },
        {
         "name": "Unnamed: 0",
         "rawType": "int64",
         "type": "integer"
        },
        {
         "name": "package",
         "rawType": "object",
         "type": "string"
        },
        {
         "name": "variety",
         "rawType": "object",
         "type": "string"
        },
        {
         "name": "date",
         "rawType": "object",
         "type": "string"
        },
        {
         "name": "low_price",
         "rawType": "float64",
         "type": "float"
        },
        {
         "name": "high_price",
         "rawType": "float64",
         "type": "float"
        }
       ],
       "ref": "952f606a-b3db-4de8-87ea-78599e154c2f",
       "rows": [
        [
         "2",
         "2",
         "24 inch bins",
         "HOWDEN TYPE",
         "9/24/16",
         "160.0",
         "160.0"
        ],
        [
         "3",
         "3",
         "24 inch bins",
         "HOWDEN TYPE",
         "9/24/16",
         "160.0",
         "160.0"
        ],
        [
         "4",
         "4",
         "24 inch bins",
         "HOWDEN TYPE",
         "11/5/16",
         "90.0",
         "100.0"
        ],
        [
         "5",
         "5",
         "24 inch bins",
         "HOWDEN TYPE",
         "11/12/16",
         "90.0",
         "100.0"
        ],
        [
         "6",
         "6",
         "36 inch bins",
         "HOWDEN TYPE",
         "9/24/16",
         "160.0",
         "170.0"
        ],
        [
         "7",
         "7",
         "36 inch bins",
         "HOWDEN TYPE",
         "9/24/16",
         "160.0",
         "160.0"
        ],
        [
         "8",
         "8",
         "36 inch bins",
         "HOWDEN TYPE",
         "10/1/16",
         "160.0",
         "170.0"
        ],
        [
         "9",
         "9",
         "36 inch bins",
         "HOWDEN TYPE",
         "10/1/16",
         "160.0",
         "160.0"
        ],
        [
         "10",
         "10",
         "36 inch bins",
         "HOWDEN TYPE",
         "10/8/16",
         "160.0",
         "170.0"
        ],
        [
         "11",
         "11",
         "36 inch bins",
         "HOWDEN TYPE",
         "10/8/16",
         "160.0",
         "160.0"
        ],
        [
         "12",
         "12",
         "36 inch bins",
         "HOWDEN TYPE",
         "10/15/16",
         "150.0",
         "160.0"
        ],
        [
         "13",
         "13",
         "36 inch bins",
         "HOWDEN TYPE",
         "10/15/16",
         "150.0",
         "170.0"
        ],
        [
         "14",
         "14",
         "36 inch bins",
         "HOWDEN TYPE",
         "10/22/16",
         "150.0",
         "160.0"
        ],
        [
         "15",
         "15",
         "36 inch bins",
         "HOWDEN TYPE",
         "10/22/16",
         "140.0",
         "160.0"
        ],
        [
         "16",
         "16",
         "36 inch bins",
         "HOWDEN TYPE",
         "10/29/16",
         "100.0",
         "160.0"
        ],
        [
         "17",
         "17",
         "36 inch bins",
         "HOWDEN TYPE",
         "10/29/16",
         "130.0",
         "160.0"
        ],
        [
         "18",
         "18",
         "36 inch bins",
         "HOWDEN TYPE",
         "10/29/16",
         "130.0",
         "130.0"
        ],
        [
         "19",
         "19",
         "36 inch bins",
         "HOWDEN TYPE",
         "11/5/16",
         "120.0",
         "130.0"
        ],
        [
         "20",
         "20",
         "36 inch bins",
         "HOWDEN TYPE",
         "11/5/16",
         "100.0",
         "130.0"
        ],
        [
         "21",
         "21",
         "36 inch bins",
         "HOWDEN TYPE",
         "11/5/16",
         "90.0",
         "100.0"
        ],
        [
         "22",
         "22",
         "36 inch bins",
         "HOWDEN TYPE",
         "11/12/16",
         "100.0",
         "120.0"
        ],
        [
         "23",
         "23",
         "36 inch bins",
         "HOWDEN TYPE",
         "9/16/17",
         "160.0",
         "160.0"
        ],
        [
         "24",
         "24",
         "36 inch bins",
         "HOWDEN TYPE",
         "9/23/17",
         "160.0",
         "160.0"
        ],
        [
         "25",
         "25",
         "36 inch bins",
         "HOWDEN TYPE",
         "9/30/17",
         "150.0",
         "160.0"
        ],
        [
         "26",
         "26",
         "36 inch bins",
         "HOWDEN TYPE",
         "9/30/17",
         "150.0",
         "160.0"
        ],
        [
         "27",
         "27",
         "24 inch bins",
         "HOWDEN WHITE TYPE",
         "9/23/17",
         "160.0",
         "180.0"
        ],
        [
         "28",
         "28",
         "24 inch bins",
         "HOWDEN WHITE TYPE",
         "9/30/17",
         "180.0",
         "180.0"
        ],
        [
         "29",
         "29",
         "24 inch bins",
         "CINDERELLA",
         "6/3/17",
         "380.0",
         "380.0"
        ],
        [
         "30",
         "30",
         "24 inch bins",
         "CINDERELLA",
         "6/10/17",
         "380.0",
         "380.0"
        ],
        [
         "31",
         "31",
         "24 inch bins",
         "CINDERELLA",
         "6/17/17",
         "380.0",
         "380.0"
        ],
        [
         "32",
         "32",
         "24 inch bins",
         "CINDERELLA",
         "8/19/17",
         "200.0",
         "200.0"
        ],
        [
         "33",
         "33",
         "24 inch bins",
         "CINDERELLA",
         "8/26/17",
         "200.0",
         "350.0"
        ],
        [
         "34",
         "34",
         "24 inch bins",
         "CINDERELLA",
         "9/2/17",
         "350.0",
         "350.0"
        ],
        [
         "35",
         "35",
         "24 inch bins",
         "CINDERELLA",
         "9/9/17",
         "180.0",
         "180.0"
        ],
        [
         "36",
         "36",
         "24 inch bins",
         "CINDERELLA",
         "9/9/17",
         "200.0",
         "200.0"
        ],
        [
         "37",
         "37",
         "24 inch bins",
         "CINDERELLA",
         "9/16/17",
         "180.0",
         "200.0"
        ],
        [
         "38",
         "38",
         "24 inch bins",
         "CINDERELLA",
         "9/16/17",
         "180.0",
         "200.0"
        ],
        [
         "39",
         "39",
         "24 inch bins",
         "CINDERELLA",
         "9/23/17",
         "340.0",
         "340.0"
        ],
        [
         "40",
         "40",
         "24 inch bins",
         "CINDERELLA",
         "9/23/17",
         "240.0",
         "250.0"
        ],
        [
         "41",
         "41",
         "24 inch bins",
         "CINDERELLA",
         "9/23/17",
         "200.0",
         "200.0"
        ],
        [
         "42",
         "42",
         "24 inch bins",
         "CINDERELLA",
         "9/30/17",
         "340.0",
         "340.0"
        ],
        [
         "43",
         "43",
         "24 inch bins",
         "CINDERELLA",
         "9/30/17",
         "240.0",
         "250.0"
        ],
        [
         "44",
         "44",
         "24 inch bins",
         "CINDERELLA",
         "9/30/17",
         "180.0",
         "200.0"
        ],
        [
         "45",
         "45",
         "50 lb sacks",
         "CINDERELLA",
         "8/12/17",
         "29.0",
         "29.0"
        ],
        [
         "46",
         "46",
         "50 lb sacks",
         "CINDERELLA",
         "8/12/17",
         "29.0",
         "29.0"
        ],
        [
         "47",
         "47",
         "50 lb sacks",
         "CINDERELLA",
         "8/19/17",
         "28.0",
         "29.0"
        ],
        [
         "48",
         "48",
         "50 lb sacks",
         "CINDERELLA",
         "8/26/17",
         "28.0",
         "29.0"
        ],
        [
         "49",
         "49",
         "50 lb sacks",
         "CINDERELLA",
         "8/26/17",
         "29.0",
         "29.0"
        ],
        [
         "50",
         "50",
         "50 lb sacks",
         "CINDERELLA",
         "9/2/17",
         "29.0",
         "29.0"
        ],
        [
         "51",
         "51",
         "50 lb sacks",
         "CINDERELLA",
         "9/9/17",
         "15.0",
         "15.0"
        ]
       ],
       "shape": {
        "columns": 6,
        "rows": 1752
       }
      },
      "text/html": [
       "<div>\n",
       "<style scoped>\n",
       "    .dataframe tbody tr th:only-of-type {\n",
       "        vertical-align: middle;\n",
       "    }\n",
       "\n",
       "    .dataframe tbody tr th {\n",
       "        vertical-align: top;\n",
       "    }\n",
       "\n",
       "    .dataframe thead th {\n",
       "        text-align: right;\n",
       "    }\n",
       "</style>\n",
       "<table border=\"1\" class=\"dataframe\">\n",
       "  <thead>\n",
       "    <tr style=\"text-align: right;\">\n",
       "      <th></th>\n",
       "      <th>Unnamed: 0</th>\n",
       "      <th>package</th>\n",
       "      <th>variety</th>\n",
       "      <th>date</th>\n",
       "      <th>low_price</th>\n",
       "      <th>high_price</th>\n",
       "    </tr>\n",
       "  </thead>\n",
       "  <tbody>\n",
       "    <tr>\n",
       "      <th>2</th>\n",
       "      <td>2</td>\n",
       "      <td>24 inch bins</td>\n",
       "      <td>HOWDEN TYPE</td>\n",
       "      <td>9/24/16</td>\n",
       "      <td>160.00</td>\n",
       "      <td>160.00</td>\n",
       "    </tr>\n",
       "    <tr>\n",
       "      <th>3</th>\n",
       "      <td>3</td>\n",
       "      <td>24 inch bins</td>\n",
       "      <td>HOWDEN TYPE</td>\n",
       "      <td>9/24/16</td>\n",
       "      <td>160.00</td>\n",
       "      <td>160.00</td>\n",
       "    </tr>\n",
       "    <tr>\n",
       "      <th>4</th>\n",
       "      <td>4</td>\n",
       "      <td>24 inch bins</td>\n",
       "      <td>HOWDEN TYPE</td>\n",
       "      <td>11/5/16</td>\n",
       "      <td>90.00</td>\n",
       "      <td>100.00</td>\n",
       "    </tr>\n",
       "    <tr>\n",
       "      <th>5</th>\n",
       "      <td>5</td>\n",
       "      <td>24 inch bins</td>\n",
       "      <td>HOWDEN TYPE</td>\n",
       "      <td>11/12/16</td>\n",
       "      <td>90.00</td>\n",
       "      <td>100.00</td>\n",
       "    </tr>\n",
       "    <tr>\n",
       "      <th>6</th>\n",
       "      <td>6</td>\n",
       "      <td>36 inch bins</td>\n",
       "      <td>HOWDEN TYPE</td>\n",
       "      <td>9/24/16</td>\n",
       "      <td>160.00</td>\n",
       "      <td>170.00</td>\n",
       "    </tr>\n",
       "    <tr>\n",
       "      <th>...</th>\n",
       "      <td>...</td>\n",
       "      <td>...</td>\n",
       "      <td>...</td>\n",
       "      <td>...</td>\n",
       "      <td>...</td>\n",
       "      <td>...</td>\n",
       "    </tr>\n",
       "    <tr>\n",
       "      <th>1752</th>\n",
       "      <td>1752</td>\n",
       "      <td>22 lb cartons</td>\n",
       "      <td>MINIATURE</td>\n",
       "      <td>9/30/16</td>\n",
       "      <td>14.75</td>\n",
       "      <td>14.75</td>\n",
       "    </tr>\n",
       "    <tr>\n",
       "      <th>1753</th>\n",
       "      <td>1753</td>\n",
       "      <td>36 inch bins</td>\n",
       "      <td>MINIATURE</td>\n",
       "      <td>9/26/16</td>\n",
       "      <td>275.00</td>\n",
       "      <td>275.00</td>\n",
       "    </tr>\n",
       "    <tr>\n",
       "      <th>1754</th>\n",
       "      <td>1754</td>\n",
       "      <td>36 inch bins</td>\n",
       "      <td>MINIATURE</td>\n",
       "      <td>9/27/16</td>\n",
       "      <td>275.00</td>\n",
       "      <td>275.00</td>\n",
       "    </tr>\n",
       "    <tr>\n",
       "      <th>1755</th>\n",
       "      <td>1755</td>\n",
       "      <td>36 inch bins</td>\n",
       "      <td>MINIATURE</td>\n",
       "      <td>9/28/16</td>\n",
       "      <td>275.00</td>\n",
       "      <td>275.00</td>\n",
       "    </tr>\n",
       "    <tr>\n",
       "      <th>1756</th>\n",
       "      <td>1756</td>\n",
       "      <td>36 inch bins</td>\n",
       "      <td>MINIATURE</td>\n",
       "      <td>9/29/16</td>\n",
       "      <td>275.00</td>\n",
       "      <td>275.00</td>\n",
       "    </tr>\n",
       "  </tbody>\n",
       "</table>\n",
       "<p>1752 rows × 6 columns</p>\n",
       "</div>"
      ],
      "text/plain": [
       "      Unnamed: 0        package      variety      date  low_price  high_price\n",
       "2              2   24 inch bins  HOWDEN TYPE   9/24/16     160.00      160.00\n",
       "3              3   24 inch bins  HOWDEN TYPE   9/24/16     160.00      160.00\n",
       "4              4   24 inch bins  HOWDEN TYPE   11/5/16      90.00      100.00\n",
       "5              5   24 inch bins  HOWDEN TYPE  11/12/16      90.00      100.00\n",
       "6              6   36 inch bins  HOWDEN TYPE   9/24/16     160.00      170.00\n",
       "...          ...            ...          ...       ...        ...         ...\n",
       "1752        1752  22 lb cartons    MINIATURE   9/30/16      14.75       14.75\n",
       "1753        1753   36 inch bins    MINIATURE   9/26/16     275.00      275.00\n",
       "1754        1754   36 inch bins    MINIATURE   9/27/16     275.00      275.00\n",
       "1755        1755   36 inch bins    MINIATURE   9/28/16     275.00      275.00\n",
       "1756        1756   36 inch bins    MINIATURE   9/29/16     275.00      275.00\n",
       "\n",
       "[1752 rows x 6 columns]"
      ]
     },
     "execution_count": 22,
     "metadata": {},
     "output_type": "execute_result"
    }
   ],
   "source": [
    "new_pumpkins.dropna()"
   ]
  },
  {
   "cell_type": "code",
   "execution_count": 24,
   "id": "44d9a167",
   "metadata": {},
   "outputs": [
    {
     "name": "stdout",
     "output_type": "stream",
     "text": [
      "   month       package  low_price  high_price  price  Unnamed: 0_x variety_x  \\\n",
      "0      4  24 inch bins      270.0       280.0  275.0             0       NaN   \n",
      "1      4  24 inch bins      270.0       280.0  275.0             0       NaN   \n",
      "2      4  24 inch bins      270.0       280.0  275.0             1       NaN   \n",
      "3      4  24 inch bins      270.0       280.0  275.0             1       NaN   \n",
      "4      5  24 inch bins      270.0       280.0  275.0             0       NaN   \n",
      "\n",
      "    date_x  Unnamed: 0_y variety_y   date_y  \n",
      "0  4/29/17             0       NaN  4/29/17  \n",
      "1  4/29/17             1       NaN   5/6/17  \n",
      "2   5/6/17             0       NaN  4/29/17  \n",
      "3   5/6/17             1       NaN   5/6/17  \n",
      "4  4/29/17             0       NaN  4/29/17  \n"
     ]
    }
   ],
   "source": [
    "# join two dataframe\n",
    "\n",
    "pumpkins = pumpkins.merge(new_pumpkins, on=['package', 'low_price', 'high_price'])\n",
    "print(pumpkins.head())"
   ]
  },
  {
   "cell_type": "code",
   "execution_count": 27,
   "id": "760d188a",
   "metadata": {},
   "outputs": [
    {
     "data": {
      "application/vnd.microsoft.datawrangler.viewer.v0+json": {
       "columns": [
        {
         "name": "index",
         "rawType": "int64",
         "type": "integer"
        },
        {
         "name": "month",
         "rawType": "int64",
         "type": "integer"
        },
        {
         "name": "date",
         "rawType": "object",
         "type": "string"
        },
        {
         "name": "package",
         "rawType": "object",
         "type": "string"
        },
        {
         "name": "low_price",
         "rawType": "float64",
         "type": "float"
        },
        {
         "name": "high_price",
         "rawType": "float64",
         "type": "float"
        },
        {
         "name": "price",
         "rawType": "float64",
         "type": "float"
        },
        {
         "name": "variety",
         "rawType": "object",
         "type": "unknown"
        }
       ],
       "ref": "762f96e2-981b-44ea-80be-0808555833d7",
       "rows": [
        [
         "0",
         "4",
         "4/29/17",
         "24 inch bins",
         "270.0",
         "280.0",
         "275.0",
         null
        ],
        [
         "1",
         "4",
         "4/29/17",
         "24 inch bins",
         "270.0",
         "280.0",
         "275.0",
         null
        ],
        [
         "2",
         "4",
         "5/6/17",
         "24 inch bins",
         "270.0",
         "280.0",
         "275.0",
         null
        ],
        [
         "3",
         "4",
         "5/6/17",
         "24 inch bins",
         "270.0",
         "280.0",
         "275.0",
         null
        ],
        [
         "4",
         "5",
         "4/29/17",
         "24 inch bins",
         "270.0",
         "280.0",
         "275.0",
         null
        ]
       ],
       "shape": {
        "columns": 7,
        "rows": 5
       }
      },
      "text/html": [
       "<div>\n",
       "<style scoped>\n",
       "    .dataframe tbody tr th:only-of-type {\n",
       "        vertical-align: middle;\n",
       "    }\n",
       "\n",
       "    .dataframe tbody tr th {\n",
       "        vertical-align: top;\n",
       "    }\n",
       "\n",
       "    .dataframe thead th {\n",
       "        text-align: right;\n",
       "    }\n",
       "</style>\n",
       "<table border=\"1\" class=\"dataframe\">\n",
       "  <thead>\n",
       "    <tr style=\"text-align: right;\">\n",
       "      <th></th>\n",
       "      <th>month</th>\n",
       "      <th>date</th>\n",
       "      <th>package</th>\n",
       "      <th>low_price</th>\n",
       "      <th>high_price</th>\n",
       "      <th>price</th>\n",
       "      <th>variety</th>\n",
       "    </tr>\n",
       "  </thead>\n",
       "  <tbody>\n",
       "    <tr>\n",
       "      <th>0</th>\n",
       "      <td>4</td>\n",
       "      <td>4/29/17</td>\n",
       "      <td>24 inch bins</td>\n",
       "      <td>270.0</td>\n",
       "      <td>280.0</td>\n",
       "      <td>275.0</td>\n",
       "      <td>NaN</td>\n",
       "    </tr>\n",
       "    <tr>\n",
       "      <th>1</th>\n",
       "      <td>4</td>\n",
       "      <td>4/29/17</td>\n",
       "      <td>24 inch bins</td>\n",
       "      <td>270.0</td>\n",
       "      <td>280.0</td>\n",
       "      <td>275.0</td>\n",
       "      <td>NaN</td>\n",
       "    </tr>\n",
       "    <tr>\n",
       "      <th>2</th>\n",
       "      <td>4</td>\n",
       "      <td>5/6/17</td>\n",
       "      <td>24 inch bins</td>\n",
       "      <td>270.0</td>\n",
       "      <td>280.0</td>\n",
       "      <td>275.0</td>\n",
       "      <td>NaN</td>\n",
       "    </tr>\n",
       "    <tr>\n",
       "      <th>3</th>\n",
       "      <td>4</td>\n",
       "      <td>5/6/17</td>\n",
       "      <td>24 inch bins</td>\n",
       "      <td>270.0</td>\n",
       "      <td>280.0</td>\n",
       "      <td>275.0</td>\n",
       "      <td>NaN</td>\n",
       "    </tr>\n",
       "    <tr>\n",
       "      <th>4</th>\n",
       "      <td>5</td>\n",
       "      <td>4/29/17</td>\n",
       "      <td>24 inch bins</td>\n",
       "      <td>270.0</td>\n",
       "      <td>280.0</td>\n",
       "      <td>275.0</td>\n",
       "      <td>NaN</td>\n",
       "    </tr>\n",
       "  </tbody>\n",
       "</table>\n",
       "</div>"
      ],
      "text/plain": [
       "   month     date       package  low_price  high_price  price variety\n",
       "0      4  4/29/17  24 inch bins      270.0       280.0  275.0     NaN\n",
       "1      4  4/29/17  24 inch bins      270.0       280.0  275.0     NaN\n",
       "2      4   5/6/17  24 inch bins      270.0       280.0  275.0     NaN\n",
       "3      4   5/6/17  24 inch bins      270.0       280.0  275.0     NaN\n",
       "4      5  4/29/17  24 inch bins      270.0       280.0  275.0     NaN"
      ]
     },
     "execution_count": 27,
     "metadata": {},
     "output_type": "execute_result"
    }
   ],
   "source": [
    "pumpkins = pd.DataFrame({\n",
    "    \"month\": pumpkins['month'],\n",
    "    \"date\": pumpkins['date_x'],\n",
    "    \"package\": pumpkins['package'],\n",
    "    \"low_price\": pumpkins['low_price'],\n",
    "    \"high_price\": pumpkins['high_price'],\n",
    "    \"price\": pumpkins['price'],\n",
    "    \"variety\": pumpkins['variety_x']\n",
    "})\n",
    "pumpkins.head()"
   ]
  },
  {
   "cell_type": "code",
   "execution_count": 28,
   "id": "45d9a832",
   "metadata": {},
   "outputs": [
    {
     "name": "stderr",
     "output_type": "stream",
     "text": [
      "C:\\Users\\Danhaya\\AppData\\Local\\Temp\\ipykernel_11144\\3699466438.py:3: UserWarning: Could not infer format, so each element will be parsed individually, falling back to `dateutil`. To ensure parsing is consistent and as-expected, please specify a format.\n",
      "  day_of_year = pd.to_datetime(pumpkins['date']).apply(lambda dt: (dt-datetime(dt.year, 1, 1)).days)\n"
     ]
    }
   ],
   "source": [
    "#create a new column called day of year\n",
    "\n",
    "day_of_year = pd.to_datetime(pumpkins['date']).apply(lambda dt: (dt-datetime(dt.year, 1, 1)).days)\n",
    "pumpkins['day_of_year'] = day_of_year"
   ]
  },
  {
   "cell_type": "code",
   "execution_count": 29,
   "id": "1c68e73d",
   "metadata": {},
   "outputs": [
    {
     "data": {
      "application/vnd.microsoft.datawrangler.viewer.v0+json": {
       "columns": [
        {
         "name": "index",
         "rawType": "int64",
         "type": "integer"
        },
        {
         "name": "month",
         "rawType": "int64",
         "type": "integer"
        },
        {
         "name": "date",
         "rawType": "object",
         "type": "string"
        },
        {
         "name": "package",
         "rawType": "object",
         "type": "string"
        },
        {
         "name": "low_price",
         "rawType": "float64",
         "type": "float"
        },
        {
         "name": "high_price",
         "rawType": "float64",
         "type": "float"
        },
        {
         "name": "price",
         "rawType": "float64",
         "type": "float"
        },
        {
         "name": "variety",
         "rawType": "object",
         "type": "unknown"
        },
        {
         "name": "day_of_year",
         "rawType": "int64",
         "type": "integer"
        }
       ],
       "ref": "03bfbc85-e9d7-4b6b-a65d-bfc35800b0b8",
       "rows": [
        [
         "0",
         "4",
         "4/29/17",
         "24 inch bins",
         "270.0",
         "280.0",
         "275.0",
         null,
         "118"
        ],
        [
         "1",
         "4",
         "4/29/17",
         "24 inch bins",
         "270.0",
         "280.0",
         "275.0",
         null,
         "118"
        ],
        [
         "2",
         "4",
         "5/6/17",
         "24 inch bins",
         "270.0",
         "280.0",
         "275.0",
         null,
         "125"
        ],
        [
         "3",
         "4",
         "5/6/17",
         "24 inch bins",
         "270.0",
         "280.0",
         "275.0",
         null,
         "125"
        ],
        [
         "4",
         "5",
         "4/29/17",
         "24 inch bins",
         "270.0",
         "280.0",
         "275.0",
         null,
         "118"
        ]
       ],
       "shape": {
        "columns": 8,
        "rows": 5
       }
      },
      "text/html": [
       "<div>\n",
       "<style scoped>\n",
       "    .dataframe tbody tr th:only-of-type {\n",
       "        vertical-align: middle;\n",
       "    }\n",
       "\n",
       "    .dataframe tbody tr th {\n",
       "        vertical-align: top;\n",
       "    }\n",
       "\n",
       "    .dataframe thead th {\n",
       "        text-align: right;\n",
       "    }\n",
       "</style>\n",
       "<table border=\"1\" class=\"dataframe\">\n",
       "  <thead>\n",
       "    <tr style=\"text-align: right;\">\n",
       "      <th></th>\n",
       "      <th>month</th>\n",
       "      <th>date</th>\n",
       "      <th>package</th>\n",
       "      <th>low_price</th>\n",
       "      <th>high_price</th>\n",
       "      <th>price</th>\n",
       "      <th>variety</th>\n",
       "      <th>day_of_year</th>\n",
       "    </tr>\n",
       "  </thead>\n",
       "  <tbody>\n",
       "    <tr>\n",
       "      <th>0</th>\n",
       "      <td>4</td>\n",
       "      <td>4/29/17</td>\n",
       "      <td>24 inch bins</td>\n",
       "      <td>270.0</td>\n",
       "      <td>280.0</td>\n",
       "      <td>275.0</td>\n",
       "      <td>NaN</td>\n",
       "      <td>118</td>\n",
       "    </tr>\n",
       "    <tr>\n",
       "      <th>1</th>\n",
       "      <td>4</td>\n",
       "      <td>4/29/17</td>\n",
       "      <td>24 inch bins</td>\n",
       "      <td>270.0</td>\n",
       "      <td>280.0</td>\n",
       "      <td>275.0</td>\n",
       "      <td>NaN</td>\n",
       "      <td>118</td>\n",
       "    </tr>\n",
       "    <tr>\n",
       "      <th>2</th>\n",
       "      <td>4</td>\n",
       "      <td>5/6/17</td>\n",
       "      <td>24 inch bins</td>\n",
       "      <td>270.0</td>\n",
       "      <td>280.0</td>\n",
       "      <td>275.0</td>\n",
       "      <td>NaN</td>\n",
       "      <td>125</td>\n",
       "    </tr>\n",
       "    <tr>\n",
       "      <th>3</th>\n",
       "      <td>4</td>\n",
       "      <td>5/6/17</td>\n",
       "      <td>24 inch bins</td>\n",
       "      <td>270.0</td>\n",
       "      <td>280.0</td>\n",
       "      <td>275.0</td>\n",
       "      <td>NaN</td>\n",
       "      <td>125</td>\n",
       "    </tr>\n",
       "    <tr>\n",
       "      <th>4</th>\n",
       "      <td>5</td>\n",
       "      <td>4/29/17</td>\n",
       "      <td>24 inch bins</td>\n",
       "      <td>270.0</td>\n",
       "      <td>280.0</td>\n",
       "      <td>275.0</td>\n",
       "      <td>NaN</td>\n",
       "      <td>118</td>\n",
       "    </tr>\n",
       "  </tbody>\n",
       "</table>\n",
       "</div>"
      ],
      "text/plain": [
       "   month     date       package  low_price  high_price  price variety  \\\n",
       "0      4  4/29/17  24 inch bins      270.0       280.0  275.0     NaN   \n",
       "1      4  4/29/17  24 inch bins      270.0       280.0  275.0     NaN   \n",
       "2      4   5/6/17  24 inch bins      270.0       280.0  275.0     NaN   \n",
       "3      4   5/6/17  24 inch bins      270.0       280.0  275.0     NaN   \n",
       "4      5  4/29/17  24 inch bins      270.0       280.0  275.0     NaN   \n",
       "\n",
       "   day_of_year  \n",
       "0          118  \n",
       "1          118  \n",
       "2          125  \n",
       "3          125  \n",
       "4          118  "
      ]
     },
     "execution_count": 29,
     "metadata": {},
     "output_type": "execute_result"
    }
   ],
   "source": [
    "#pumpkins.columns = pumpkins.columns.drop('Unnamed: 0')\n",
    "pumpkins.head()\n"
   ]
  },
  {
   "cell_type": "code",
   "execution_count": 16,
   "id": "4de3f9ab",
   "metadata": {},
   "outputs": [
    {
     "name": "stdout",
     "output_type": "stream",
     "text": [
      "The correlation between Day of the year is -0.12\n"
     ]
    }
   ],
   "source": [
    "print(f\"The correlation between Day of the year is {pumpkins['day_of_year'].corr(pumpkins['price']):.2f}\")"
   ]
  },
  {
   "cell_type": "markdown",
   "id": "9fbb6ab9",
   "metadata": {},
   "source": [
    "Let's plot each pumpkins categories using different color. By passing an ax parameter to the `scatter` plotting function we can plot all points on the same graph."
   ]
  },
  {
   "cell_type": "code",
   "execution_count": 30,
   "id": "7bfd77ca",
   "metadata": {},
   "outputs": [
    {
     "ename": "IndexError",
     "evalue": "list index out of range",
     "output_type": "error",
     "traceback": [
      "\u001b[1;31m---------------------------------------------------------------------------\u001b[0m",
      "\u001b[1;31mIndexError\u001b[0m                                Traceback (most recent call last)",
      "Cell \u001b[1;32mIn[30], line 5\u001b[0m\n\u001b[0;32m      3\u001b[0m \u001b[38;5;28;01mfor\u001b[39;00m i, var \u001b[38;5;129;01min\u001b[39;00m \u001b[38;5;28menumerate\u001b[39m(pumpkins[\u001b[38;5;124m'\u001b[39m\u001b[38;5;124mvariety\u001b[39m\u001b[38;5;124m'\u001b[39m]\u001b[38;5;241m.\u001b[39munique()):\n\u001b[0;32m      4\u001b[0m     df\u001b[38;5;241m=\u001b[39m pumpkins[pumpkins[\u001b[38;5;124m'\u001b[39m\u001b[38;5;124mvariety\u001b[39m\u001b[38;5;124m'\u001b[39m] \u001b[38;5;241m==\u001b[39m var]\n\u001b[1;32m----> 5\u001b[0m     ax \u001b[38;5;241m=\u001b[39m df\u001b[38;5;241m.\u001b[39mplot\u001b[38;5;241m.\u001b[39mscatter(\u001b[38;5;124m'\u001b[39m\u001b[38;5;124mday_of_year\u001b[39m\u001b[38;5;124m'\u001b[39m, \u001b[38;5;124m'\u001b[39m\u001b[38;5;124mprice\u001b[39m\u001b[38;5;124m'\u001b[39m, ax\u001b[38;5;241m=\u001b[39max, c\u001b[38;5;241m=\u001b[39m\u001b[43mcolors\u001b[49m\u001b[43m[\u001b[49m\u001b[43mi\u001b[49m\u001b[43m]\u001b[49m, label \u001b[38;5;241m=\u001b[39mvar)\n",
      "\u001b[1;31mIndexError\u001b[0m: list index out of range"
     ]
    },
    {
     "data": {
      "image/png": "[encoded data removed]",
      "text/plain": [
       "<Figure size 640x480 with 1 Axes>"
      ]
     },
     "metadata": {},
     "output_type": "display_data"
    }
   ],
   "source": [
    "ax = None\n",
    "colors= ['red', 'blue', 'green', 'yellow']\n",
    "for i, var in enumerate(pumpkins['variety'].unique()):\n",
    "    df= pumpkins[pumpkins['variety'] == var]\n",
    "    ax = df.plot.scatter('day_of_year', 'price', ax=ax, c=colors[i], label =var)"
   ]
  },
  {
   "cell_type": "markdown",
   "id": "024a0fad",
   "metadata": {},
   "source": [
    "let's create a new dataframe by subsetting using pie type variety."
   ]
  },
  {
   "cell_type": "code",
   "execution_count": 32,
   "id": "e2387d8f",
   "metadata": {},
   "outputs": [
    {
     "name": "stdout",
     "output_type": "stream",
     "text": [
      "<class 'pandas.core.frame.DataFrame'>\n",
      "Index: 223230 entries, 36 to 1164068\n",
      "Data columns (total 8 columns):\n",
      " #   Column       Non-Null Count   Dtype  \n",
      "---  ------       --------------   -----  \n",
      " 0   month        223230 non-null  int64  \n",
      " 1   date         223230 non-null  object \n",
      " 2   package      223230 non-null  object \n",
      " 3   low_price    223230 non-null  float64\n",
      " 4   high_price   223230 non-null  float64\n",
      " 5   price        223230 non-null  float64\n",
      " 6   variety      223230 non-null  object \n",
      " 7   day_of_year  223230 non-null  int64  \n",
      "dtypes: float64(3), int64(2), object(3)\n",
      "memory usage: 15.3+ MB\n"
     ]
    }
   ],
   "source": [
    "pie_pumpkins = pumpkins[pumpkins['variety'] == 'PIE TYPE']\n",
    "#pie_pumpkins.dropna(inplace=True)\n",
    "\n",
    "pie_pumpkins.info()"
   ]
  },
  {
   "cell_type": "code",
   "execution_count": 17,
   "id": "3ca5a35e",
   "metadata": {},
   "outputs": [],
   "source": [
    "# importing libraries\n",
    "from sklearn.linear_model import LinearRegression\n",
    "from sklearn.metrics import mean_squared_error\n",
    "from sklearn.model_selection import train_test_split"
   ]
  },
  {
   "cell_type": "markdown",
   "id": "de6ad831",
   "metadata": {},
   "source": [
    "Then, we need to split the data into train and test datasets, so that we can validate our model after training."
   ]
  },
  {
   "cell_type": "code",
   "execution_count": 33,
   "id": "f2f916e1",
   "metadata": {},
   "outputs": [],
   "source": [
    "X = pie_pumpkins['day_of_year'].to_numpy().reshape(-1, 1)\n",
    "y = pie_pumpkins['price']\n",
    "\n",
    "X_train, X_test, y_train, y_test = train_test_split(X, y, test_size=0.2, random_state=0)"
   ]
  },
  {
   "cell_type": "code",
   "execution_count": 34,
   "id": "bd729349",
   "metadata": {},
   "outputs": [
    {
     "data": {
      "text/html": [
       "<style>#sk-container-id-1 {\n",
       "  /* Definition of color scheme common for light and dark mode */\n",
       "  --sklearn-color-text: #000;\n",
       "  --sklearn-color-text-muted: #666;\n",
       "  --sklearn-color-line: gray;\n",
       "  /* Definition of color scheme for unfitted estimators */\n",
       "  --sklearn-color-unfitted-level-0: #fff5e6;\n",
       "  --sklearn-color-unfitted-level-1: #f6e4d2;\n",
       "  --sklearn-color-unfitted-level-2: #ffe0b3;\n",
       "  --sklearn-color-unfitted-level-3: chocolate;\n",
       "  /* Definition of color scheme for fitted estimators */\n",
       "  --sklearn-color-fitted-level-0: #f0f8ff;\n",
       "  --sklearn-color-fitted-level-1: #d4ebff;\n",
       "  --sklearn-color-fitted-level-2: #b3dbfd;\n",
       "  --sklearn-color-fitted-level-3: cornflowerblue;\n",
       "\n",
       "  /* Specific color for light theme */\n",
       "  --sklearn-color-text-on-default-background: var(--sg-text-color, var(--theme-code-foreground, var(--jp-content-font-color1, black)));\n",
       "  --sklearn-color-background: var(--sg-background-color, var(--theme-background, var(--jp-layout-color0, white)));\n",
       "  --sklearn-color-border-box: var(--sg-text-color, var(--theme-code-foreground, var(--jp-content-font-color1, black)));\n",
       "  --sklearn-color-icon: #696969;\n",
       "\n",
       "  @media (prefers-color-scheme: dark) {\n",
       "    /* Redefinition of color scheme for dark theme */\n",
       "    --sklearn-color-text-on-default-background: var(--sg-text-color, var(--theme-code-foreground, var(--jp-content-font-color1, white)));\n",
       "    --sklearn-color-background: var(--sg-background-color, var(--theme-background, var(--jp-layout-color0, #111)));\n",
       "    --sklearn-color-border-box: var(--sg-text-color, var(--theme-code-foreground, var(--jp-content-font-color1, white)));\n",
       "    --sklearn-color-icon: #878787;\n",
       "  }\n",
       "}\n",
       "\n",
       "#sk-container-id-1 {\n",
       "  color: var(--sklearn-color-text);\n",
       "}\n",
       "\n",
       "#sk-container-id-1 pre {\n",
       "  padding: 0;\n",
       "}\n",
       "\n",
       "#sk-container-id-1 input.sk-hidden--visually {\n",
       "  border: 0;\n",
       "  clip: rect(1px 1px 1px 1px);\n",
       "  clip: rect(1px, 1px, 1px, 1px);\n",
       "  height: 1px;\n",
       "  margin: -1px;\n",
       "  overflow: hidden;\n",
       "  padding: 0;\n",
       "  position: absolute;\n",
       "  width: 1px;\n",
       "}\n",
       "\n",
       "#sk-container-id-1 div.sk-dashed-wrapped {\n",
       "  border: 1px dashed var(--sklearn-color-line);\n",
       "  margin: 0 0.4em 0.5em 0.4em;\n",
       "  box-sizing: border-box;\n",
       "  padding-bottom: 0.4em;\n",
       "  background-color: var(--sklearn-color-background);\n",
       "}\n",
       "\n",
       "#sk-container-id-1 div.sk-container {\n",
       "  /* jupyter's `normalize.less` sets `[hidden] { display: none; }`\n",
       "     but bootstrap.min.css set `[hidden] { display: none !important; }`\n",
       "     so we also need the `!important` here to be able to override the\n",
       "     default hidden behavior on the sphinx rendered scikit-learn.org.\n",
       "     See: https://github.com/scikit-learn/scikit-learn/issues/21755 */\n",
       "  display: inline-block !important;\n",
       "  position: relative;\n",
       "}\n",
       "\n",
       "#sk-container-id-1 div.sk-text-repr-fallback {\n",
       "  display: none;\n",
       "}\n",
       "\n",
       "div.sk-parallel-item,\n",
       "div.sk-serial,\n",
       "div.sk-item {\n",
       "  /* draw centered vertical line to link estimators */\n",
       "  background-image: linear-gradient(var(--sklearn-color-text-on-default-background), var(--sklearn-color-text-on-default-background));\n",
       "  background-size: 2px 100%;\n",
       "  background-repeat: no-repeat;\n",
       "  background-position: center center;\n",
       "}\n",
       "\n",
       "/* Parallel-specific style estimator block */\n",
       "\n",
       "#sk-container-id-1 div.sk-parallel-item::after {\n",
       "  content: \"\";\n",
       "  width: 100%;\n",
       "  border-bottom: 2px solid var(--sklearn-color-text-on-default-background);\n",
       "  flex-grow: 1;\n",
       "}\n",
       "\n",
       "#sk-container-id-1 div.sk-parallel {\n",
       "  display: flex;\n",
       "  align-items: stretch;\n",
       "  justify-content: center;\n",
       "  background-color: var(--sklearn-color-background);\n",
       "  position: relative;\n",
       "}\n",
       "\n",
       "#sk-container-id-1 div.sk-parallel-item {\n",
       "  display: flex;\n",
       "  flex-direction: column;\n",
       "}\n",
       "\n",
       "#sk-container-id-1 div.sk-parallel-item:first-child::after {\n",
       "  align-self: flex-end;\n",
       "  width: 50%;\n",
       "}\n",
       "\n",
       "#sk-container-id-1 div.sk-parallel-item:last-child::after {\n",
       "  align-self: flex-start;\n",
       "  width: 50%;\n",
       "}\n",
       "\n",
       "#sk-container-id-1 div.sk-parallel-item:only-child::after {\n",
       "  width: 0;\n",
       "}\n",
       "\n",
       "/* Serial-specific style estimator block */\n",
       "\n",
       "#sk-container-id-1 div.sk-serial {\n",
       "  display: flex;\n",
       "  flex-direction: column;\n",
       "  align-items: center;\n",
       "  background-color: var(--sklearn-color-background);\n",
       "  padding-right: 1em;\n",
       "  padding-left: 1em;\n",
       "}\n",
       "\n",
       "\n",
       "/* Toggleable style: style used for estimator/Pipeline/ColumnTransformer box that is\n",
       "clickable and can be expanded/collapsed.\n",
       "- Pipeline and ColumnTransformer use this feature and define the default style\n",
       "- Estimators will overwrite some part of the style using the `sk-estimator` class\n",
       "*/\n",
       "\n",
       "/* Pipeline and ColumnTransformer style (default) */\n",
       "\n",
       "#sk-container-id-1 div.sk-toggleable {\n",
       "  /* Default theme specific background. It is overwritten whether we have a\n",
       "  specific estimator or a Pipeline/ColumnTransformer */\n",
       "  background-color: var(--sklearn-color-background);\n",
       "}\n",
       "\n",
       "/* Toggleable label */\n",
       "#sk-container-id-1 label.sk-toggleable__label {\n",
       "  cursor: pointer;\n",
       "  display: flex;\n",
       "  width: 100%;\n",
       "  margin-bottom: 0;\n",
       "  padding: 0.5em;\n",
       "  box-sizing: border-box;\n",
       "  text-align: center;\n",
       "  align-items: start;\n",
       "  justify-content: space-between;\n",
       "  gap: 0.5em;\n",
       "}\n",
       "\n",
       "#sk-container-id-1 label.sk-toggleable__label .caption {\n",
       "  font-size: 0.6rem;\n",
       "  font-weight: lighter;\n",
       "  color: var(--sklearn-color-text-muted);\n",
       "}\n",
       "\n",
       "#sk-container-id-1 label.sk-toggleable__label-arrow:before {\n",
       "  /* Arrow on the left of the label */\n",
       "  content: \"▸\";\n",
       "  float: left;\n",
       "  margin-right: 0.25em;\n",
       "  color: var(--sklearn-color-icon);\n",
       "}\n",
       "\n",
       "#sk-container-id-1 label.sk-toggleable__label-arrow:hover:before {\n",
       "  color: var(--sklearn-color-text);\n",
       "}\n",
       "\n",
       "/* Toggleable content - dropdown */\n",
       "\n",
       "#sk-container-id-1 div.sk-toggleable__content {\n",
       "  max-height: 0;\n",
       "  max-width: 0;\n",
       "  overflow: hidden;\n",
       "  text-align: left;\n",
       "  /* unfitted */\n",
       "  background-color: var(--sklearn-color-unfitted-level-0);\n",
       "}\n",
       "\n",
       "#sk-container-id-1 div.sk-toggleable__content.fitted {\n",
       "  /* fitted */\n",
       "  background-color: var(--sklearn-color-fitted-level-0);\n",
       "}\n",
       "\n",
       "#sk-container-id-1 div.sk-toggleable__content pre {\n",
       "  margin: 0.2em;\n",
       "  border-radius: 0.25em;\n",
       "  color: var(--sklearn-color-text);\n",
       "  /* unfitted */\n",
       "  background-color: var(--sklearn-color-unfitted-level-0);\n",
       "}\n",
       "\n",
       "#sk-container-id-1 div.sk-toggleable__content.fitted pre {\n",
       "  /* unfitted */\n",
       "  background-color: var(--sklearn-color-fitted-level-0);\n",
       "}\n",
       "\n",
       "#sk-container-id-1 input.sk-toggleable__control:checked~div.sk-toggleable__content {\n",
       "  /* Expand drop-down */\n",
       "  max-height: 200px;\n",
       "  max-width: 100%;\n",
       "  overflow: auto;\n",
       "}\n",
       "\n",
       "#sk-container-id-1 input.sk-toggleable__control:checked~label.sk-toggleable__label-arrow:before {\n",
       "  content: \"▾\";\n",
       "}\n",
       "\n",
       "/* Pipeline/ColumnTransformer-specific style */\n",
       "\n",
       "#sk-container-id-1 div.sk-label input.sk-toggleable__control:checked~label.sk-toggleable__label {\n",
       "  color: var(--sklearn-color-text);\n",
       "  background-color: var(--sklearn-color-unfitted-level-2);\n",
       "}\n",
       "\n",
       "#sk-container-id-1 div.sk-label.fitted input.sk-toggleable__control:checked~label.sk-toggleable__label {\n",
       "  background-color: var(--sklearn-color-fitted-level-2);\n",
       "}\n",
       "\n",
       "/* Estimator-specific style */\n",
       "\n",
       "/* Colorize estimator box */\n",
       "#sk-container-id-1 div.sk-estimator input.sk-toggleable__control:checked~label.sk-toggleable__label {\n",
       "  /* unfitted */\n",
       "  background-color: var(--sklearn-color-unfitted-level-2);\n",
       "}\n",
       "\n",
       "#sk-container-id-1 div.sk-estimator.fitted input.sk-toggleable__control:checked~label.sk-toggleable__label {\n",
       "  /* fitted */\n",
       "  background-color: var(--sklearn-color-fitted-level-2);\n",
       "}\n",
       "\n",
       "#sk-container-id-1 div.sk-label label.sk-toggleable__label,\n",
       "#sk-container-id-1 div.sk-label label {\n",
       "  /* The background is the default theme color */\n",
       "  color: var(--sklearn-color-text-on-default-background);\n",
       "}\n",
       "\n",
       "/* On hover, darken the color of the background */\n",
       "#sk-container-id-1 div.sk-label:hover label.sk-toggleable__label {\n",
       "  color: var(--sklearn-color-text);\n",
       "  background-color: var(--sklearn-color-unfitted-level-2);\n",
       "}\n",
       "\n",
       "/* Label box, darken color on hover, fitted */\n",
       "#sk-container-id-1 div.sk-label.fitted:hover label.sk-toggleable__label.fitted {\n",
       "  color: var(--sklearn-color-text);\n",
       "  background-color: var(--sklearn-color-fitted-level-2);\n",
       "}\n",
       "\n",
       "/* Estimator label */\n",
       "\n",
       "#sk-container-id-1 div.sk-label label {\n",
       "  font-family: monospace;\n",
       "  font-weight: bold;\n",
       "  display: inline-block;\n",
       "  line-height: 1.2em;\n",
       "}\n",
       "\n",
       "#sk-container-id-1 div.sk-label-container {\n",
       "  text-align: center;\n",
       "}\n",
       "\n",
       "/* Estimator-specific */\n",
       "#sk-container-id-1 div.sk-estimator {\n",
       "  font-family: monospace;\n",
       "  border: 1px dotted var(--sklearn-color-border-box);\n",
       "  border-radius: 0.25em;\n",
       "  box-sizing: border-box;\n",
       "  margin-bottom: 0.5em;\n",
       "  /* unfitted */\n",
       "  background-color: var(--sklearn-color-unfitted-level-0);\n",
       "}\n",
       "\n",
       "#sk-container-id-1 div.sk-estimator.fitted {\n",
       "  /* fitted */\n",
       "  background-color: var(--sklearn-color-fitted-level-0);\n",
       "}\n",
       "\n",
       "/* on hover */\n",
       "#sk-container-id-1 div.sk-estimator:hover {\n",
       "  /* unfitted */\n",
       "  background-color: var(--sklearn-color-unfitted-level-2);\n",
       "}\n",
       "\n",
       "#sk-container-id-1 div.sk-estimator.fitted:hover {\n",
       "  /* fitted */\n",
       "  background-color: var(--sklearn-color-fitted-level-2);\n",
       "}\n",
       "\n",
       "/* Specification for estimator info (e.g. \"i\" and \"?\") */\n",
       "\n",
       "/* Common style for \"i\" and \"?\" */\n",
       "\n",
       ".sk-estimator-doc-link,\n",
       "a:link.sk-estimator-doc-link,\n",
       "a:visited.sk-estimator-doc-link {\n",
       "  float: right;\n",
       "  font-size: smaller;\n",
       "  line-height: 1em;\n",
       "  font-family: monospace;\n",
       "  background-color: var(--sklearn-color-background);\n",
       "  border-radius: 1em;\n",
       "  height: 1em;\n",
       "  width: 1em;\n",
       "  text-decoration: none !important;\n",
       "  margin-left: 0.5em;\n",
       "  text-align: center;\n",
       "  /* unfitted */\n",
       "  border: var(--sklearn-color-unfitted-level-1) 1pt solid;\n",
       "  color: var(--sklearn-color-unfitted-level-1);\n",
       "}\n",
       "\n",
       ".sk-estimator-doc-link.fitted,\n",
       "a:link.sk-estimator-doc-link.fitted,\n",
       "a:visited.sk-estimator-doc-link.fitted {\n",
       "  /* fitted */\n",
       "  border: var(--sklearn-color-fitted-level-1) 1pt solid;\n",
       "  color: var(--sklearn-color-fitted-level-1);\n",
       "}\n",
       "\n",
       "/* On hover */\n",
       "div.sk-estimator:hover .sk-estimator-doc-link:hover,\n",
       ".sk-estimator-doc-link:hover,\n",
       "div.sk-label-container:hover .sk-estimator-doc-link:hover,\n",
       ".sk-estimator-doc-link:hover {\n",
       "  /* unfitted */\n",
       "  background-color: var(--sklearn-color-unfitted-level-3);\n",
       "  color: var(--sklearn-color-background);\n",
       "  text-decoration: none;\n",
       "}\n",
       "\n",
       "div.sk-estimator.fitted:hover .sk-estimator-doc-link.fitted:hover,\n",
       ".sk-estimator-doc-link.fitted:hover,\n",
       "div.sk-label-container:hover .sk-estimator-doc-link.fitted:hover,\n",
       ".sk-estimator-doc-link.fitted:hover {\n",
       "  /* fitted */\n",
       "  background-color: var(--sklearn-color-fitted-level-3);\n",
       "  color: var(--sklearn-color-background);\n",
       "  text-decoration: none;\n",
       "}\n",
       "\n",
       "/* Span, style for the box shown on hovering the info icon */\n",
       ".sk-estimator-doc-link span {\n",
       "  display: none;\n",
       "  z-index: 9999;\n",
       "  position: relative;\n",
       "  font-weight: normal;\n",
       "  right: .2ex;\n",
       "  padding: .5ex;\n",
       "  margin: .5ex;\n",
       "  width: min-content;\n",
       "  min-width: 20ex;\n",
       "  max-width: 50ex;\n",
       "  color: var(--sklearn-color-text);\n",
       "  box-shadow: 2pt 2pt 4pt #999;\n",
       "  /* unfitted */\n",
       "  background: var(--sklearn-color-unfitted-level-0);\n",
       "  border: .5pt solid var(--sklearn-color-unfitted-level-3);\n",
       "}\n",
       "\n",
       ".sk-estimator-doc-link.fitted span {\n",
       "  /* fitted */\n",
       "  background: var(--sklearn-color-fitted-level-0);\n",
       "  border: var(--sklearn-color-fitted-level-3);\n",
       "}\n",
       "\n",
       ".sk-estimator-doc-link:hover span {\n",
       "  display: block;\n",
       "}\n",
       "\n",
       "/* \"?\"-specific style due to the `<a>` HTML tag */\n",
       "\n",
       "#sk-container-id-1 a.estimator_doc_link {\n",
       "  float: right;\n",
       "  font-size: 1rem;\n",
       "  line-height: 1em;\n",
       "  font-family: monospace;\n",
       "  background-color: var(--sklearn-color-background);\n",
       "  border-radius: 1rem;\n",
       "  height: 1rem;\n",
       "  width: 1rem;\n",
       "  text-decoration: none;\n",
       "  /* unfitted */\n",
       "  color: var(--sklearn-color-unfitted-level-1);\n",
       "  border: var(--sklearn-color-unfitted-level-1) 1pt solid;\n",
       "}\n",
       "\n",
       "#sk-container-id-1 a.estimator_doc_link.fitted {\n",
       "  /* fitted */\n",
       "  border: var(--sklearn-color-fitted-level-1) 1pt solid;\n",
       "  color: var(--sklearn-color-fitted-level-1);\n",
       "}\n",
       "\n",
       "/* On hover */\n",
       "#sk-container-id-1 a.estimator_doc_link:hover {\n",
       "  /* unfitted */\n",
       "  background-color: var(--sklearn-color-unfitted-level-3);\n",
       "  color: var(--sklearn-color-background);\n",
       "  text-decoration: none;\n",
       "}\n",
       "\n",
       "#sk-container-id-1 a.estimator_doc_link.fitted:hover {\n",
       "  /* fitted */\n",
       "  background-color: var(--sklearn-color-fitted-level-3);\n",
       "}\n",
       "</style><div id=\"sk-container-id-1\" class=\"sk-top-container\"><div class=\"sk-text-repr-fallback\"><pre>LinearRegression()</pre><b>In a Jupyter environment, please rerun this cell to show the HTML representation or trust the notebook. <br />On GitHub, the HTML representation is unable to render, please try loading this page with nbviewer.org.</b></div><div class=\"sk-container\" hidden><div class=\"sk-item\"><div class=\"sk-estimator fitted sk-toggleable\"><input class=\"sk-toggleable__control sk-hidden--visually\" id=\"sk-estimator-id-1\" type=\"checkbox\" checked><label for=\"sk-estimator-id-1\" class=\"sk-toggleable__label fitted sk-toggleable__label-arrow\"><div><div>LinearRegression</div></div><div><a class=\"sk-estimator-doc-link fitted\" rel=\"noreferrer\" target=\"_blank\" href=\"https://scikit-learn.org/1.6/modules/generated/sklearn.linear_model.LinearRegression.html\">?<span>Documentation for LinearRegression</span></a><span class=\"sk-estimator-doc-link fitted\">i<span>Fitted</span></span></div></label><div class=\"sk-toggleable__content fitted\"><pre>LinearRegression()</pre></div> </div></div></div></div>"
      ],
      "text/plain": [
       "LinearRegression()"
      ]
     },
     "execution_count": 34,
     "metadata": {},
     "output_type": "execute_result"
    }
   ],
   "source": [
    "lin_reg = LinearRegression()\n",
    "lin_reg.fit(X_train, y_train)"
   ]
  },
  {
   "cell_type": "markdown",
   "id": "8fb29a60",
   "metadata": {},
   "source": [
    "To see how accurate the model is, we can predict price on a test dataset, and then measure how close our predictions are to the expected values. This can be done using mean square error (MSE) metrics."
   ]
  },
  {
   "cell_type": "code",
   "execution_count": 36,
   "id": "b1f1b806",
   "metadata": {},
   "outputs": [
    {
     "name": "stdout",
     "output_type": "stream",
     "text": [
      "Mean error: 58.79961921963386 (33.7938431117855%)\n"
     ]
    }
   ],
   "source": [
    "pred = lin_reg.predict(X_test)\n",
    "mse = np.sqrt(mean_squared_error(y_test, pred))\n",
    "print(f\"Mean error: {mse} ({mse/np.mean(pred)*100}%)\")"
   ]
  },
  {
   "cell_type": "code",
   "execution_count": null,
   "id": "5a77037e",
   "metadata": {},
   "outputs": [],
   "source": []
  }
 ],
 "metadata": {
  "kernelspec": {
   "display_name": "base",
   "language": "python",
   "name": "python3"
  },
  "language_info": {
   "codemirror_mode": {
    "name": "ipython",
    "version": 3
   },
   "file_extension": ".py",
   "mimetype": "text/x-python",
   "name": "python",
   "nbconvert_exporter": "python",
   "pygments_lexer": "ipython3",
   "version": "3.12.3"
  }
 },
 "nbformat": 4,
 "nbformat_minor": 5
}
