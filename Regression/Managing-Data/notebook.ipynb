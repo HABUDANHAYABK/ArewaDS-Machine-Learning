{
 "cells": [
  {
   "cell_type": "markdown",
   "id": "3f2cf146",
   "metadata": {},
   "source": [
    "# Managing Data\n",
    "\n",
    "In this module, we were learnt how to prepare the dataset for machine learning modelling. `Data scientists` say data prepation, cleaning and visualizations take 70 to 80% of any machine learning modelling. let's start and explore the beauty of `managing data`.\n",
    "\n",
    "For this exercise, I am going to prepare the dataset called `US-pumpkins.csv` for ML."
   ]
  },
  {
   "cell_type": "markdown",
   "id": "9fa1105b",
   "metadata": {},
   "source": [
    "These are my objectives of the exercises\n",
    "- load the `Dataframe`\n",
    "- check for missing values\n",
    "- drop the missing values\n",
    "- check and convert columns to their suitable format for ml\n",
    "- visualize the relations between variables "
   ]
  },
  {
   "cell_type": "code",
   "execution_count": 10,
   "id": "346aed02",
   "metadata": {},
   "outputs": [
    {
     "data": {
      "application/vnd.microsoft.datawrangler.viewer.v0+json": {
       "columns": [
        {
         "name": "index",
         "rawType": "int64",
         "type": "integer"
        },
        {
         "name": "City Name",
         "rawType": "object",
         "type": "string"
        },
        {
         "name": "Type",
         "rawType": "object",
         "type": "unknown"
        },
        {
         "name": "Package",
         "rawType": "object",
         "type": "string"
        },
        {
         "name": "Variety",
         "rawType": "object",
         "type": "unknown"
        },
        {
         "name": "Sub Variety",
         "rawType": "object",
         "type": "unknown"
        },
        {
         "name": "Grade",
         "rawType": "float64",
         "type": "float"
        },
        {
         "name": "Date",
         "rawType": "object",
         "type": "string"
        },
        {
         "name": "Low Price",
         "rawType": "float64",
         "type": "float"
        },
        {
         "name": "High Price",
         "rawType": "float64",
         "type": "float"
        },
        {
         "name": "Mostly Low",
         "rawType": "float64",
         "type": "float"
        },
        {
         "name": "Mostly High",
         "rawType": "float64",
         "type": "float"
        },
        {
         "name": "Origin",
         "rawType": "object",
         "type": "string"
        },
        {
         "name": "Origin District",
         "rawType": "object",
         "type": "unknown"
        },
        {
         "name": "Item Size",
         "rawType": "object",
         "type": "string"
        },
        {
         "name": "Color",
         "rawType": "object",
         "type": "unknown"
        },
        {
         "name": "Environment",
         "rawType": "float64",
         "type": "float"
        },
        {
         "name": "Unit of Sale",
         "rawType": "object",
         "type": "unknown"
        },
        {
         "name": "Quality",
         "rawType": "float64",
         "type": "float"
        },
        {
         "name": "Condition",
         "rawType": "float64",
         "type": "float"
        },
        {
         "name": "Appearance",
         "rawType": "float64",
         "type": "float"
        },
        {
         "name": "Storage",
         "rawType": "float64",
         "type": "float"
        },
        {
         "name": "Crop",
         "rawType": "float64",
         "type": "float"
        },
        {
         "name": "Repack",
         "rawType": "object",
         "type": "string"
        },
        {
         "name": "Trans Mode",
         "rawType": "float64",
         "type": "float"
        },
        {
         "name": "Unnamed: 24",
         "rawType": "float64",
         "type": "float"
        },
        {
         "name": "Unnamed: 25",
         "rawType": "object",
         "type": "unknown"
        }
       ],
       "ref": "e3eb4cf8-30d3-4c65-837e-388a156f64f5",
       "rows": [
        [
         "0",
         "BALTIMORE",
         null,
         "24 inch bins",
         null,
         null,
         null,
         "4/29/17",
         "270.0",
         "280.0",
         "270.0",
         "280.0",
         "MARYLAND",
         null,
         "lge",
         null,
         null,
         null,
         null,
         null,
         null,
         null,
         null,
         "E",
         null,
         null,
         null
        ],
        [
         "1",
         "BALTIMORE",
         null,
         "24 inch bins",
         null,
         null,
         null,
         "5/6/17",
         "270.0",
         "280.0",
         "270.0",
         "280.0",
         "MARYLAND",
         null,
         "lge",
         null,
         null,
         null,
         null,
         null,
         null,
         null,
         null,
         "E",
         null,
         null,
         null
        ],
        [
         "2",
         "BALTIMORE",
         null,
         "24 inch bins",
         "HOWDEN TYPE",
         null,
         null,
         "9/24/16",
         "160.0",
         "160.0",
         "160.0",
         "160.0",
         "DELAWARE",
         null,
         "med",
         "ORANGE",
         null,
         null,
         null,
         null,
         null,
         null,
         null,
         "N",
         null,
         null,
         null
        ],
        [
         "3",
         "BALTIMORE",
         null,
         "24 inch bins",
         "HOWDEN TYPE",
         null,
         null,
         "9/24/16",
         "160.0",
         "160.0",
         "160.0",
         "160.0",
         "VIRGINIA",
         null,
         "med",
         "ORANGE",
         null,
         null,
         null,
         null,
         null,
         null,
         null,
         "N",
         null,
         null,
         null
        ],
        [
         "4",
         "BALTIMORE",
         null,
         "24 inch bins",
         "HOWDEN TYPE",
         null,
         null,
         "11/5/16",
         "90.0",
         "100.0",
         "90.0",
         "100.0",
         "MARYLAND",
         null,
         "lge",
         "ORANGE",
         null,
         null,
         null,
         null,
         null,
         null,
         null,
         "N",
         null,
         null,
         null
        ]
       ],
       "shape": {
        "columns": 26,
        "rows": 5
       }
      },
      "text/html": [
       "<div>\n",
       "<style scoped>\n",
       "    .dataframe tbody tr th:only-of-type {\n",
       "        vertical-align: middle;\n",
       "    }\n",
       "\n",
       "    .dataframe tbody tr th {\n",
       "        vertical-align: top;\n",
       "    }\n",
       "\n",
       "    .dataframe thead th {\n",
       "        text-align: right;\n",
       "    }\n",
       "</style>\n",
       "<table border=\"1\" class=\"dataframe\">\n",
       "  <thead>\n",
       "    <tr style=\"text-align: right;\">\n",
       "      <th></th>\n",
       "      <th>City Name</th>\n",
       "      <th>Type</th>\n",
       "      <th>Package</th>\n",
       "      <th>Variety</th>\n",
       "      <th>Sub Variety</th>\n",
       "      <th>Grade</th>\n",
       "      <th>Date</th>\n",
       "      <th>Low Price</th>\n",
       "      <th>High Price</th>\n",
       "      <th>Mostly Low</th>\n",
       "      <th>...</th>\n",
       "      <th>Unit of Sale</th>\n",
       "      <th>Quality</th>\n",
       "      <th>Condition</th>\n",
       "      <th>Appearance</th>\n",
       "      <th>Storage</th>\n",
       "      <th>Crop</th>\n",
       "      <th>Repack</th>\n",
       "      <th>Trans Mode</th>\n",
       "      <th>Unnamed: 24</th>\n",
       "      <th>Unnamed: 25</th>\n",
       "    </tr>\n",
       "  </thead>\n",
       "  <tbody>\n",
       "    <tr>\n",
       "      <th>0</th>\n",
       "      <td>BALTIMORE</td>\n",
       "      <td>NaN</td>\n",
       "      <td>24 inch bins</td>\n",
       "      <td>NaN</td>\n",
       "      <td>NaN</td>\n",
       "      <td>NaN</td>\n",
       "      <td>4/29/17</td>\n",
       "      <td>270.0</td>\n",
       "      <td>280.0</td>\n",
       "      <td>270.0</td>\n",
       "      <td>...</td>\n",
       "      <td>NaN</td>\n",
       "      <td>NaN</td>\n",
       "      <td>NaN</td>\n",
       "      <td>NaN</td>\n",
       "      <td>NaN</td>\n",
       "      <td>NaN</td>\n",
       "      <td>E</td>\n",
       "      <td>NaN</td>\n",
       "      <td>NaN</td>\n",
       "      <td>NaN</td>\n",
       "    </tr>\n",
       "    <tr>\n",
       "      <th>1</th>\n",
       "      <td>BALTIMORE</td>\n",
       "      <td>NaN</td>\n",
       "      <td>24 inch bins</td>\n",
       "      <td>NaN</td>\n",
       "      <td>NaN</td>\n",
       "      <td>NaN</td>\n",
       "      <td>5/6/17</td>\n",
       "      <td>270.0</td>\n",
       "      <td>280.0</td>\n",
       "      <td>270.0</td>\n",
       "      <td>...</td>\n",
       "      <td>NaN</td>\n",
       "      <td>NaN</td>\n",
       "      <td>NaN</td>\n",
       "      <td>NaN</td>\n",
       "      <td>NaN</td>\n",
       "      <td>NaN</td>\n",
       "      <td>E</td>\n",
       "      <td>NaN</td>\n",
       "      <td>NaN</td>\n",
       "      <td>NaN</td>\n",
       "    </tr>\n",
       "    <tr>\n",
       "      <th>2</th>\n",
       "      <td>BALTIMORE</td>\n",
       "      <td>NaN</td>\n",
       "      <td>24 inch bins</td>\n",
       "      <td>HOWDEN TYPE</td>\n",
       "      <td>NaN</td>\n",
       "      <td>NaN</td>\n",
       "      <td>9/24/16</td>\n",
       "      <td>160.0</td>\n",
       "      <td>160.0</td>\n",
       "      <td>160.0</td>\n",
       "      <td>...</td>\n",
       "      <td>NaN</td>\n",
       "      <td>NaN</td>\n",
       "      <td>NaN</td>\n",
       "      <td>NaN</td>\n",
       "      <td>NaN</td>\n",
       "      <td>NaN</td>\n",
       "      <td>N</td>\n",
       "      <td>NaN</td>\n",
       "      <td>NaN</td>\n",
       "      <td>NaN</td>\n",
       "    </tr>\n",
       "    <tr>\n",
       "      <th>3</th>\n",
       "      <td>BALTIMORE</td>\n",
       "      <td>NaN</td>\n",
       "      <td>24 inch bins</td>\n",
       "      <td>HOWDEN TYPE</td>\n",
       "      <td>NaN</td>\n",
       "      <td>NaN</td>\n",
       "      <td>9/24/16</td>\n",
       "      <td>160.0</td>\n",
       "      <td>160.0</td>\n",
       "      <td>160.0</td>\n",
       "      <td>...</td>\n",
       "      <td>NaN</td>\n",
       "      <td>NaN</td>\n",
       "      <td>NaN</td>\n",
       "      <td>NaN</td>\n",
       "      <td>NaN</td>\n",
       "      <td>NaN</td>\n",
       "      <td>N</td>\n",
       "      <td>NaN</td>\n",
       "      <td>NaN</td>\n",
       "      <td>NaN</td>\n",
       "    </tr>\n",
       "    <tr>\n",
       "      <th>4</th>\n",
       "      <td>BALTIMORE</td>\n",
       "      <td>NaN</td>\n",
       "      <td>24 inch bins</td>\n",
       "      <td>HOWDEN TYPE</td>\n",
       "      <td>NaN</td>\n",
       "      <td>NaN</td>\n",
       "      <td>11/5/16</td>\n",
       "      <td>90.0</td>\n",
       "      <td>100.0</td>\n",
       "      <td>90.0</td>\n",
       "      <td>...</td>\n",
       "      <td>NaN</td>\n",
       "      <td>NaN</td>\n",
       "      <td>NaN</td>\n",
       "      <td>NaN</td>\n",
       "      <td>NaN</td>\n",
       "      <td>NaN</td>\n",
       "      <td>N</td>\n",
       "      <td>NaN</td>\n",
       "      <td>NaN</td>\n",
       "      <td>NaN</td>\n",
       "    </tr>\n",
       "  </tbody>\n",
       "</table>\n",
       "<p>5 rows × 26 columns</p>\n",
       "</div>"
      ],
      "text/plain": [
       "   City Name Type       Package      Variety Sub Variety  Grade     Date  \\\n",
       "0  BALTIMORE  NaN  24 inch bins          NaN         NaN    NaN  4/29/17   \n",
       "1  BALTIMORE  NaN  24 inch bins          NaN         NaN    NaN   5/6/17   \n",
       "2  BALTIMORE  NaN  24 inch bins  HOWDEN TYPE         NaN    NaN  9/24/16   \n",
       "3  BALTIMORE  NaN  24 inch bins  HOWDEN TYPE         NaN    NaN  9/24/16   \n",
       "4  BALTIMORE  NaN  24 inch bins  HOWDEN TYPE         NaN    NaN  11/5/16   \n",
       "\n",
       "   Low Price  High Price  Mostly Low  ...  Unit of Sale Quality Condition  \\\n",
       "0      270.0       280.0       270.0  ...           NaN     NaN       NaN   \n",
       "1      270.0       280.0       270.0  ...           NaN     NaN       NaN   \n",
       "2      160.0       160.0       160.0  ...           NaN     NaN       NaN   \n",
       "3      160.0       160.0       160.0  ...           NaN     NaN       NaN   \n",
       "4       90.0       100.0        90.0  ...           NaN     NaN       NaN   \n",
       "\n",
       "  Appearance Storage  Crop Repack  Trans Mode  Unnamed: 24  Unnamed: 25  \n",
       "0        NaN     NaN   NaN      E         NaN          NaN          NaN  \n",
       "1        NaN     NaN   NaN      E         NaN          NaN          NaN  \n",
       "2        NaN     NaN   NaN      N         NaN          NaN          NaN  \n",
       "3        NaN     NaN   NaN      N         NaN          NaN          NaN  \n",
       "4        NaN     NaN   NaN      N         NaN          NaN          NaN  \n",
       "\n",
       "[5 rows x 26 columns]"
      ]
     },
     "execution_count": 10,
     "metadata": {},
     "output_type": "execute_result"
    }
   ],
   "source": [
    "import pandas as pd\n",
    "import matplotlib.pyplot as plt\n",
    "import numpy as np\n",
    "\n",
    "pumpkins = pd.read_csv(r\"c:/users/danhaya/arewads/arewads-machine-learning/data/US-pumpkins.csv\")\n",
    "pumpkins.head()"
   ]
  },
  {
   "cell_type": "code",
   "execution_count": 8,
   "id": "b1052c71",
   "metadata": {},
   "outputs": [
    {
     "data": {
      "application/vnd.microsoft.datawrangler.viewer.v0+json": {
       "columns": [
        {
         "name": "index",
         "rawType": "object",
         "type": "string"
        },
        {
         "name": "0",
         "rawType": "int64",
         "type": "integer"
        }
       ],
       "ref": "a67135a3-ff03-4cab-bccc-9f925f229f18",
       "rows": [
        [
         "City Name",
         "0"
        ],
        [
         "Type",
         "1712"
        ],
        [
         "Package",
         "0"
        ],
        [
         "Variety",
         "5"
        ],
        [
         "Sub Variety",
         "1461"
        ],
        [
         "Grade",
         "1757"
        ],
        [
         "Date",
         "0"
        ],
        [
         "Low Price",
         "0"
        ],
        [
         "High Price",
         "0"
        ],
        [
         "Mostly Low",
         "103"
        ],
        [
         "Mostly High",
         "103"
        ],
        [
         "Origin",
         "3"
        ],
        [
         "Origin District",
         "1626"
        ],
        [
         "Item Size",
         "279"
        ],
        [
         "Color",
         "616"
        ],
        [
         "Environment",
         "1757"
        ],
        [
         "Unit of Sale",
         "1595"
        ],
        [
         "Quality",
         "1757"
        ],
        [
         "Condition",
         "1757"
        ],
        [
         "Appearance",
         "1757"
        ],
        [
         "Storage",
         "1757"
        ],
        [
         "Crop",
         "1757"
        ],
        [
         "Repack",
         "0"
        ],
        [
         "Trans Mode",
         "1757"
        ],
        [
         "Unnamed: 24",
         "1757"
        ],
        [
         "Unnamed: 25",
         "1654"
        ]
       ],
       "shape": {
        "columns": 1,
        "rows": 26
       }
      },
      "text/plain": [
       "City Name             0\n",
       "Type               1712\n",
       "Package               0\n",
       "Variety               5\n",
       "Sub Variety        1461\n",
       "Grade              1757\n",
       "Date                  0\n",
       "Low Price             0\n",
       "High Price            0\n",
       "Mostly Low          103\n",
       "Mostly High         103\n",
       "Origin                3\n",
       "Origin District    1626\n",
       "Item Size           279\n",
       "Color               616\n",
       "Environment        1757\n",
       "Unit of Sale       1595\n",
       "Quality            1757\n",
       "Condition          1757\n",
       "Appearance         1757\n",
       "Storage            1757\n",
       "Crop               1757\n",
       "Repack                0\n",
       "Trans Mode         1757\n",
       "Unnamed: 24        1757\n",
       "Unnamed: 25        1654\n",
       "dtype: int64"
      ]
     },
     "execution_count": 8,
     "metadata": {},
     "output_type": "execute_result"
    }
   ],
   "source": [
    "# Check for any missing data in the Dataframe\n",
    "\n",
    "pumpkins.isnull().sum()"
   ]
  },
  {
   "cell_type": "markdown",
   "id": "50634874",
   "metadata": {},
   "source": [
    "This `Dataframe` contains a lot of missing data. particularly these three columns; Type, sub variety and grade with over thousand of missing entries. while most low column has only hundred and three missing entries.\n",
    "\n",
    "let me drop all the columns with missing data to make the `Dataframe` clean and tide for ml modelling."
   ]
  },
  {
   "cell_type": "code",
   "execution_count": null,
   "id": "64b72920",
   "metadata": {},
   "outputs": [
    {
     "data": {
      "application/vnd.microsoft.datawrangler.viewer.v0+json": {
       "columns": [
        {
         "name": "index",
         "rawType": "int64",
         "type": "integer"
        },
        {
         "name": "Package",
         "rawType": "object",
         "type": "string"
        },
        {
         "name": "Date",
         "rawType": "object",
         "type": "string"
        },
        {
         "name": "Low Price",
         "rawType": "float64",
         "type": "float"
        },
        {
         "name": "High Price",
         "rawType": "float64",
         "type": "float"
        }
       ],
       "ref": "9847b282-c97a-40d3-983e-4e2e9ef38b46",
       "rows": [
        [
         "0",
         "24 inch bins",
         "4/29/17",
         "270.0",
         "280.0"
        ],
        [
         "1",
         "24 inch bins",
         "5/6/17",
         "270.0",
         "280.0"
        ],
        [
         "2",
         "24 inch bins",
         "9/24/16",
         "160.0",
         "160.0"
        ],
        [
         "3",
         "24 inch bins",
         "9/24/16",
         "160.0",
         "160.0"
        ],
        [
         "4",
         "24 inch bins",
         "11/5/16",
         "90.0",
         "100.0"
        ]
       ],
       "shape": {
        "columns": 4,
        "rows": 5
       }
      },
      "text/html": [
       "<div>\n",
       "<style scoped>\n",
       "    .dataframe tbody tr th:only-of-type {\n",
       "        vertical-align: middle;\n",
       "    }\n",
       "\n",
       "    .dataframe tbody tr th {\n",
       "        vertical-align: top;\n",
       "    }\n",
       "\n",
       "    .dataframe thead th {\n",
       "        text-align: right;\n",
       "    }\n",
       "</style>\n",
       "<table border=\"1\" class=\"dataframe\">\n",
       "  <thead>\n",
       "    <tr style=\"text-align: right;\">\n",
       "      <th></th>\n",
       "      <th>Package</th>\n",
       "      <th>Date</th>\n",
       "      <th>Low Price</th>\n",
       "      <th>High Price</th>\n",
       "    </tr>\n",
       "  </thead>\n",
       "  <tbody>\n",
       "    <tr>\n",
       "      <th>0</th>\n",
       "      <td>24 inch bins</td>\n",
       "      <td>4/29/17</td>\n",
       "      <td>270.0</td>\n",
       "      <td>280.0</td>\n",
       "    </tr>\n",
       "    <tr>\n",
       "      <th>1</th>\n",
       "      <td>24 inch bins</td>\n",
       "      <td>5/6/17</td>\n",
       "      <td>270.0</td>\n",
       "      <td>280.0</td>\n",
       "    </tr>\n",
       "    <tr>\n",
       "      <th>2</th>\n",
       "      <td>24 inch bins</td>\n",
       "      <td>9/24/16</td>\n",
       "      <td>160.0</td>\n",
       "      <td>160.0</td>\n",
       "    </tr>\n",
       "    <tr>\n",
       "      <th>3</th>\n",
       "      <td>24 inch bins</td>\n",
       "      <td>9/24/16</td>\n",
       "      <td>160.0</td>\n",
       "      <td>160.0</td>\n",
       "    </tr>\n",
       "    <tr>\n",
       "      <th>4</th>\n",
       "      <td>24 inch bins</td>\n",
       "      <td>11/5/16</td>\n",
       "      <td>90.0</td>\n",
       "      <td>100.0</td>\n",
       "    </tr>\n",
       "  </tbody>\n",
       "</table>\n",
       "</div>"
      ],
      "text/plain": [
       "        Package     Date  Low Price  High Price\n",
       "0  24 inch bins  4/29/17      270.0       280.0\n",
       "1  24 inch bins   5/6/17      270.0       280.0\n",
       "2  24 inch bins  9/24/16      160.0       160.0\n",
       "3  24 inch bins  9/24/16      160.0       160.0\n",
       "4  24 inch bins  11/5/16       90.0       100.0"
      ]
     },
     "execution_count": 11,
     "metadata": {},
     "output_type": "execute_result"
    }
   ],
   "source": [
    "# let me create list of columns of interest\n",
    "\n",
    "new_columns = ['Package', 'Low Price', 'High Price', 'Date']\n",
    "pumpkins = pumpkins.drop([c for c in pumpkins.columns if c not in new_columns], axis=1)\n",
    "\n",
    "pumpkins.head()"
   ]
  },
  {
   "cell_type": "markdown",
   "id": "16ccb979",
   "metadata": {},
   "source": [
    "I decided to change the name of columns to suitable format that the computer will understand easily."
   ]
  },
  {
   "cell_type": "code",
   "execution_count": 12,
   "id": "bf26e926",
   "metadata": {},
   "outputs": [
    {
     "data": {
      "application/vnd.microsoft.datawrangler.viewer.v0+json": {
       "columns": [
        {
         "name": "index",
         "rawType": "int64",
         "type": "integer"
        },
        {
         "name": "package",
         "rawType": "object",
         "type": "string"
        },
        {
         "name": "date",
         "rawType": "object",
         "type": "string"
        },
        {
         "name": "low_price",
         "rawType": "float64",
         "type": "float"
        },
        {
         "name": "high_price",
         "rawType": "float64",
         "type": "float"
        }
       ],
       "ref": "76d6312d-0d8f-4dd3-bc66-a02a11f9ae8f",
       "rows": [
        [
         "0",
         "24 inch bins",
         "4/29/17",
         "270.0",
         "280.0"
        ],
        [
         "1",
         "24 inch bins",
         "5/6/17",
         "270.0",
         "280.0"
        ],
        [
         "2",
         "24 inch bins",
         "9/24/16",
         "160.0",
         "160.0"
        ],
        [
         "3",
         "24 inch bins",
         "9/24/16",
         "160.0",
         "160.0"
        ],
        [
         "4",
         "24 inch bins",
         "11/5/16",
         "90.0",
         "100.0"
        ]
       ],
       "shape": {
        "columns": 4,
        "rows": 5
       }
      },
      "text/html": [
       "<div>\n",
       "<style scoped>\n",
       "    .dataframe tbody tr th:only-of-type {\n",
       "        vertical-align: middle;\n",
       "    }\n",
       "\n",
       "    .dataframe tbody tr th {\n",
       "        vertical-align: top;\n",
       "    }\n",
       "\n",
       "    .dataframe thead th {\n",
       "        text-align: right;\n",
       "    }\n",
       "</style>\n",
       "<table border=\"1\" class=\"dataframe\">\n",
       "  <thead>\n",
       "    <tr style=\"text-align: right;\">\n",
       "      <th></th>\n",
       "      <th>package</th>\n",
       "      <th>date</th>\n",
       "      <th>low_price</th>\n",
       "      <th>high_price</th>\n",
       "    </tr>\n",
       "  </thead>\n",
       "  <tbody>\n",
       "    <tr>\n",
       "      <th>0</th>\n",
       "      <td>24 inch bins</td>\n",
       "      <td>4/29/17</td>\n",
       "      <td>270.0</td>\n",
       "      <td>280.0</td>\n",
       "    </tr>\n",
       "    <tr>\n",
       "      <th>1</th>\n",
       "      <td>24 inch bins</td>\n",
       "      <td>5/6/17</td>\n",
       "      <td>270.0</td>\n",
       "      <td>280.0</td>\n",
       "    </tr>\n",
       "    <tr>\n",
       "      <th>2</th>\n",
       "      <td>24 inch bins</td>\n",
       "      <td>9/24/16</td>\n",
       "      <td>160.0</td>\n",
       "      <td>160.0</td>\n",
       "    </tr>\n",
       "    <tr>\n",
       "      <th>3</th>\n",
       "      <td>24 inch bins</td>\n",
       "      <td>9/24/16</td>\n",
       "      <td>160.0</td>\n",
       "      <td>160.0</td>\n",
       "    </tr>\n",
       "    <tr>\n",
       "      <th>4</th>\n",
       "      <td>24 inch bins</td>\n",
       "      <td>11/5/16</td>\n",
       "      <td>90.0</td>\n",
       "      <td>100.0</td>\n",
       "    </tr>\n",
       "  </tbody>\n",
       "</table>\n",
       "</div>"
      ],
      "text/plain": [
       "        package     date  low_price  high_price\n",
       "0  24 inch bins  4/29/17      270.0       280.0\n",
       "1  24 inch bins   5/6/17      270.0       280.0\n",
       "2  24 inch bins  9/24/16      160.0       160.0\n",
       "3  24 inch bins  9/24/16      160.0       160.0\n",
       "4  24 inch bins  11/5/16       90.0       100.0"
      ]
     },
     "execution_count": 12,
     "metadata": {},
     "output_type": "execute_result"
    }
   ],
   "source": [
    "pumpkins.columns = pumpkins.columns.str.replace(' ', '_').str.lower()\n",
    "\n",
    "pumpkins.head()"
   ]
  },
  {
   "cell_type": "markdown",
   "id": "db28a28f",
   "metadata": {},
   "source": [
    "`Litle computation`\n",
    "\n",
    "Here  i am going to determine the average price of pumpkings in a given month. I need to calculate the price by summing low and high price and divide the result by 2. And there's need to create a new column call month\n"
   ]
  },
  {
   "cell_type": "code",
   "execution_count": 25,
   "id": "f2f0d586",
   "metadata": {},
   "outputs": [
    {
     "name": "stdout",
     "output_type": "stream",
     "text": [
      "Index([ 4,  5,  9,  9, 11, 11,  9,  9, 10, 10,\n",
      "       ...\n",
      "        9,  9,  9,  9,  9,  9,  9,  9,  9,  9],\n",
      "      dtype='int32', name='date', length=1757)\n"
     ]
    }
   ],
   "source": [
    "price = ((pumpkins['low_price'] + pumpkins['high_price'])/2)\n",
    "month = pd.DatetimeIndex(pumpkins['date']).month\n",
    "print(month)"
   ]
  },
  {
   "cell_type": "code",
   "execution_count": 26,
   "id": "e8f34990",
   "metadata": {},
   "outputs": [
    {
     "name": "stdout",
     "output_type": "stream",
     "text": [
      "0       275.00\n",
      "1       275.00\n",
      "2       160.00\n",
      "3       160.00\n",
      "4        95.00\n",
      "         ...  \n",
      "1752     14.75\n",
      "1753    275.00\n",
      "1754    275.00\n",
      "1755    275.00\n",
      "1756    275.00\n",
      "Length: 1757, dtype: float64\n"
     ]
    }
   ],
   "source": [
    "print(price)"
   ]
  },
  {
   "cell_type": "code",
   "execution_count": 27,
   "id": "a496118e",
   "metadata": {},
   "outputs": [
    {
     "data": {
      "application/vnd.microsoft.datawrangler.viewer.v0+json": {
       "columns": [
        {
         "name": "index",
         "rawType": "int64",
         "type": "integer"
        },
        {
         "name": "month",
         "rawType": "int32",
         "type": "integer"
        },
        {
         "name": "package",
         "rawType": "object",
         "type": "string"
        },
        {
         "name": "low_price",
         "rawType": "float64",
         "type": "float"
        },
        {
         "name": "high_price",
         "rawType": "float64",
         "type": "float"
        },
        {
         "name": "price",
         "rawType": "float64",
         "type": "float"
        }
       ],
       "ref": "5063070d-c376-4e74-a11f-3088eb10f671",
       "rows": [
        [
         "0",
         "4",
         "24 inch bins",
         "270.0",
         "280.0",
         "275.0"
        ],
        [
         "1",
         "5",
         "24 inch bins",
         "270.0",
         "280.0",
         "275.0"
        ],
        [
         "2",
         "9",
         "24 inch bins",
         "160.0",
         "160.0",
         "160.0"
        ],
        [
         "3",
         "9",
         "24 inch bins",
         "160.0",
         "160.0",
         "160.0"
        ],
        [
         "4",
         "11",
         "24 inch bins",
         "90.0",
         "100.0",
         "95.0"
        ]
       ],
       "shape": {
        "columns": 5,
        "rows": 5
       }
      },
      "text/html": [
       "<div>\n",
       "<style scoped>\n",
       "    .dataframe tbody tr th:only-of-type {\n",
       "        vertical-align: middle;\n",
       "    }\n",
       "\n",
       "    .dataframe tbody tr th {\n",
       "        vertical-align: top;\n",
       "    }\n",
       "\n",
       "    .dataframe thead th {\n",
       "        text-align: right;\n",
       "    }\n",
       "</style>\n",
       "<table border=\"1\" class=\"dataframe\">\n",
       "  <thead>\n",
       "    <tr style=\"text-align: right;\">\n",
       "      <th></th>\n",
       "      <th>month</th>\n",
       "      <th>package</th>\n",
       "      <th>low_price</th>\n",
       "      <th>high_price</th>\n",
       "      <th>price</th>\n",
       "    </tr>\n",
       "  </thead>\n",
       "  <tbody>\n",
       "    <tr>\n",
       "      <th>0</th>\n",
       "      <td>4</td>\n",
       "      <td>24 inch bins</td>\n",
       "      <td>270.0</td>\n",
       "      <td>280.0</td>\n",
       "      <td>275.0</td>\n",
       "    </tr>\n",
       "    <tr>\n",
       "      <th>1</th>\n",
       "      <td>5</td>\n",
       "      <td>24 inch bins</td>\n",
       "      <td>270.0</td>\n",
       "      <td>280.0</td>\n",
       "      <td>275.0</td>\n",
       "    </tr>\n",
       "    <tr>\n",
       "      <th>2</th>\n",
       "      <td>9</td>\n",
       "      <td>24 inch bins</td>\n",
       "      <td>160.0</td>\n",
       "      <td>160.0</td>\n",
       "      <td>160.0</td>\n",
       "    </tr>\n",
       "    <tr>\n",
       "      <th>3</th>\n",
       "      <td>9</td>\n",
       "      <td>24 inch bins</td>\n",
       "      <td>160.0</td>\n",
       "      <td>160.0</td>\n",
       "      <td>160.0</td>\n",
       "    </tr>\n",
       "    <tr>\n",
       "      <th>4</th>\n",
       "      <td>11</td>\n",
       "      <td>24 inch bins</td>\n",
       "      <td>90.0</td>\n",
       "      <td>100.0</td>\n",
       "      <td>95.0</td>\n",
       "    </tr>\n",
       "  </tbody>\n",
       "</table>\n",
       "</div>"
      ],
      "text/plain": [
       "   month       package  low_price  high_price  price\n",
       "0      4  24 inch bins      270.0       280.0  275.0\n",
       "1      5  24 inch bins      270.0       280.0  275.0\n",
       "2      9  24 inch bins      160.0       160.0  160.0\n",
       "3      9  24 inch bins      160.0       160.0  160.0\n",
       "4     11  24 inch bins       90.0       100.0   95.0"
      ]
     },
     "execution_count": 27,
     "metadata": {},
     "output_type": "execute_result"
    }
   ],
   "source": [
    "new_pumpkins = pd.DataFrame({\n",
    "    'month' : month,\n",
    "    'package' : pumpkins['package'],\n",
    "    'low_price' : pumpkins['low_price'],\n",
    "    'high_price': pumpkins['high_price'],\n",
    "    'price': price\n",
    "})\n",
    "new_pumpkins.head()"
   ]
  },
  {
   "cell_type": "code",
   "execution_count": 15,
   "id": "59016bd7",
   "metadata": {},
   "outputs": [
    {
     "data": {
      "application/vnd.microsoft.datawrangler.viewer.v0+json": {
       "columns": [
        {
         "name": "package",
         "rawType": "object",
         "type": "string"
        },
        {
         "name": "count",
         "rawType": "int64",
         "type": "integer"
        }
       ],
       "ref": "8f038f51-6285-421e-861b-ddf76fc553dd",
       "rows": [
        [
         "36 inch bins",
         "663"
        ],
        [
         "24 inch bins",
         "551"
        ],
        [
         "1/2 bushel cartons",
         "234"
        ],
        [
         "1 1/9 bushel cartons",
         "117"
        ],
        [
         "35 lb cartons",
         "42"
        ],
        [
         "bushel cartons",
         "37"
        ],
        [
         "40 lb cartons",
         "19"
        ],
        [
         "1 1/9 bushel crates",
         "17"
        ],
        [
         "each",
         "17"
        ],
        [
         "bins",
         "13"
        ],
        [
         "50 lb sacks",
         "11"
        ],
        [
         "50 lb cartons",
         "10"
        ],
        [
         "bushel baskets",
         "10"
        ],
        [
         "22 lb cartons",
         "10"
        ],
        [
         "20 lb cartons",
         "6"
        ]
       ],
       "shape": {
        "columns": 1,
        "rows": 15
       }
      },
      "text/plain": [
       "package\n",
       "36 inch bins            663\n",
       "24 inch bins            551\n",
       "1/2 bushel cartons      234\n",
       "1 1/9 bushel cartons    117\n",
       "35 lb cartons            42\n",
       "bushel cartons           37\n",
       "40 lb cartons            19\n",
       "1 1/9 bushel crates      17\n",
       "each                     17\n",
       "bins                     13\n",
       "50 lb sacks              11\n",
       "50 lb cartons            10\n",
       "bushel baskets           10\n",
       "22 lb cartons            10\n",
       "20 lb cartons             6\n",
       "Name: count, dtype: int64"
      ]
     },
     "execution_count": 15,
     "metadata": {},
     "output_type": "execute_result"
    }
   ],
   "source": [
    "new_pumpkins['package'].value_counts()"
   ]
  },
  {
   "cell_type": "markdown",
   "id": "ad90498c",
   "metadata": {},
   "source": [
    "There's something we need to address, the inconsistency in package units. we need to find a favourable unit that can accomodate all these units.\n",
    "we can do some maths to standardize it. "
   ]
  },
  {
   "cell_type": "code",
   "execution_count": 28,
   "id": "8589c01c",
   "metadata": {},
   "outputs": [],
   "source": [
    "new_pumpkins.loc[new_pumpkins['package'].str.contains('1 1/9'), 'price'] = new_pumpkins['price']*(1 + 1/9)\n",
    "new_pumpkins.loc[new_pumpkins['package'].str.contains('1/2'), 'price'] = new_pumpkins['price']*(1/2)"
   ]
  },
  {
   "cell_type": "markdown",
   "id": "91a629b2",
   "metadata": {},
   "source": [
    "### `VIZUALIZATION WITH MATPLOTLIB`"
   ]
  },
  {
   "cell_type": "code",
   "execution_count": 29,
   "id": "0922229f",
   "metadata": {},
   "outputs": [
    {
     "data": {
      "image/png": "[encoded data removed]",
      "text/plain": [
       "<Figure size 640x480 with 1 Axes>"
      ]
     },
     "metadata": {},
     "output_type": "display_data"
    }
   ],
   "source": [
    "price = new_pumpkins.price\n",
    "month = new_pumpkins.month\n",
    "\n",
    "plt.scatter(price, month)\n",
    "\n",
    "plt.show()"
   ]
  },
  {
   "cell_type": "markdown",
   "id": "45398d75",
   "metadata": {},
   "source": [
    "This plot does not make any sense, it spred the data points in a given month"
   ]
  },
  {
   "cell_type": "code",
   "execution_count": 30,
   "id": "51ec6740",
   "metadata": {},
   "outputs": [
    {
     "data": {
      "image/png": "[encoded data removed]",
      "text/plain": [
       "<Figure size 640x480 with 1 Axes>"
      ]
     },
     "metadata": {},
     "output_type": "display_data"
    }
   ],
   "source": [
    "new_pumpkins.groupby('month')['price'].mean().plot(kind='bar')\n",
    "plt.ylabel('Pumpkins Price')\n",
    "plt.show()"
   ]
  },
  {
   "cell_type": "markdown",
   "id": "d14e5251",
   "metadata": {},
   "source": [
    "**_If you come to this far_**\n",
    "## _Thank you very much!_"
   ]
  },
  {
   "cell_type": "markdown",
   "id": "3684d46e",
   "metadata": {},
   "source": []
  }
 ],
 "metadata": {
  "kernelspec": {
   "display_name": "base",
   "language": "python",
   "name": "python3"
  },
  "language_info": {
   "codemirror_mode": {
    "name": "ipython",
    "version": 3
   },
   "file_extension": ".py",
   "mimetype": "text/x-python",
   "name": "python",
   "nbconvert_exporter": "python",
   "pygments_lexer": "ipython3",
   "version": "3.12.3"
  }
 },
 "nbformat": 4,
 "nbformat_minor": 5
}
